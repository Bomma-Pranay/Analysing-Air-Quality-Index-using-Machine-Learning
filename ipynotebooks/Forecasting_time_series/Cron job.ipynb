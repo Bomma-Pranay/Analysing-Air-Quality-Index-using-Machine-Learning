{
 "cells": [
  {
   "cell_type": "code",
   "execution_count": 180,
   "id": "5be5b945",
   "metadata": {
    "ExecuteTime": {
     "end_time": "2023-11-27T07:37:48.564211Z",
     "start_time": "2023-11-27T07:37:48.532657Z"
    }
   },
   "outputs": [],
   "source": [
    "import requests\n",
    "import pandas as pd\n",
    "import pprint\n",
    "import csv\n",
    "from datetime import datetime\n",
    "import logging\n",
    "import os"
   ]
  },
  {
   "cell_type": "code",
   "execution_count": 116,
   "id": "2ca80ce5",
   "metadata": {
    "ExecuteTime": {
     "end_time": "2023-11-27T06:02:16.480244Z",
     "start_time": "2023-11-27T06:02:16.472604Z"
    }
   },
   "outputs": [],
   "source": [
    "# NISE\n",
    "NISE = \"nise gwal\"\n",
    "NISE_STATION = \"NISE Gwal Pahari, Gurugram, India\"\n",
    "NISE_OUTPUT = \"../../data/cron_job_data/nise_cron_output\"\n",
    "\n",
    "# Sector 51\n",
    "SECTOR_51 = \"Sector-51, Gurugram\"\n",
    "SECTOR_51_STATION = \"Sector-51, Gurugram, India\"\n",
    "SECTOR_51_OUTPUT = \"../../data/cron_job_data/sector_51_cron_output\"\n",
    "\n",
    "# Teri gram\n",
    "TERI_GRAM = \"Teri Gram\"\n",
    "TERI_GRAM_STATION = \"Teri Gram, Gurugram\"\n",
    "TERI_GRAM_OUTPUT = \"../../data/cron_job_data/teri_gram_cron_output\"\n",
    "\n",
    "# Vikas Sadan\n",
    "VIKAS_SADAN = \"Vikas Sadan\"\n",
    "VIKAS_SADAN_STATION = \"Vikas Sadan Gurgaon\"\n",
    "VIKAS_SADAN_OUTPUT = \"../../data/cron_job_data/vikas_sadan_cron_output\""
   ]
  },
  {
   "cell_type": "code",
   "execution_count": 212,
   "id": "66b45dab",
   "metadata": {
    "ExecuteTime": {
     "end_time": "2023-11-27T11:34:24.858148Z",
     "start_time": "2023-11-27T11:34:24.853119Z"
    }
   },
   "outputs": [],
   "source": [
    "def get_api_token():\n",
    "    try:\n",
    "        return os.environ.get('API_TOKEN')\n",
    "    except KeyError:\n",
    "        "
   ]
  },
  {
   "cell_type": "code",
   "execution_count": 236,
   "id": "4cd1049a",
   "metadata": {
    "ExecuteTime": {
     "end_time": "2023-11-27T16:38:08.546694Z",
     "start_time": "2023-11-27T16:38:08.524902Z"
    }
   },
   "outputs": [],
   "source": [
    "# In 2nd cron daily job, Incase if api fails, write to file with previous day\n",
    "\n",
    "def setData(station, output_file):\n",
    "    try:\n",
    "        # Create a \"logs\" directory if it doesn't exist\n",
    "        logs_directory = \"../../logs\"\n",
    "        os.makedirs(logs_directory, exist_ok=True)\n",
    "\n",
    "        # Set up logging configuration\n",
    "        log_file_path = os.path.join(logs_directory, f\"{datetime.now().strftime('%d-%m-%Y')}.log\")\n",
    "        logging.basicConfig(filename=log_file_path, level=logging.INFO, format=\"%(asctime)s - %(levelname)s - %(message)s\")\n",
    "\n",
    "        TOKEN = get_api_token()\n",
    "        url = \"https://api.waqi.info/search/?token=\" + TOKEN + \"&keyword=\" + station\n",
    "        response = requests.get(url)\n",
    "        if response.status_code == 200:\n",
    "            res = response.json()\n",
    "            result = []\n",
    "            if station.lower() in (res[\"data\"][0]['station']['name']).lower():\n",
    "                result.append(res[\"data\"][0]['aqi'])\n",
    "                result.append(res[\"data\"][0]['station']['name'])\n",
    "                result.append(pd.to_datetime(res[\"data\"][0]['time']['stime']))\n",
    "            logging.info(f\"station=> {station}, result => {result}\")\n",
    "            # Write to the file only when (station, time) is not already existing in the file.\n",
    "\n",
    "            new_timestamp = (res[\"data\"][0]['time']['stime'])\n",
    "            csv_file_path = output_file + '.csv'\n",
    "\n",
    "            # Check if the new timestamp is already present\n",
    "            with open(csv_file_path, 'r') as csv_file:\n",
    "                csv_reader = csv.reader(csv_file)\n",
    "                # Assuming the timestamp is in the 3rd column\n",
    "                existing_timestamps = [row[2] for row in csv_reader]\n",
    "\n",
    "            if new_timestamp not in existing_timestamps:\n",
    "                with open(csv_file_path, 'a', newline='') as csv_file:\n",
    "                    csv_writer = csv.writer(csv_file)\n",
    "                    csv_writer.writerow(result)\n",
    "                logging.info(f'The data has been written to {csv_file_path} with Timestamp: {new_timestamp}')\n",
    "            else:\n",
    "                logging.info(f'Timestamp {new_timestamp} already present in {csv_file_path}, not appending.')\n",
    "        else:\n",
    "            logging.info(f\"Error: {response.status_code} - {response.text}\")\n",
    "    except Exception as e:\n",
    "        print(\"Exception \",e)\n",
    "        logging.info(f\"Exception {type(e).__name__} has occured for station=> {station}\")"
   ]
  },
  {
   "cell_type": "code",
   "execution_count": 235,
   "id": "168b6cbd",
   "metadata": {
    "ExecuteTime": {
     "end_time": "2023-11-27T16:36:18.050058Z",
     "start_time": "2023-11-27T16:36:01.643277Z"
    }
   },
   "outputs": [
    {
     "name": "stdout",
     "output_type": "stream",
     "text": [
      "Enter your API token: 7c0e1c5a796cf1a14edf4bf1462a99e9b37d8bdf\n",
      "Enter your API token: 7c0e1c5a796cf1a14edf4bf1462a99e9b37d8bdf\n",
      "Enter your API token: 7c0e1c5a796cf1a14edf4bf1462a99e9b37d8bdf\n",
      "Enter your API token: 7c0e1c5a796cf1a14edf4bf1462a99e9b37d8bdf\n"
     ]
    }
   ],
   "source": [
    "# Initialize new file with ,,, or else you will get error\n",
    "\n",
    "setData(NISE,  NISE_OUTPUT)\n",
    "setData(SECTOR_51, SECTOR_51_OUTPUT)\n",
    "setData(TERI_GRAM, TERI_GRAM_OUTPUT)\n",
    "setData(VIKAS_SADAN, VIKAS_SADAN_OUTPUT)"
   ]
  },
  {
   "cell_type": "code",
   "execution_count": null,
   "id": "c6c0b4c6",
   "metadata": {},
   "outputs": [],
   "source": []
  }
 ],
 "metadata": {
  "kernelspec": {
   "display_name": "Python 3 (ipykernel)",
   "language": "python",
   "name": "python3"
  },
  "language_info": {
   "codemirror_mode": {
    "name": "ipython",
    "version": 3
   },
   "file_extension": ".py",
   "mimetype": "text/x-python",
   "name": "python",
   "nbconvert_exporter": "python",
   "pygments_lexer": "ipython3",
   "version": "3.10.2"
  },
  "varInspector": {
   "cols": {
    "lenName": 16,
    "lenType": 16,
    "lenVar": 40
   },
   "kernels_config": {
    "python": {
     "delete_cmd_postfix": "",
     "delete_cmd_prefix": "del ",
     "library": "var_list.py",
     "varRefreshCmd": "print(var_dic_list())"
    },
    "r": {
     "delete_cmd_postfix": ") ",
     "delete_cmd_prefix": "rm(",
     "library": "var_list.r",
     "varRefreshCmd": "cat(var_dic_list()) "
    }
   },
   "types_to_exclude": [
    "module",
    "function",
    "builtin_function_or_method",
    "instance",
    "_Feature"
   ],
   "window_display": false
  }
 },
 "nbformat": 4,
 "nbformat_minor": 5
}
