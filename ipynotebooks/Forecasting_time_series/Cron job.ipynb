{
 "cells": [
  {
   "cell_type": "code",
   "execution_count": 49,
   "id": "a03560a7",
   "metadata": {
    "ExecuteTime": {
     "end_time": "2023-11-26T16:49:20.445803Z",
     "start_time": "2023-11-26T16:49:20.422269Z"
    }
   },
   "outputs": [],
   "source": [
    "import requests\n",
    "import pandas as pd\n",
    "import pprint\n",
    "import csv\n",
    "from datetime import datetime"
   ]
  },
  {
   "cell_type": "code",
   "execution_count": 116,
   "id": "3820df1b",
   "metadata": {
    "ExecuteTime": {
     "end_time": "2023-11-27T06:02:16.480244Z",
     "start_time": "2023-11-27T06:02:16.472604Z"
    }
   },
   "outputs": [],
   "source": [
    "# NISE\n",
    "NISE = \"nise gwal\"\n",
    "NISE_STATION = \"NISE Gwal Pahari, Gurugram, India\"\n",
    "NISE_OUTPUT = \"../../data/cron_job_data/nise_cron_output\"\n",
    "\n",
    "# Sector 51\n",
    "SECTOR_51 = \"Sector-51, Gurugram\"\n",
    "SECTOR_51_STATION = \"Sector-51, Gurugram, India\"\n",
    "SECTOR_51_OUTPUT = \"../../data/cron_job_data/sector_51_cron_output\"\n",
    "\n",
    "# Teri gram\n",
    "TERI_GRAM = \"Teri Gram\"\n",
    "TERI_GRAM_STATION = \"Teri Gram, Gurugram\"\n",
    "TERI_GRAM_OUTPUT = \"../../data/cron_job_data/teri_gram_cron_output\"\n",
    "\n",
    "# Vikas Sadan\n",
    "VIKAS_SADAN = \"Vikas Sadan\"\n",
    "VIKAS_SADAN_STATION = \"Vikas Sadan Gurgaon\"\n",
    "VIKAS_SADAN_OUTPUT = \"../../data/cron_job_data/vikas_sadan_cron_output\""
   ]
  },
  {
   "cell_type": "code",
   "execution_count": 176,
   "id": "e45def8d",
   "metadata": {
    "ExecuteTime": {
     "end_time": "2023-11-27T07:03:33.009703Z",
     "start_time": "2023-11-27T07:03:32.991964Z"
    }
   },
   "outputs": [],
   "source": [
    "# In 2nd cron daily job, Incase if api fails, write to file with previous day\n",
    "\n",
    "def setData(station, output_file):\n",
    "    url = \"https://api.waqi.info/search/?token=7c0e1c5a796cf1a14edf4bf1462a99e9b37d8bdf&keyword=\" + station\n",
    "    response = requests.get(url)\n",
    "    if response.status_code == 200:\n",
    "        res = response.json()\n",
    "        result = []\n",
    "        if station.lower() in (res[\"data\"][0]['station']['name']).lower():\n",
    "            result.append(res[\"data\"][0]['aqi'])\n",
    "            result.append(res[\"data\"][0]['station']['name'])\n",
    "            result.append(pd.to_datetime(res[\"data\"][0]['time']['stime']))\n",
    "        print()\n",
    "        print(f\"station=> {station}, result => {result}\")\n",
    "        print()\n",
    "        # Write to the file only when (station, time) is not already existing in the file.\n",
    "\n",
    "        new_timestamp = (res[\"data\"][0]['time']['stime'])\n",
    "        csv_file_path = output_file + '.csv'\n",
    "\n",
    "        # Check if the new timestamp is already present\n",
    "        with open(csv_file_path, 'r') as csv_file:\n",
    "            csv_reader = csv.reader(csv_file)\n",
    "            # Assuming the timestamp is in the 3rd column\n",
    "            existing_timestamps = [row[2] for row in csv_reader]\n",
    "\n",
    "        if new_timestamp not in existing_timestamps:\n",
    "            with open(csv_file_path, 'a', newline='') as csv_file:\n",
    "                csv_writer = csv.writer(csv_file)\n",
    "                csv_writer.writerow(result)\n",
    "            print(\n",
    "                f'The data has been written to {csv_file_path} with Timestamp: {new_timestamp}'\n",
    "            )\n",
    "        else:\n",
    "            print(\n",
    "                f'Timestamp {new_timestamp} already present in {csv_file_path}, not appending.'\n",
    "            )\n",
    "    else:\n",
    "        print(f\"Error: {response.status_code} - {response.text}\")"
   ]
  },
  {
   "cell_type": "code",
   "execution_count": 178,
   "id": "465bcc60",
   "metadata": {
    "ExecuteTime": {
     "end_time": "2023-11-27T07:16:36.562753Z",
     "start_time": "2023-11-27T07:16:34.326062Z"
    }
   },
   "outputs": [
    {
     "name": "stdout",
     "output_type": "stream",
     "text": [
      "\n",
      "station=> nise gwal, result => ['200', 'NISE Gwal Pahari, Gurugram, India', Timestamp('2023-11-26 19:00:00')]\n",
      "\n",
      "Timestamp 2023-11-26 19:00:00 already present in ../../data/cron_job_data/nise_cron_output.csv, not appending.\n",
      "\n",
      "station=> Sector-51, Gurugram, result => ['229', 'Sector-51, Gurugram, India', Timestamp('2023-11-26 22:00:00')]\n",
      "\n",
      "Timestamp 2023-11-26 22:00:00 already present in ../../data/cron_job_data/sector_51_cron_output.csv, not appending.\n",
      "\n",
      "station=> Teri Gram, result => ['184', 'Teri Gram, Gurugram, India', Timestamp('2023-11-26 22:00:00')]\n",
      "\n",
      "Timestamp 2023-11-26 22:00:00 already present in ../../data/cron_job_data/teri_gram_cron_output.csv, not appending.\n",
      "\n",
      "station=> Vikas Sadan, result => ['223', 'Vikas Sadan Gurgaon, Gurgaon, India', Timestamp('2023-11-26 22:00:00')]\n",
      "\n",
      "Timestamp 2023-11-26 22:00:00 already present in ../../data/cron_job_data/vikas_sadan_cron_output.csv, not appending.\n"
     ]
    }
   ],
   "source": [
    "# Initialize new file with ,,, or else you will get error\n",
    "\n",
    "setData(NISE,  NISE_OUTPUT)\n",
    "setData(SECTOR_51, SECTOR_51_OUTPUT)\n",
    "setData(TERI_GRAM, TERI_GRAM_OUTPUT)\n",
    "setData(VIKAS_SADAN, VIKAS_SADAN_OUTPUT)"
   ]
  },
  {
   "cell_type": "code",
   "execution_count": null,
   "id": "d034c52c",
   "metadata": {
    "ExecuteTime": {
     "end_time": "2023-11-27T07:21:04.746973Z",
     "start_time": "2023-11-27T07:21:02.310502Z"
    }
   },
   "outputs": [],
   "source": []
  },
  {
   "cell_type": "code",
   "execution_count": null,
   "id": "03eb3441",
   "metadata": {},
   "outputs": [],
   "source": []
  }
 ],
 "metadata": {
  "kernelspec": {
   "display_name": "Python 3 (ipykernel)",
   "language": "python",
   "name": "python3"
  },
  "language_info": {
   "codemirror_mode": {
    "name": "ipython",
    "version": 3
   },
   "file_extension": ".py",
   "mimetype": "text/x-python",
   "name": "python",
   "nbconvert_exporter": "python",
   "pygments_lexer": "ipython3",
   "version": "3.10.2"
  },
  "varInspector": {
   "cols": {
    "lenName": 16,
    "lenType": 16,
    "lenVar": 40
   },
   "kernels_config": {
    "python": {
     "delete_cmd_postfix": "",
     "delete_cmd_prefix": "del ",
     "library": "var_list.py",
     "varRefreshCmd": "print(var_dic_list())"
    },
    "r": {
     "delete_cmd_postfix": ") ",
     "delete_cmd_prefix": "rm(",
     "library": "var_list.r",
     "varRefreshCmd": "cat(var_dic_list()) "
    }
   },
   "types_to_exclude": [
    "module",
    "function",
    "builtin_function_or_method",
    "instance",
    "_Feature"
   ],
   "window_display": false
  }
 },
 "nbformat": 4,
 "nbformat_minor": 5
}
