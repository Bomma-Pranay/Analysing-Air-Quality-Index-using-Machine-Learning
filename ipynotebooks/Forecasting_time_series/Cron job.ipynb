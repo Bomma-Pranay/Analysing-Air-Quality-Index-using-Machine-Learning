{
 "cells": [
  {
   "cell_type": "code",
   "execution_count": 386,
   "id": "49bd385e",
   "metadata": {
    "ExecuteTime": {
     "end_time": "2023-12-01T02:34:13.649172Z",
     "start_time": "2023-12-01T02:34:13.623117Z"
    }
   },
   "outputs": [],
   "source": [
    "import requests\n",
    "import pandas as pd\n",
    "import pprint\n",
    "import csv\n",
    "from datetime import datetime\n",
    "import logging\n",
    "import os\n",
    "import logging.handlers\n",
    "# NISE\n",
    "NISE = \"nise gwal\"\n",
    "NISE_STATION = \"NISE Gwal Pahari, Gurugram, India\"\n",
    "NISE_OUTPUT = \"../../data/cron_job_data/nise_cron_output\"\n",
    "\n",
    "# Sector 51\n",
    "SECTOR_51 = \"Sector-51, Gurugram\"\n",
    "SECTOR_51_STATION = \"Sector-51, Gurugram, India\"\n",
    "SECTOR_51_OUTPUT = \"../../data/cron_job_data/sector_51_cron_output\"\n",
    "\n",
    "# Teri gram\n",
    "TERI_GRAM = \"Teri Gram\"\n",
    "TERI_GRAM_STATION = \"Teri Gram, Gurugram\"\n",
    "TERI_GRAM_OUTPUT = \"../../data/cron_job_data/teri_gram_cron_output\"\n",
    "\n",
    "# Vikas Sadan\n",
    "VIKAS_SADAN = \"Vikas Sadan\"\n",
    "VIKAS_SADAN_STATION = \"Vikas Sadan Gurgaon\"\n",
    "VIKAS_SADAN_OUTPUT = \"../../data/cron_job_data/vikas_sadan_cron_output\"\n",
    "\n",
    "stations = [(NISE,  NISE_OUTPUT), (SECTOR_51, SECTOR_51_OUTPUT), (TERI_GRAM, TERI_GRAM_OUTPUT), (VIKAS_SADAN, VIKAS_SADAN_OUTPUT)]\n",
    "\n",
    "def get_api_token():\n",
    "    try:\n",
    "        return os.environ['API_TOKEN']\n",
    "    except KeyError:\n",
    "        print(\"KeyError\")\n",
    "         # If running locally, use an alternative method to get the API token\n",
    "        return input(\"Enter your API token: \")\n",
    "    \n",
    "# Incase if api fails, write to file with previous day\n",
    "# In 2nd cron daily job, Incase if api fails, write to file with previous day\n",
    "def setData(station, output_file):\n",
    "    try:\n",
    "        # Logging\n",
    "        logger = logging.getLogger(__name__)\n",
    "        logger.setLevel(logging.INFO)\n",
    "        logger_file_handler = logging.handlers.RotatingFileHandler(\n",
    "            f\"logs/{datetime.now().strftime('%d-%m-%Y')}.log\",\n",
    "            maxBytes=1024 * 1024,\n",
    "            backupCount=1,\n",
    "            encoding=\"utf8\",\n",
    "        )\n",
    "        formatter = logging.Formatter(\"%(asctime)s - %(name)s - %(levelname)s - %(message)s\")\n",
    "        logger_file_handler.setFormatter(formatter)\n",
    "        logger.addHandler(logger_file_handler)\n",
    "        \n",
    "        # Get API token\n",
    "        TOKEN = get_api_token()\n",
    "\n",
    "        # Get the API response\n",
    "        url = \"https://api.waqi.info/search/?token=\" + TOKEN + \"&keyword=\" + station\n",
    "        response = requests.get(url)\n",
    "        if response.status_code == 200:\n",
    "            res = response.json()\n",
    "            result = []\n",
    "            if station.lower() in (res[\"data\"][0]['station']['name']).lower():\n",
    "                result.append(res[\"data\"][0]['aqi'])\n",
    "                result.append(res[\"data\"][0]['station']['name'])\n",
    "                result.append(pd.to_datetime(res[\"data\"][0]['time']['stime']))\n",
    "            logger.info(f\"station=> {station}, result => {result}\")\n",
    "            print(f\"station=> {station}, result => {result}\")\n",
    "            \n",
    "            # Write to the file only when (station, time) is not already existing in the file.\n",
    "\n",
    "            new_timestamp = (res[\"data\"][0]['time']['stime'])\n",
    "            csv_file_path = output_file + '.csv'\n",
    "\n",
    "            # Check if the new timestamp is already present\n",
    "            with open(csv_file_path, 'r') as csv_file:\n",
    "                csv_reader = csv.reader(csv_file)\n",
    "                # Assuming the timestamp is in the 3rd column\n",
    "                existing_timestamps = [row[2] for row in csv_reader]\n",
    "\n",
    "            if new_timestamp not in existing_timestamps:\n",
    "                with open(csv_file_path, 'a', newline='') as csv_file:\n",
    "                    csv_writer = csv.writer(csv_file)\n",
    "                    csv_writer.writerow(result)\n",
    "                print(f'The data has been written to {csv_file_path} with Timestamp: {new_timestamp}')\n",
    "                logger.info(f'The data has been written to {csv_file_path} with Timestamp: {new_timestamp}')\n",
    "            else:\n",
    "                print(f'Timestamp {new_timestamp} already present in {csv_file_path}, not appending.')\n",
    "                logger.info(f'Timestamp {new_timestamp} already present in {csv_file_path}, not appending.')\n",
    "        else:\n",
    "            print(f\"Error: {response.status_code} - {response.text}\")\n",
    "            logger.info(f\"Error: {response.status_code} - {response.text}\")\n",
    "    except Exception as e:\n",
    "        \n",
    "        logging.info(\"1\")\n",
    "        logging.debug(\"2\")\n",
    "#         print(f\"Exception {type(e).__name__} has occured for station=> {station}\")\n",
    "        logger.info(f\"Exception {type(e).__name__} has occured for station=> {station}\")\n",
    "        \n",
    "def setLogger():\n",
    "    logger = logging.getLogger(__name__)\n",
    "    logger.setLevel(logging.INFO)\n",
    "    logger_file_handler = logging.handlers.RotatingFileHandler(\n",
    "        f\"logs/{datetime.now().strftime('%d-%m-%Y')}.log\",\n",
    "        maxBytes=1024 * 1024,\n",
    "        backupCount=1,\n",
    "        encoding=\"utf8\",\n",
    "    )\n",
    "    formatter = logging.Formatter(\"%(asctime)s - %(name)s - %(levelname)s - %(message)s\")\n",
    "    logger_file_handler.setFormatter(formatter)\n",
    "    logger.addHandler(logger_file_handler)\n",
    "    return logger\n"
   ]
  },
  {
   "cell_type": "code",
   "execution_count": 387,
   "id": "20448670",
   "metadata": {
    "ExecuteTime": {
     "end_time": "2023-12-01T02:34:17.886451Z",
     "start_time": "2023-12-01T02:34:14.026918Z"
    }
   },
   "outputs": [
    {
     "name": "stdout",
     "output_type": "stream",
     "text": [
      "KeyError\n",
      "Enter your API token: 7c0e1c5a796cf1a14edf4bf1462a99e9b37d8bdf\n"
     ]
    },
    {
     "ename": "AttributeError",
     "evalue": "'float' object has no attribute 'astimezone'",
     "output_type": "error",
     "traceback": [
      "\u001b[0;31m---------------------------------------------------------------------------\u001b[0m",
      "\u001b[0;31mAttributeError\u001b[0m                            Traceback (most recent call last)",
      "Cell \u001b[0;32mIn [386], line 69\u001b[0m, in \u001b[0;36msetData\u001b[0;34m(station, output_file)\u001b[0m\n\u001b[1;32m     68\u001b[0m     result\u001b[38;5;241m.\u001b[39mappend(pd\u001b[38;5;241m.\u001b[39mto_datetime(res[\u001b[38;5;124m\"\u001b[39m\u001b[38;5;124mdata\u001b[39m\u001b[38;5;124m\"\u001b[39m][\u001b[38;5;241m0\u001b[39m][\u001b[38;5;124m'\u001b[39m\u001b[38;5;124mtime\u001b[39m\u001b[38;5;124m'\u001b[39m][\u001b[38;5;124m'\u001b[39m\u001b[38;5;124mstime\u001b[39m\u001b[38;5;124m'\u001b[39m]))\n\u001b[0;32m---> 69\u001b[0m \u001b[43mlogger\u001b[49m\u001b[38;5;241;43m.\u001b[39;49m\u001b[43minfo\u001b[49m\u001b[43m(\u001b[49m\u001b[38;5;124;43mf\u001b[39;49m\u001b[38;5;124;43m\"\u001b[39;49m\u001b[38;5;124;43mstation=> \u001b[39;49m\u001b[38;5;132;43;01m{\u001b[39;49;00m\u001b[43mstation\u001b[49m\u001b[38;5;132;43;01m}\u001b[39;49;00m\u001b[38;5;124;43m, result => \u001b[39;49m\u001b[38;5;132;43;01m{\u001b[39;49;00m\u001b[43mresult\u001b[49m\u001b[38;5;132;43;01m}\u001b[39;49;00m\u001b[38;5;124;43m\"\u001b[39;49m\u001b[43m)\u001b[49m\n\u001b[1;32m     70\u001b[0m \u001b[38;5;28mprint\u001b[39m(\u001b[38;5;124mf\u001b[39m\u001b[38;5;124m\"\u001b[39m\u001b[38;5;124mstation=> \u001b[39m\u001b[38;5;132;01m{\u001b[39;00mstation\u001b[38;5;132;01m}\u001b[39;00m\u001b[38;5;124m, result => \u001b[39m\u001b[38;5;132;01m{\u001b[39;00mresult\u001b[38;5;132;01m}\u001b[39;00m\u001b[38;5;124m\"\u001b[39m)\n",
      "File \u001b[0;32m/Library/Frameworks/Python.framework/Versions/3.10/lib/python3.10/logging/__init__.py:1477\u001b[0m, in \u001b[0;36mLogger.info\u001b[0;34m(self, msg, *args, **kwargs)\u001b[0m\n\u001b[1;32m   1476\u001b[0m \u001b[38;5;28;01mif\u001b[39;00m \u001b[38;5;28mself\u001b[39m\u001b[38;5;241m.\u001b[39misEnabledFor(INFO):\n\u001b[0;32m-> 1477\u001b[0m     \u001b[38;5;28;43mself\u001b[39;49m\u001b[38;5;241;43m.\u001b[39;49m\u001b[43m_log\u001b[49m\u001b[43m(\u001b[49m\u001b[43mINFO\u001b[49m\u001b[43m,\u001b[49m\u001b[43m \u001b[49m\u001b[43mmsg\u001b[49m\u001b[43m,\u001b[49m\u001b[43m \u001b[49m\u001b[43margs\u001b[49m\u001b[43m,\u001b[49m\u001b[43m \u001b[49m\u001b[38;5;241;43m*\u001b[39;49m\u001b[38;5;241;43m*\u001b[39;49m\u001b[43mkwargs\u001b[49m\u001b[43m)\u001b[49m\n",
      "File \u001b[0;32m/Library/Frameworks/Python.framework/Versions/3.10/lib/python3.10/logging/__init__.py:1624\u001b[0m, in \u001b[0;36mLogger._log\u001b[0;34m(self, level, msg, args, exc_info, extra, stack_info, stacklevel)\u001b[0m\n\u001b[1;32m   1622\u001b[0m record \u001b[38;5;241m=\u001b[39m \u001b[38;5;28mself\u001b[39m\u001b[38;5;241m.\u001b[39mmakeRecord(\u001b[38;5;28mself\u001b[39m\u001b[38;5;241m.\u001b[39mname, level, fn, lno, msg, args,\n\u001b[1;32m   1623\u001b[0m                          exc_info, func, extra, sinfo)\n\u001b[0;32m-> 1624\u001b[0m \u001b[38;5;28;43mself\u001b[39;49m\u001b[38;5;241;43m.\u001b[39;49m\u001b[43mhandle\u001b[49m\u001b[43m(\u001b[49m\u001b[43mrecord\u001b[49m\u001b[43m)\u001b[49m\n",
      "File \u001b[0;32m/Library/Frameworks/Python.framework/Versions/3.10/lib/python3.10/logging/__init__.py:1633\u001b[0m, in \u001b[0;36mLogger.handle\u001b[0;34m(self, record)\u001b[0m\n\u001b[1;32m   1627\u001b[0m \u001b[38;5;124;03m\"\"\"\u001b[39;00m\n\u001b[1;32m   1628\u001b[0m \u001b[38;5;124;03mCall the handlers for the specified record.\u001b[39;00m\n\u001b[1;32m   1629\u001b[0m \n\u001b[1;32m   1630\u001b[0m \u001b[38;5;124;03mThis method is used for unpickled records received from a socket, as\u001b[39;00m\n\u001b[1;32m   1631\u001b[0m \u001b[38;5;124;03mwell as those created locally. Logger-level filtering is applied.\u001b[39;00m\n\u001b[1;32m   1632\u001b[0m \u001b[38;5;124;03m\"\"\"\u001b[39;00m\n\u001b[0;32m-> 1633\u001b[0m \u001b[38;5;28;01mif\u001b[39;00m (\u001b[38;5;129;01mnot\u001b[39;00m \u001b[38;5;28mself\u001b[39m\u001b[38;5;241m.\u001b[39mdisabled) \u001b[38;5;129;01mand\u001b[39;00m \u001b[38;5;28;43mself\u001b[39;49m\u001b[38;5;241;43m.\u001b[39;49m\u001b[43mfilter\u001b[49m\u001b[43m(\u001b[49m\u001b[43mrecord\u001b[49m\u001b[43m)\u001b[49m:\n\u001b[1;32m   1634\u001b[0m     \u001b[38;5;28mself\u001b[39m\u001b[38;5;241m.\u001b[39mcallHandlers(record)\n",
      "File \u001b[0;32m/Library/Frameworks/Python.framework/Versions/3.10/lib/python3.10/logging/__init__.py:823\u001b[0m, in \u001b[0;36mFilterer.filter\u001b[0;34m(self, record)\u001b[0m\n\u001b[1;32m    822\u001b[0m \u001b[38;5;28;01melse\u001b[39;00m:\n\u001b[0;32m--> 823\u001b[0m     result \u001b[38;5;241m=\u001b[39m \u001b[43mf\u001b[49m\u001b[43m(\u001b[49m\u001b[43mrecord\u001b[49m\u001b[43m)\u001b[49m \u001b[38;5;66;03m# assume callable - will raise if not\u001b[39;00m\n\u001b[1;32m    824\u001b[0m \u001b[38;5;28;01mif\u001b[39;00m \u001b[38;5;129;01mnot\u001b[39;00m result:\n",
      "Cell \u001b[0;32mIn [348], line 94\u001b[0m, in \u001b[0;36mlocal_time_formatter\u001b[0;34m(record)\u001b[0m\n\u001b[1;32m     93\u001b[0m local_tz \u001b[38;5;241m=\u001b[39m timezone(\u001b[38;5;124m'\u001b[39m\u001b[38;5;124mAsia/Kolkata\u001b[39m\u001b[38;5;124m'\u001b[39m)  \u001b[38;5;66;03m# Replace with your local time zone\u001b[39;00m\n\u001b[0;32m---> 94\u001b[0m local_dt \u001b[38;5;241m=\u001b[39m \u001b[43mrecord\u001b[49m\u001b[38;5;241;43m.\u001b[39;49m\u001b[43mcreated\u001b[49m\u001b[38;5;241;43m.\u001b[39;49m\u001b[43mastimezone\u001b[49m(local_tz)\n\u001b[1;32m     95\u001b[0m local_time \u001b[38;5;241m=\u001b[39m local_dt\u001b[38;5;241m.\u001b[39mstrftime(\u001b[38;5;124m'\u001b[39m\u001b[38;5;124m%\u001b[39m\u001b[38;5;124mY-\u001b[39m\u001b[38;5;124m%\u001b[39m\u001b[38;5;124mm-\u001b[39m\u001b[38;5;132;01m%d\u001b[39;00m\u001b[38;5;124m \u001b[39m\u001b[38;5;124m%\u001b[39m\u001b[38;5;124mH:\u001b[39m\u001b[38;5;124m%\u001b[39m\u001b[38;5;124mM:\u001b[39m\u001b[38;5;124m%\u001b[39m\u001b[38;5;124mS\u001b[39m\u001b[38;5;124m'\u001b[39m)\n",
      "\u001b[0;31mAttributeError\u001b[0m: 'float' object has no attribute 'astimezone'",
      "\nDuring handling of the above exception, another exception occurred:\n",
      "\u001b[0;31mAttributeError\u001b[0m                            Traceback (most recent call last)",
      "Cell \u001b[0;32mIn [387], line 4\u001b[0m\n\u001b[1;32m      2\u001b[0m stations \u001b[38;5;241m=\u001b[39m [(NISE,  NISE_OUTPUT), (SECTOR_51, SECTOR_51_OUTPUT), (TERI_GRAM, TERI_GRAM_OUTPUT), (VIKAS_SADAN, VIKAS_SADAN_OUTPUT)]\n\u001b[1;32m      3\u001b[0m \u001b[38;5;28;01mfor\u001b[39;00m station, station_location \u001b[38;5;129;01min\u001b[39;00m stations:\n\u001b[0;32m----> 4\u001b[0m     \u001b[43msetData\u001b[49m\u001b[43m(\u001b[49m\u001b[43mstation\u001b[49m\u001b[43m,\u001b[49m\u001b[43m  \u001b[49m\u001b[43mstation_location\u001b[49m\u001b[43m)\u001b[49m\n",
      "Cell \u001b[0;32mIn [386], line 100\u001b[0m, in \u001b[0;36msetData\u001b[0;34m(station, output_file)\u001b[0m\n\u001b[1;32m     98\u001b[0m         logging\u001b[38;5;241m.\u001b[39mdebug(\u001b[38;5;124m\"\u001b[39m\u001b[38;5;124m2\u001b[39m\u001b[38;5;124m\"\u001b[39m)\n\u001b[1;32m     99\u001b[0m \u001b[38;5;66;03m#         print(f\"Exception {type(e).__name__} has occured for station=> {station}\")\u001b[39;00m\n\u001b[0;32m--> 100\u001b[0m         \u001b[43mlogger\u001b[49m\u001b[38;5;241;43m.\u001b[39;49m\u001b[43minfo\u001b[49m\u001b[43m(\u001b[49m\u001b[38;5;124;43mf\u001b[39;49m\u001b[38;5;124;43m\"\u001b[39;49m\u001b[38;5;124;43mException \u001b[39;49m\u001b[38;5;132;43;01m{\u001b[39;49;00m\u001b[38;5;28;43mtype\u001b[39;49m\u001b[43m(\u001b[49m\u001b[43me\u001b[49m\u001b[43m)\u001b[49m\u001b[38;5;241;43m.\u001b[39;49m\u001b[38;5;18;43m__name__\u001b[39;49m\u001b[38;5;132;43;01m}\u001b[39;49;00m\u001b[38;5;124;43m has occured for station=> \u001b[39;49m\u001b[38;5;132;43;01m{\u001b[39;49;00m\u001b[43mstation\u001b[49m\u001b[38;5;132;43;01m}\u001b[39;49;00m\u001b[38;5;124;43m\"\u001b[39;49m\u001b[43m)\u001b[49m\n",
      "File \u001b[0;32m/Library/Frameworks/Python.framework/Versions/3.10/lib/python3.10/logging/__init__.py:1477\u001b[0m, in \u001b[0;36mLogger.info\u001b[0;34m(self, msg, *args, **kwargs)\u001b[0m\n\u001b[1;32m   1468\u001b[0m \u001b[38;5;124;03m\"\"\"\u001b[39;00m\n\u001b[1;32m   1469\u001b[0m \u001b[38;5;124;03mLog 'msg % args' with severity 'INFO'.\u001b[39;00m\n\u001b[1;32m   1470\u001b[0m \n\u001b[0;32m   (...)\u001b[0m\n\u001b[1;32m   1474\u001b[0m \u001b[38;5;124;03mlogger.info(\"Houston, we have a %s\", \"interesting problem\", exc_info=1)\u001b[39;00m\n\u001b[1;32m   1475\u001b[0m \u001b[38;5;124;03m\"\"\"\u001b[39;00m\n\u001b[1;32m   1476\u001b[0m \u001b[38;5;28;01mif\u001b[39;00m \u001b[38;5;28mself\u001b[39m\u001b[38;5;241m.\u001b[39misEnabledFor(INFO):\n\u001b[0;32m-> 1477\u001b[0m     \u001b[38;5;28;43mself\u001b[39;49m\u001b[38;5;241;43m.\u001b[39;49m\u001b[43m_log\u001b[49m\u001b[43m(\u001b[49m\u001b[43mINFO\u001b[49m\u001b[43m,\u001b[49m\u001b[43m \u001b[49m\u001b[43mmsg\u001b[49m\u001b[43m,\u001b[49m\u001b[43m \u001b[49m\u001b[43margs\u001b[49m\u001b[43m,\u001b[49m\u001b[43m \u001b[49m\u001b[38;5;241;43m*\u001b[39;49m\u001b[38;5;241;43m*\u001b[39;49m\u001b[43mkwargs\u001b[49m\u001b[43m)\u001b[49m\n",
      "File \u001b[0;32m/Library/Frameworks/Python.framework/Versions/3.10/lib/python3.10/logging/__init__.py:1624\u001b[0m, in \u001b[0;36mLogger._log\u001b[0;34m(self, level, msg, args, exc_info, extra, stack_info, stacklevel)\u001b[0m\n\u001b[1;32m   1621\u001b[0m         exc_info \u001b[38;5;241m=\u001b[39m sys\u001b[38;5;241m.\u001b[39mexc_info()\n\u001b[1;32m   1622\u001b[0m record \u001b[38;5;241m=\u001b[39m \u001b[38;5;28mself\u001b[39m\u001b[38;5;241m.\u001b[39mmakeRecord(\u001b[38;5;28mself\u001b[39m\u001b[38;5;241m.\u001b[39mname, level, fn, lno, msg, args,\n\u001b[1;32m   1623\u001b[0m                          exc_info, func, extra, sinfo)\n\u001b[0;32m-> 1624\u001b[0m \u001b[38;5;28;43mself\u001b[39;49m\u001b[38;5;241;43m.\u001b[39;49m\u001b[43mhandle\u001b[49m\u001b[43m(\u001b[49m\u001b[43mrecord\u001b[49m\u001b[43m)\u001b[49m\n",
      "File \u001b[0;32m/Library/Frameworks/Python.framework/Versions/3.10/lib/python3.10/logging/__init__.py:1633\u001b[0m, in \u001b[0;36mLogger.handle\u001b[0;34m(self, record)\u001b[0m\n\u001b[1;32m   1626\u001b[0m \u001b[38;5;28;01mdef\u001b[39;00m \u001b[38;5;21mhandle\u001b[39m(\u001b[38;5;28mself\u001b[39m, record):\n\u001b[1;32m   1627\u001b[0m     \u001b[38;5;124;03m\"\"\"\u001b[39;00m\n\u001b[1;32m   1628\u001b[0m \u001b[38;5;124;03m    Call the handlers for the specified record.\u001b[39;00m\n\u001b[1;32m   1629\u001b[0m \n\u001b[1;32m   1630\u001b[0m \u001b[38;5;124;03m    This method is used for unpickled records received from a socket, as\u001b[39;00m\n\u001b[1;32m   1631\u001b[0m \u001b[38;5;124;03m    well as those created locally. Logger-level filtering is applied.\u001b[39;00m\n\u001b[1;32m   1632\u001b[0m \u001b[38;5;124;03m    \"\"\"\u001b[39;00m\n\u001b[0;32m-> 1633\u001b[0m     \u001b[38;5;28;01mif\u001b[39;00m (\u001b[38;5;129;01mnot\u001b[39;00m \u001b[38;5;28mself\u001b[39m\u001b[38;5;241m.\u001b[39mdisabled) \u001b[38;5;129;01mand\u001b[39;00m \u001b[38;5;28;43mself\u001b[39;49m\u001b[38;5;241;43m.\u001b[39;49m\u001b[43mfilter\u001b[49m\u001b[43m(\u001b[49m\u001b[43mrecord\u001b[49m\u001b[43m)\u001b[49m:\n\u001b[1;32m   1634\u001b[0m         \u001b[38;5;28mself\u001b[39m\u001b[38;5;241m.\u001b[39mcallHandlers(record)\n",
      "File \u001b[0;32m/Library/Frameworks/Python.framework/Versions/3.10/lib/python3.10/logging/__init__.py:823\u001b[0m, in \u001b[0;36mFilterer.filter\u001b[0;34m(self, record)\u001b[0m\n\u001b[1;32m    821\u001b[0m     result \u001b[38;5;241m=\u001b[39m f\u001b[38;5;241m.\u001b[39mfilter(record)\n\u001b[1;32m    822\u001b[0m \u001b[38;5;28;01melse\u001b[39;00m:\n\u001b[0;32m--> 823\u001b[0m     result \u001b[38;5;241m=\u001b[39m \u001b[43mf\u001b[49m\u001b[43m(\u001b[49m\u001b[43mrecord\u001b[49m\u001b[43m)\u001b[49m \u001b[38;5;66;03m# assume callable - will raise if not\u001b[39;00m\n\u001b[1;32m    824\u001b[0m \u001b[38;5;28;01mif\u001b[39;00m \u001b[38;5;129;01mnot\u001b[39;00m result:\n\u001b[1;32m    825\u001b[0m     rv \u001b[38;5;241m=\u001b[39m \u001b[38;5;28;01mFalse\u001b[39;00m\n",
      "Cell \u001b[0;32mIn [348], line 94\u001b[0m, in \u001b[0;36mlocal_time_formatter\u001b[0;34m(record)\u001b[0m\n\u001b[1;32m     92\u001b[0m \u001b[38;5;28;01mdef\u001b[39;00m \u001b[38;5;21mlocal_time_formatter\u001b[39m(record):\n\u001b[1;32m     93\u001b[0m     local_tz \u001b[38;5;241m=\u001b[39m timezone(\u001b[38;5;124m'\u001b[39m\u001b[38;5;124mAsia/Kolkata\u001b[39m\u001b[38;5;124m'\u001b[39m)  \u001b[38;5;66;03m# Replace with your local time zone\u001b[39;00m\n\u001b[0;32m---> 94\u001b[0m     local_dt \u001b[38;5;241m=\u001b[39m \u001b[43mrecord\u001b[49m\u001b[38;5;241;43m.\u001b[39;49m\u001b[43mcreated\u001b[49m\u001b[38;5;241;43m.\u001b[39;49m\u001b[43mastimezone\u001b[49m(local_tz)\n\u001b[1;32m     95\u001b[0m     local_time \u001b[38;5;241m=\u001b[39m local_dt\u001b[38;5;241m.\u001b[39mstrftime(\u001b[38;5;124m'\u001b[39m\u001b[38;5;124m%\u001b[39m\u001b[38;5;124mY-\u001b[39m\u001b[38;5;124m%\u001b[39m\u001b[38;5;124mm-\u001b[39m\u001b[38;5;132;01m%d\u001b[39;00m\u001b[38;5;124m \u001b[39m\u001b[38;5;124m%\u001b[39m\u001b[38;5;124mH:\u001b[39m\u001b[38;5;124m%\u001b[39m\u001b[38;5;124mM:\u001b[39m\u001b[38;5;124m%\u001b[39m\u001b[38;5;124mS\u001b[39m\u001b[38;5;124m'\u001b[39m)\n\u001b[1;32m     96\u001b[0m     record\u001b[38;5;241m.\u001b[39masctime \u001b[38;5;241m=\u001b[39m local_time\n",
      "\u001b[0;31mAttributeError\u001b[0m: 'float' object has no attribute 'astimezone'"
     ]
    }
   ],
   "source": [
    "if __name__ == \"__main__\":\n",
    "    stations = [(NISE,  NISE_OUTPUT), (SECTOR_51, SECTOR_51_OUTPUT), (TERI_GRAM, TERI_GRAM_OUTPUT), (VIKAS_SADAN, VIKAS_SADAN_OUTPUT)]\n",
    "    for station, station_location in stations:\n",
    "        setData(station,  station_location)"
   ]
  },
  {
   "cell_type": "code",
   "execution_count": 374,
   "id": "9ed86042",
   "metadata": {
    "ExecuteTime": {
     "end_time": "2023-12-01T02:32:19.895838Z",
     "start_time": "2023-12-01T02:32:19.886384Z"
    }
   },
   "outputs": [],
   "source": [
    "def writeData(station_location):\n",
    "    df_api = pd.read_csv(station_location + \".csv\")\n",
    "    df_api['Time'] = pd.to_datetime(df_api['Time'])\n",
    "    df_api.set_index('Time', inplace=True)\n",
    "    df_api.resample('D').mean()"
   ]
  },
  {
   "cell_type": "code",
   "execution_count": 376,
   "id": "d76e9365",
   "metadata": {
    "ExecuteTime": {
     "end_time": "2023-12-01T02:32:36.225907Z",
     "start_time": "2023-12-01T02:32:30.077277Z"
    }
   },
   "outputs": [
    {
     "name": "stdout",
     "output_type": "stream",
     "text": [
      "KeyError\n",
      "Enter your API token: 7c0e1c5a796cf1a14edf4bf1462a99e9b37d8bdf\n",
      "Exception AttributeError has occured for station=> nise gwal\n"
     ]
    },
    {
     "ename": "AttributeError",
     "evalue": "'float' object has no attribute 'astimezone'",
     "output_type": "error",
     "traceback": [
      "\u001b[0;31m---------------------------------------------------------------------------\u001b[0m",
      "\u001b[0;31mAttributeError\u001b[0m                            Traceback (most recent call last)",
      "Cell \u001b[0;32mIn [375], line 55\u001b[0m, in \u001b[0;36msetData\u001b[0;34m(station, output_file, logger, TOKEN)\u001b[0m\n\u001b[1;32m     54\u001b[0m     result\u001b[38;5;241m.\u001b[39mappend(pd\u001b[38;5;241m.\u001b[39mto_datetime(res[\u001b[38;5;124m\"\u001b[39m\u001b[38;5;124mdata\u001b[39m\u001b[38;5;124m\"\u001b[39m][\u001b[38;5;241m0\u001b[39m][\u001b[38;5;124m'\u001b[39m\u001b[38;5;124mtime\u001b[39m\u001b[38;5;124m'\u001b[39m][\u001b[38;5;124m'\u001b[39m\u001b[38;5;124mstime\u001b[39m\u001b[38;5;124m'\u001b[39m]))\n\u001b[0;32m---> 55\u001b[0m \u001b[43mlogger\u001b[49m\u001b[38;5;241;43m.\u001b[39;49m\u001b[43minfo\u001b[49m\u001b[43m(\u001b[49m\u001b[38;5;124;43mf\u001b[39;49m\u001b[38;5;124;43m\"\u001b[39;49m\u001b[38;5;124;43mstation=> \u001b[39;49m\u001b[38;5;132;43;01m{\u001b[39;49;00m\u001b[43mstation\u001b[49m\u001b[38;5;132;43;01m}\u001b[39;49;00m\u001b[38;5;124;43m, result => \u001b[39;49m\u001b[38;5;132;43;01m{\u001b[39;49;00m\u001b[43mresult\u001b[49m\u001b[38;5;132;43;01m}\u001b[39;49;00m\u001b[38;5;124;43m\"\u001b[39;49m\u001b[43m)\u001b[49m\n\u001b[1;32m     56\u001b[0m \u001b[38;5;28mprint\u001b[39m(\u001b[38;5;124mf\u001b[39m\u001b[38;5;124m\"\u001b[39m\u001b[38;5;124mstation=> \u001b[39m\u001b[38;5;132;01m{\u001b[39;00mstation\u001b[38;5;132;01m}\u001b[39;00m\u001b[38;5;124m, result => \u001b[39m\u001b[38;5;132;01m{\u001b[39;00mresult\u001b[38;5;132;01m}\u001b[39;00m\u001b[38;5;124m\"\u001b[39m)\n",
      "File \u001b[0;32m/Library/Frameworks/Python.framework/Versions/3.10/lib/python3.10/logging/__init__.py:1477\u001b[0m, in \u001b[0;36mLogger.info\u001b[0;34m(self, msg, *args, **kwargs)\u001b[0m\n\u001b[1;32m   1476\u001b[0m \u001b[38;5;28;01mif\u001b[39;00m \u001b[38;5;28mself\u001b[39m\u001b[38;5;241m.\u001b[39misEnabledFor(INFO):\n\u001b[0;32m-> 1477\u001b[0m     \u001b[38;5;28;43mself\u001b[39;49m\u001b[38;5;241;43m.\u001b[39;49m\u001b[43m_log\u001b[49m\u001b[43m(\u001b[49m\u001b[43mINFO\u001b[49m\u001b[43m,\u001b[49m\u001b[43m \u001b[49m\u001b[43mmsg\u001b[49m\u001b[43m,\u001b[49m\u001b[43m \u001b[49m\u001b[43margs\u001b[49m\u001b[43m,\u001b[49m\u001b[43m \u001b[49m\u001b[38;5;241;43m*\u001b[39;49m\u001b[38;5;241;43m*\u001b[39;49m\u001b[43mkwargs\u001b[49m\u001b[43m)\u001b[49m\n",
      "File \u001b[0;32m/Library/Frameworks/Python.framework/Versions/3.10/lib/python3.10/logging/__init__.py:1624\u001b[0m, in \u001b[0;36mLogger._log\u001b[0;34m(self, level, msg, args, exc_info, extra, stack_info, stacklevel)\u001b[0m\n\u001b[1;32m   1622\u001b[0m record \u001b[38;5;241m=\u001b[39m \u001b[38;5;28mself\u001b[39m\u001b[38;5;241m.\u001b[39mmakeRecord(\u001b[38;5;28mself\u001b[39m\u001b[38;5;241m.\u001b[39mname, level, fn, lno, msg, args,\n\u001b[1;32m   1623\u001b[0m                          exc_info, func, extra, sinfo)\n\u001b[0;32m-> 1624\u001b[0m \u001b[38;5;28;43mself\u001b[39;49m\u001b[38;5;241;43m.\u001b[39;49m\u001b[43mhandle\u001b[49m\u001b[43m(\u001b[49m\u001b[43mrecord\u001b[49m\u001b[43m)\u001b[49m\n",
      "File \u001b[0;32m/Library/Frameworks/Python.framework/Versions/3.10/lib/python3.10/logging/__init__.py:1633\u001b[0m, in \u001b[0;36mLogger.handle\u001b[0;34m(self, record)\u001b[0m\n\u001b[1;32m   1627\u001b[0m \u001b[38;5;124;03m\"\"\"\u001b[39;00m\n\u001b[1;32m   1628\u001b[0m \u001b[38;5;124;03mCall the handlers for the specified record.\u001b[39;00m\n\u001b[1;32m   1629\u001b[0m \n\u001b[1;32m   1630\u001b[0m \u001b[38;5;124;03mThis method is used for unpickled records received from a socket, as\u001b[39;00m\n\u001b[1;32m   1631\u001b[0m \u001b[38;5;124;03mwell as those created locally. Logger-level filtering is applied.\u001b[39;00m\n\u001b[1;32m   1632\u001b[0m \u001b[38;5;124;03m\"\"\"\u001b[39;00m\n\u001b[0;32m-> 1633\u001b[0m \u001b[38;5;28;01mif\u001b[39;00m (\u001b[38;5;129;01mnot\u001b[39;00m \u001b[38;5;28mself\u001b[39m\u001b[38;5;241m.\u001b[39mdisabled) \u001b[38;5;129;01mand\u001b[39;00m \u001b[38;5;28;43mself\u001b[39;49m\u001b[38;5;241;43m.\u001b[39;49m\u001b[43mfilter\u001b[49m\u001b[43m(\u001b[49m\u001b[43mrecord\u001b[49m\u001b[43m)\u001b[49m:\n\u001b[1;32m   1634\u001b[0m     \u001b[38;5;28mself\u001b[39m\u001b[38;5;241m.\u001b[39mcallHandlers(record)\n",
      "File \u001b[0;32m/Library/Frameworks/Python.framework/Versions/3.10/lib/python3.10/logging/__init__.py:823\u001b[0m, in \u001b[0;36mFilterer.filter\u001b[0;34m(self, record)\u001b[0m\n\u001b[1;32m    822\u001b[0m \u001b[38;5;28;01melse\u001b[39;00m:\n\u001b[0;32m--> 823\u001b[0m     result \u001b[38;5;241m=\u001b[39m \u001b[43mf\u001b[49m\u001b[43m(\u001b[49m\u001b[43mrecord\u001b[49m\u001b[43m)\u001b[49m \u001b[38;5;66;03m# assume callable - will raise if not\u001b[39;00m\n\u001b[1;32m    824\u001b[0m \u001b[38;5;28;01mif\u001b[39;00m \u001b[38;5;129;01mnot\u001b[39;00m result:\n",
      "Cell \u001b[0;32mIn [348], line 94\u001b[0m, in \u001b[0;36mlocal_time_formatter\u001b[0;34m(record)\u001b[0m\n\u001b[1;32m     93\u001b[0m local_tz \u001b[38;5;241m=\u001b[39m timezone(\u001b[38;5;124m'\u001b[39m\u001b[38;5;124mAsia/Kolkata\u001b[39m\u001b[38;5;124m'\u001b[39m)  \u001b[38;5;66;03m# Replace with your local time zone\u001b[39;00m\n\u001b[0;32m---> 94\u001b[0m local_dt \u001b[38;5;241m=\u001b[39m \u001b[43mrecord\u001b[49m\u001b[38;5;241;43m.\u001b[39;49m\u001b[43mcreated\u001b[49m\u001b[38;5;241;43m.\u001b[39;49m\u001b[43mastimezone\u001b[49m(local_tz)\n\u001b[1;32m     95\u001b[0m local_time \u001b[38;5;241m=\u001b[39m local_dt\u001b[38;5;241m.\u001b[39mstrftime(\u001b[38;5;124m'\u001b[39m\u001b[38;5;124m%\u001b[39m\u001b[38;5;124mY-\u001b[39m\u001b[38;5;124m%\u001b[39m\u001b[38;5;124mm-\u001b[39m\u001b[38;5;132;01m%d\u001b[39;00m\u001b[38;5;124m \u001b[39m\u001b[38;5;124m%\u001b[39m\u001b[38;5;124mH:\u001b[39m\u001b[38;5;124m%\u001b[39m\u001b[38;5;124mM:\u001b[39m\u001b[38;5;124m%\u001b[39m\u001b[38;5;124mS\u001b[39m\u001b[38;5;124m'\u001b[39m)\n",
      "\u001b[0;31mAttributeError\u001b[0m: 'float' object has no attribute 'astimezone'",
      "\nDuring handling of the above exception, another exception occurred:\n",
      "\u001b[0;31mAttributeError\u001b[0m                            Traceback (most recent call last)",
      "Cell \u001b[0;32mIn [376], line 10\u001b[0m\n\u001b[1;32m      7\u001b[0m     TOKEN \u001b[38;5;241m=\u001b[39m get_api_token()\n\u001b[1;32m      9\u001b[0m     \u001b[38;5;28;01mfor\u001b[39;00m station, station_location \u001b[38;5;129;01min\u001b[39;00m stations:\n\u001b[0;32m---> 10\u001b[0m         \u001b[43msetData\u001b[49m\u001b[43m(\u001b[49m\u001b[43mstation\u001b[49m\u001b[43m,\u001b[49m\u001b[43m  \u001b[49m\u001b[43mstation_location\u001b[49m\u001b[43m,\u001b[49m\u001b[43m \u001b[49m\u001b[43mlogger\u001b[49m\u001b[43m,\u001b[49m\u001b[43m \u001b[49m\u001b[43mTOKEN\u001b[49m\u001b[43m)\u001b[49m\n\u001b[1;32m     12\u001b[0m     \u001b[38;5;66;03m# If the day changes, append it to original data\u001b[39;00m\n\u001b[1;32m     13\u001b[0m \n\u001b[1;32m     14\u001b[0m \u001b[38;5;66;03m#     if datetime.now().hour == 1:     # It means 1 AM\u001b[39;00m\n\u001b[1;32m     15\u001b[0m \u001b[38;5;66;03m#         for station, station_location in stations:\u001b[39;00m\n\u001b[1;32m     16\u001b[0m \u001b[38;5;66;03m#             writeData(station_location)\u001b[39;00m\n",
      "Cell \u001b[0;32mIn [375], line 83\u001b[0m, in \u001b[0;36msetData\u001b[0;34m(station, output_file, logger, TOKEN)\u001b[0m\n\u001b[1;32m     81\u001b[0m \u001b[38;5;28;01mexcept\u001b[39;00m \u001b[38;5;167;01mException\u001b[39;00m \u001b[38;5;28;01mas\u001b[39;00m e:\n\u001b[1;32m     82\u001b[0m     \u001b[38;5;28mprint\u001b[39m(\u001b[38;5;124mf\u001b[39m\u001b[38;5;124m\"\u001b[39m\u001b[38;5;124mException \u001b[39m\u001b[38;5;132;01m{\u001b[39;00m\u001b[38;5;28mtype\u001b[39m(e)\u001b[38;5;241m.\u001b[39m\u001b[38;5;18m__name__\u001b[39m\u001b[38;5;132;01m}\u001b[39;00m\u001b[38;5;124m has occured for station=> \u001b[39m\u001b[38;5;132;01m{\u001b[39;00mstation\u001b[38;5;132;01m}\u001b[39;00m\u001b[38;5;124m\"\u001b[39m)\n\u001b[0;32m---> 83\u001b[0m     \u001b[43mlogger\u001b[49m\u001b[38;5;241;43m.\u001b[39;49m\u001b[43minfo\u001b[49m\u001b[43m(\u001b[49m\u001b[38;5;124;43mf\u001b[39;49m\u001b[38;5;124;43m\"\u001b[39;49m\u001b[38;5;124;43mException \u001b[39;49m\u001b[38;5;132;43;01m{\u001b[39;49;00m\u001b[38;5;28;43mtype\u001b[39;49m\u001b[43m(\u001b[49m\u001b[43me\u001b[49m\u001b[43m)\u001b[49m\u001b[38;5;241;43m.\u001b[39;49m\u001b[38;5;18;43m__name__\u001b[39;49m\u001b[38;5;132;43;01m}\u001b[39;49;00m\u001b[38;5;124;43m has occured for station=> \u001b[39;49m\u001b[38;5;132;43;01m{\u001b[39;49;00m\u001b[43mstation\u001b[49m\u001b[38;5;132;43;01m}\u001b[39;49;00m\u001b[38;5;124;43m\"\u001b[39;49m\u001b[43m)\u001b[49m\n",
      "File \u001b[0;32m/Library/Frameworks/Python.framework/Versions/3.10/lib/python3.10/logging/__init__.py:1477\u001b[0m, in \u001b[0;36mLogger.info\u001b[0;34m(self, msg, *args, **kwargs)\u001b[0m\n\u001b[1;32m   1468\u001b[0m \u001b[38;5;124;03m\"\"\"\u001b[39;00m\n\u001b[1;32m   1469\u001b[0m \u001b[38;5;124;03mLog 'msg % args' with severity 'INFO'.\u001b[39;00m\n\u001b[1;32m   1470\u001b[0m \n\u001b[0;32m   (...)\u001b[0m\n\u001b[1;32m   1474\u001b[0m \u001b[38;5;124;03mlogger.info(\"Houston, we have a %s\", \"interesting problem\", exc_info=1)\u001b[39;00m\n\u001b[1;32m   1475\u001b[0m \u001b[38;5;124;03m\"\"\"\u001b[39;00m\n\u001b[1;32m   1476\u001b[0m \u001b[38;5;28;01mif\u001b[39;00m \u001b[38;5;28mself\u001b[39m\u001b[38;5;241m.\u001b[39misEnabledFor(INFO):\n\u001b[0;32m-> 1477\u001b[0m     \u001b[38;5;28;43mself\u001b[39;49m\u001b[38;5;241;43m.\u001b[39;49m\u001b[43m_log\u001b[49m\u001b[43m(\u001b[49m\u001b[43mINFO\u001b[49m\u001b[43m,\u001b[49m\u001b[43m \u001b[49m\u001b[43mmsg\u001b[49m\u001b[43m,\u001b[49m\u001b[43m \u001b[49m\u001b[43margs\u001b[49m\u001b[43m,\u001b[49m\u001b[43m \u001b[49m\u001b[38;5;241;43m*\u001b[39;49m\u001b[38;5;241;43m*\u001b[39;49m\u001b[43mkwargs\u001b[49m\u001b[43m)\u001b[49m\n",
      "File \u001b[0;32m/Library/Frameworks/Python.framework/Versions/3.10/lib/python3.10/logging/__init__.py:1624\u001b[0m, in \u001b[0;36mLogger._log\u001b[0;34m(self, level, msg, args, exc_info, extra, stack_info, stacklevel)\u001b[0m\n\u001b[1;32m   1621\u001b[0m         exc_info \u001b[38;5;241m=\u001b[39m sys\u001b[38;5;241m.\u001b[39mexc_info()\n\u001b[1;32m   1622\u001b[0m record \u001b[38;5;241m=\u001b[39m \u001b[38;5;28mself\u001b[39m\u001b[38;5;241m.\u001b[39mmakeRecord(\u001b[38;5;28mself\u001b[39m\u001b[38;5;241m.\u001b[39mname, level, fn, lno, msg, args,\n\u001b[1;32m   1623\u001b[0m                          exc_info, func, extra, sinfo)\n\u001b[0;32m-> 1624\u001b[0m \u001b[38;5;28;43mself\u001b[39;49m\u001b[38;5;241;43m.\u001b[39;49m\u001b[43mhandle\u001b[49m\u001b[43m(\u001b[49m\u001b[43mrecord\u001b[49m\u001b[43m)\u001b[49m\n",
      "File \u001b[0;32m/Library/Frameworks/Python.framework/Versions/3.10/lib/python3.10/logging/__init__.py:1633\u001b[0m, in \u001b[0;36mLogger.handle\u001b[0;34m(self, record)\u001b[0m\n\u001b[1;32m   1626\u001b[0m \u001b[38;5;28;01mdef\u001b[39;00m \u001b[38;5;21mhandle\u001b[39m(\u001b[38;5;28mself\u001b[39m, record):\n\u001b[1;32m   1627\u001b[0m     \u001b[38;5;124;03m\"\"\"\u001b[39;00m\n\u001b[1;32m   1628\u001b[0m \u001b[38;5;124;03m    Call the handlers for the specified record.\u001b[39;00m\n\u001b[1;32m   1629\u001b[0m \n\u001b[1;32m   1630\u001b[0m \u001b[38;5;124;03m    This method is used for unpickled records received from a socket, as\u001b[39;00m\n\u001b[1;32m   1631\u001b[0m \u001b[38;5;124;03m    well as those created locally. Logger-level filtering is applied.\u001b[39;00m\n\u001b[1;32m   1632\u001b[0m \u001b[38;5;124;03m    \"\"\"\u001b[39;00m\n\u001b[0;32m-> 1633\u001b[0m     \u001b[38;5;28;01mif\u001b[39;00m (\u001b[38;5;129;01mnot\u001b[39;00m \u001b[38;5;28mself\u001b[39m\u001b[38;5;241m.\u001b[39mdisabled) \u001b[38;5;129;01mand\u001b[39;00m \u001b[38;5;28;43mself\u001b[39;49m\u001b[38;5;241;43m.\u001b[39;49m\u001b[43mfilter\u001b[49m\u001b[43m(\u001b[49m\u001b[43mrecord\u001b[49m\u001b[43m)\u001b[49m:\n\u001b[1;32m   1634\u001b[0m         \u001b[38;5;28mself\u001b[39m\u001b[38;5;241m.\u001b[39mcallHandlers(record)\n",
      "File \u001b[0;32m/Library/Frameworks/Python.framework/Versions/3.10/lib/python3.10/logging/__init__.py:823\u001b[0m, in \u001b[0;36mFilterer.filter\u001b[0;34m(self, record)\u001b[0m\n\u001b[1;32m    821\u001b[0m     result \u001b[38;5;241m=\u001b[39m f\u001b[38;5;241m.\u001b[39mfilter(record)\n\u001b[1;32m    822\u001b[0m \u001b[38;5;28;01melse\u001b[39;00m:\n\u001b[0;32m--> 823\u001b[0m     result \u001b[38;5;241m=\u001b[39m \u001b[43mf\u001b[49m\u001b[43m(\u001b[49m\u001b[43mrecord\u001b[49m\u001b[43m)\u001b[49m \u001b[38;5;66;03m# assume callable - will raise if not\u001b[39;00m\n\u001b[1;32m    824\u001b[0m \u001b[38;5;28;01mif\u001b[39;00m \u001b[38;5;129;01mnot\u001b[39;00m result:\n\u001b[1;32m    825\u001b[0m     rv \u001b[38;5;241m=\u001b[39m \u001b[38;5;28;01mFalse\u001b[39;00m\n",
      "Cell \u001b[0;32mIn [348], line 94\u001b[0m, in \u001b[0;36mlocal_time_formatter\u001b[0;34m(record)\u001b[0m\n\u001b[1;32m     92\u001b[0m \u001b[38;5;28;01mdef\u001b[39;00m \u001b[38;5;21mlocal_time_formatter\u001b[39m(record):\n\u001b[1;32m     93\u001b[0m     local_tz \u001b[38;5;241m=\u001b[39m timezone(\u001b[38;5;124m'\u001b[39m\u001b[38;5;124mAsia/Kolkata\u001b[39m\u001b[38;5;124m'\u001b[39m)  \u001b[38;5;66;03m# Replace with your local time zone\u001b[39;00m\n\u001b[0;32m---> 94\u001b[0m     local_dt \u001b[38;5;241m=\u001b[39m \u001b[43mrecord\u001b[49m\u001b[38;5;241;43m.\u001b[39;49m\u001b[43mcreated\u001b[49m\u001b[38;5;241;43m.\u001b[39;49m\u001b[43mastimezone\u001b[49m(local_tz)\n\u001b[1;32m     95\u001b[0m     local_time \u001b[38;5;241m=\u001b[39m local_dt\u001b[38;5;241m.\u001b[39mstrftime(\u001b[38;5;124m'\u001b[39m\u001b[38;5;124m%\u001b[39m\u001b[38;5;124mY-\u001b[39m\u001b[38;5;124m%\u001b[39m\u001b[38;5;124mm-\u001b[39m\u001b[38;5;132;01m%d\u001b[39;00m\u001b[38;5;124m \u001b[39m\u001b[38;5;124m%\u001b[39m\u001b[38;5;124mH:\u001b[39m\u001b[38;5;124m%\u001b[39m\u001b[38;5;124mM:\u001b[39m\u001b[38;5;124m%\u001b[39m\u001b[38;5;124mS\u001b[39m\u001b[38;5;124m'\u001b[39m)\n\u001b[1;32m     96\u001b[0m     record\u001b[38;5;241m.\u001b[39masctime \u001b[38;5;241m=\u001b[39m local_time\n",
      "\u001b[0;31mAttributeError\u001b[0m: 'float' object has no attribute 'astimezone'"
     ]
    }
   ],
   "source": [
    "if __name__ == \"__main__\":\n",
    "\n",
    "    # Logging\n",
    "    logger = setLogger()\n",
    "    \n",
    "    # Get API token\n",
    "    TOKEN = get_api_token()\n",
    "\n",
    "    for station, station_location in stations:\n",
    "        setData(station,  station_location, logger, TOKEN)\n",
    "\n",
    "    # If the day changes, append it to original data\n",
    "\n",
    "#     if datetime.now().hour == 1:     # It means 1 AM\n",
    "#         for station, station_location in stations:\n",
    "#             writeData(station_location)"
   ]
  },
  {
   "cell_type": "code",
   "execution_count": 377,
   "id": "9b18af16",
   "metadata": {
    "ExecuteTime": {
     "end_time": "2023-12-01T02:32:42.975337Z",
     "start_time": "2023-12-01T02:32:42.962059Z"
    }
   },
   "outputs": [
    {
     "data": {
      "text/plain": [
       "8"
      ]
     },
     "execution_count": 377,
     "metadata": {},
     "output_type": "execute_result"
    }
   ],
   "source": [
    "datetime.now().hour"
   ]
  },
  {
   "cell_type": "code",
   "execution_count": 378,
   "id": "41086a7c",
   "metadata": {
    "ExecuteTime": {
     "end_time": "2023-12-01T02:32:44.426039Z",
     "start_time": "2023-12-01T02:32:44.420240Z"
    }
   },
   "outputs": [
    {
     "data": {
      "text/plain": [
       "time.struct_time(tm_year=2023, tm_mon=12, tm_mday=1, tm_hour=8, tm_min=2, tm_sec=44, tm_wday=4, tm_yday=335, tm_isdst=-1)"
      ]
     },
     "execution_count": 378,
     "metadata": {},
     "output_type": "execute_result"
    }
   ],
   "source": [
    "datetime.now().astimezone().timetuple()"
   ]
  },
  {
   "cell_type": "code",
   "execution_count": 379,
   "id": "82189762",
   "metadata": {
    "ExecuteTime": {
     "end_time": "2023-12-01T02:32:45.235923Z",
     "start_time": "2023-12-01T02:32:45.194038Z"
    }
   },
   "outputs": [
    {
     "data": {
      "text/html": [
       "<div>\n",
       "<style scoped>\n",
       "    .dataframe tbody tr th:only-of-type {\n",
       "        vertical-align: middle;\n",
       "    }\n",
       "\n",
       "    .dataframe tbody tr th {\n",
       "        vertical-align: top;\n",
       "    }\n",
       "\n",
       "    .dataframe thead th {\n",
       "        text-align: right;\n",
       "    }\n",
       "</style>\n",
       "<table border=\"1\" class=\"dataframe\">\n",
       "  <thead>\n",
       "    <tr style=\"text-align: right;\">\n",
       "      <th></th>\n",
       "      <th>AQI</th>\n",
       "      <th>Station_name</th>\n",
       "      <th>Time</th>\n",
       "    </tr>\n",
       "  </thead>\n",
       "  <tbody>\n",
       "    <tr>\n",
       "      <th>0</th>\n",
       "      <td>183</td>\n",
       "      <td>Sector-51, Gurugram, India</td>\n",
       "      <td>2023-11-28 20:00:00</td>\n",
       "    </tr>\n",
       "    <tr>\n",
       "      <th>1</th>\n",
       "      <td>203</td>\n",
       "      <td>Sector-51, Gurugram, India</td>\n",
       "      <td>2023-11-28 21:00:00</td>\n",
       "    </tr>\n",
       "    <tr>\n",
       "      <th>2</th>\n",
       "      <td>200</td>\n",
       "      <td>Sector-51, Gurugram, India</td>\n",
       "      <td>2023-11-28 22:00:00</td>\n",
       "    </tr>\n",
       "    <tr>\n",
       "      <th>3</th>\n",
       "      <td>200</td>\n",
       "      <td>Sector-51, Gurugram, India</td>\n",
       "      <td>2023-11-28 23:00:00</td>\n",
       "    </tr>\n",
       "    <tr>\n",
       "      <th>4</th>\n",
       "      <td>197</td>\n",
       "      <td>Sector-51, Gurugram, India</td>\n",
       "      <td>2023-11-29 00:00:00</td>\n",
       "    </tr>\n",
       "    <tr>\n",
       "      <th>5</th>\n",
       "      <td>195</td>\n",
       "      <td>Sector-51, Gurugram, India</td>\n",
       "      <td>2023-11-29 01:00:00</td>\n",
       "    </tr>\n",
       "    <tr>\n",
       "      <th>6</th>\n",
       "      <td>197</td>\n",
       "      <td>Sector-51, Gurugram, India</td>\n",
       "      <td>2023-11-29 02:00:00</td>\n",
       "    </tr>\n",
       "    <tr>\n",
       "      <th>7</th>\n",
       "      <td>200</td>\n",
       "      <td>Sector-51, Gurugram, India</td>\n",
       "      <td>2023-11-29 03:00:00</td>\n",
       "    </tr>\n",
       "    <tr>\n",
       "      <th>8</th>\n",
       "      <td>200</td>\n",
       "      <td>Sector-51, Gurugram, India</td>\n",
       "      <td>2023-11-29 04:00:00</td>\n",
       "    </tr>\n",
       "    <tr>\n",
       "      <th>9</th>\n",
       "      <td>200</td>\n",
       "      <td>Sector-51, Gurugram, India</td>\n",
       "      <td>2023-11-29 05:00:00</td>\n",
       "    </tr>\n",
       "    <tr>\n",
       "      <th>10</th>\n",
       "      <td>202</td>\n",
       "      <td>Sector-51, Gurugram, India</td>\n",
       "      <td>2023-11-29 07:00:00</td>\n",
       "    </tr>\n",
       "    <tr>\n",
       "      <th>11</th>\n",
       "      <td>241</td>\n",
       "      <td>Sector-51, Gurugram, India</td>\n",
       "      <td>2023-11-29 09:00:00</td>\n",
       "    </tr>\n",
       "    <tr>\n",
       "      <th>12</th>\n",
       "      <td>120</td>\n",
       "      <td>Sector-51, Gurugram, India</td>\n",
       "      <td>2023-11-29 10:00:00</td>\n",
       "    </tr>\n",
       "    <tr>\n",
       "      <th>13</th>\n",
       "      <td>174</td>\n",
       "      <td>Sector-51, Gurugram, India</td>\n",
       "      <td>2023-11-29 11:00:00</td>\n",
       "    </tr>\n",
       "    <tr>\n",
       "      <th>14</th>\n",
       "      <td>178</td>\n",
       "      <td>Sector-51, Gurugram, India</td>\n",
       "      <td>2023-11-29 12:00:00</td>\n",
       "    </tr>\n",
       "    <tr>\n",
       "      <th>15</th>\n",
       "      <td>175</td>\n",
       "      <td>Sector-51, Gurugram, India</td>\n",
       "      <td>2023-11-29 13:00:00</td>\n",
       "    </tr>\n",
       "    <tr>\n",
       "      <th>16</th>\n",
       "      <td>177</td>\n",
       "      <td>Sector-51, Gurugram, India</td>\n",
       "      <td>2023-11-29 14:00:00</td>\n",
       "    </tr>\n",
       "    <tr>\n",
       "      <th>17</th>\n",
       "      <td>182</td>\n",
       "      <td>Sector-51, Gurugram, India</td>\n",
       "      <td>2023-11-29 15:00:00</td>\n",
       "    </tr>\n",
       "    <tr>\n",
       "      <th>18</th>\n",
       "      <td>184</td>\n",
       "      <td>Sector-51, Gurugram, India</td>\n",
       "      <td>2023-11-29 16:00:00</td>\n",
       "    </tr>\n",
       "    <tr>\n",
       "      <th>19</th>\n",
       "      <td>182</td>\n",
       "      <td>Sector-51, Gurugram, India</td>\n",
       "      <td>2023-11-29 17:00:00</td>\n",
       "    </tr>\n",
       "    <tr>\n",
       "      <th>20</th>\n",
       "      <td>182</td>\n",
       "      <td>Sector-51, Gurugram, India</td>\n",
       "      <td>2023-11-29 18:00:00</td>\n",
       "    </tr>\n",
       "    <tr>\n",
       "      <th>21</th>\n",
       "      <td>593</td>\n",
       "      <td>Sector-51, Gurugram, India</td>\n",
       "      <td>2023-11-29 22:00:00</td>\n",
       "    </tr>\n",
       "    <tr>\n",
       "      <th>22</th>\n",
       "      <td>537</td>\n",
       "      <td>Sector-51, Gurugram, India</td>\n",
       "      <td>2023-11-29 23:00:00</td>\n",
       "    </tr>\n",
       "    <tr>\n",
       "      <th>23</th>\n",
       "      <td>296</td>\n",
       "      <td>Sector-51, Gurugram, India</td>\n",
       "      <td>2023-11-30 00:00:00</td>\n",
       "    </tr>\n",
       "    <tr>\n",
       "      <th>24</th>\n",
       "      <td>301</td>\n",
       "      <td>Sector-51, Gurugram, India</td>\n",
       "      <td>2023-11-30 01:00:00</td>\n",
       "    </tr>\n",
       "    <tr>\n",
       "      <th>25</th>\n",
       "      <td>234</td>\n",
       "      <td>Sector-51, Gurugram, India</td>\n",
       "      <td>2023-11-30 02:00:00</td>\n",
       "    </tr>\n",
       "    <tr>\n",
       "      <th>26</th>\n",
       "      <td>244</td>\n",
       "      <td>Sector-51, Gurugram, India</td>\n",
       "      <td>2023-11-30 03:00:00</td>\n",
       "    </tr>\n",
       "    <tr>\n",
       "      <th>27</th>\n",
       "      <td>268</td>\n",
       "      <td>Sector-51, Gurugram, India</td>\n",
       "      <td>2023-11-30 04:00:00</td>\n",
       "    </tr>\n",
       "    <tr>\n",
       "      <th>28</th>\n",
       "      <td>185</td>\n",
       "      <td>Sector-51, Gurugram, India</td>\n",
       "      <td>2023-11-30 05:00:00</td>\n",
       "    </tr>\n",
       "    <tr>\n",
       "      <th>29</th>\n",
       "      <td>182</td>\n",
       "      <td>Sector-51, Gurugram, India</td>\n",
       "      <td>2023-11-30 07:00:00</td>\n",
       "    </tr>\n",
       "    <tr>\n",
       "      <th>30</th>\n",
       "      <td>185</td>\n",
       "      <td>Sector-51, Gurugram, India</td>\n",
       "      <td>2023-11-30 08:00:00</td>\n",
       "    </tr>\n",
       "    <tr>\n",
       "      <th>31</th>\n",
       "      <td>234</td>\n",
       "      <td>Sector-51, Gurugram, India</td>\n",
       "      <td>2023-11-30 09:00:00</td>\n",
       "    </tr>\n",
       "    <tr>\n",
       "      <th>32</th>\n",
       "      <td>220</td>\n",
       "      <td>Sector-51, Gurugram, India</td>\n",
       "      <td>2023-11-30 10:00:00</td>\n",
       "    </tr>\n",
       "    <tr>\n",
       "      <th>33</th>\n",
       "      <td>218</td>\n",
       "      <td>Sector-51, Gurugram, India</td>\n",
       "      <td>2023-11-30 11:00:00</td>\n",
       "    </tr>\n",
       "    <tr>\n",
       "      <th>34</th>\n",
       "      <td>159</td>\n",
       "      <td>Sector-51, Gurugram, India</td>\n",
       "      <td>2023-11-30 12:00:00</td>\n",
       "    </tr>\n",
       "    <tr>\n",
       "      <th>35</th>\n",
       "      <td>107</td>\n",
       "      <td>Sector-51, Gurugram, India</td>\n",
       "      <td>2023-11-30 13:00:00</td>\n",
       "    </tr>\n",
       "    <tr>\n",
       "      <th>36</th>\n",
       "      <td>236</td>\n",
       "      <td>Sector-51, Gurugram, India</td>\n",
       "      <td>2023-11-30 14:00:00</td>\n",
       "    </tr>\n",
       "    <tr>\n",
       "      <th>37</th>\n",
       "      <td>233</td>\n",
       "      <td>Sector-51, Gurugram, India</td>\n",
       "      <td>2023-11-30 15:00:00</td>\n",
       "    </tr>\n",
       "    <tr>\n",
       "      <th>38</th>\n",
       "      <td>224</td>\n",
       "      <td>Sector-51, Gurugram, India</td>\n",
       "      <td>2023-11-30 16:00:00</td>\n",
       "    </tr>\n",
       "    <tr>\n",
       "      <th>39</th>\n",
       "      <td>212</td>\n",
       "      <td>Sector-51, Gurugram, India</td>\n",
       "      <td>2023-11-30 17:00:00</td>\n",
       "    </tr>\n",
       "    <tr>\n",
       "      <th>40</th>\n",
       "      <td>209</td>\n",
       "      <td>Sector-51, Gurugram, India</td>\n",
       "      <td>2023-11-30 18:00:00</td>\n",
       "    </tr>\n",
       "    <tr>\n",
       "      <th>41</th>\n",
       "      <td>437</td>\n",
       "      <td>Sector-51, Gurugram, India</td>\n",
       "      <td>2023-11-30 21:00:00</td>\n",
       "    </tr>\n",
       "    <tr>\n",
       "      <th>42</th>\n",
       "      <td>471</td>\n",
       "      <td>Sector-51, Gurugram, India</td>\n",
       "      <td>2023-11-30 22:00:00</td>\n",
       "    </tr>\n",
       "    <tr>\n",
       "      <th>43</th>\n",
       "      <td>463</td>\n",
       "      <td>Sector-51, Gurugram, India</td>\n",
       "      <td>2023-11-30 23:00:00</td>\n",
       "    </tr>\n",
       "    <tr>\n",
       "      <th>44</th>\n",
       "      <td>244</td>\n",
       "      <td>Sector-51, Gurugram, India</td>\n",
       "      <td>2023-12-01 00:00:00</td>\n",
       "    </tr>\n",
       "    <tr>\n",
       "      <th>45</th>\n",
       "      <td>181</td>\n",
       "      <td>Sector-51, Gurugram, India</td>\n",
       "      <td>2023-12-01 01:00:00</td>\n",
       "    </tr>\n",
       "    <tr>\n",
       "      <th>46</th>\n",
       "      <td>179</td>\n",
       "      <td>Sector-51, Gurugram, India</td>\n",
       "      <td>2023-12-01 02:00:00</td>\n",
       "    </tr>\n",
       "    <tr>\n",
       "      <th>47</th>\n",
       "      <td>178</td>\n",
       "      <td>Sector-51, Gurugram, India</td>\n",
       "      <td>2023-12-01 03:00:00</td>\n",
       "    </tr>\n",
       "    <tr>\n",
       "      <th>48</th>\n",
       "      <td>176</td>\n",
       "      <td>Sector-51, Gurugram, India</td>\n",
       "      <td>2023-12-01 04:00:00</td>\n",
       "    </tr>\n",
       "    <tr>\n",
       "      <th>49</th>\n",
       "      <td>172</td>\n",
       "      <td>Sector-51, Gurugram, India</td>\n",
       "      <td>2023-12-01 05:00:00</td>\n",
       "    </tr>\n",
       "    <tr>\n",
       "      <th>50</th>\n",
       "      <td>166</td>\n",
       "      <td>Sector-51, Gurugram, India</td>\n",
       "      <td>2023-12-01 07:00:00</td>\n",
       "    </tr>\n",
       "  </tbody>\n",
       "</table>\n",
       "</div>"
      ],
      "text/plain": [
       "    AQI                Station_name                 Time\n",
       "0   183  Sector-51, Gurugram, India  2023-11-28 20:00:00\n",
       "1   203  Sector-51, Gurugram, India  2023-11-28 21:00:00\n",
       "2   200  Sector-51, Gurugram, India  2023-11-28 22:00:00\n",
       "3   200  Sector-51, Gurugram, India  2023-11-28 23:00:00\n",
       "4   197  Sector-51, Gurugram, India  2023-11-29 00:00:00\n",
       "5   195  Sector-51, Gurugram, India  2023-11-29 01:00:00\n",
       "6   197  Sector-51, Gurugram, India  2023-11-29 02:00:00\n",
       "7   200  Sector-51, Gurugram, India  2023-11-29 03:00:00\n",
       "8   200  Sector-51, Gurugram, India  2023-11-29 04:00:00\n",
       "9   200  Sector-51, Gurugram, India  2023-11-29 05:00:00\n",
       "10  202  Sector-51, Gurugram, India  2023-11-29 07:00:00\n",
       "11  241  Sector-51, Gurugram, India  2023-11-29 09:00:00\n",
       "12  120  Sector-51, Gurugram, India  2023-11-29 10:00:00\n",
       "13  174  Sector-51, Gurugram, India  2023-11-29 11:00:00\n",
       "14  178  Sector-51, Gurugram, India  2023-11-29 12:00:00\n",
       "15  175  Sector-51, Gurugram, India  2023-11-29 13:00:00\n",
       "16  177  Sector-51, Gurugram, India  2023-11-29 14:00:00\n",
       "17  182  Sector-51, Gurugram, India  2023-11-29 15:00:00\n",
       "18  184  Sector-51, Gurugram, India  2023-11-29 16:00:00\n",
       "19  182  Sector-51, Gurugram, India  2023-11-29 17:00:00\n",
       "20  182  Sector-51, Gurugram, India  2023-11-29 18:00:00\n",
       "21  593  Sector-51, Gurugram, India  2023-11-29 22:00:00\n",
       "22  537  Sector-51, Gurugram, India  2023-11-29 23:00:00\n",
       "23  296  Sector-51, Gurugram, India  2023-11-30 00:00:00\n",
       "24  301  Sector-51, Gurugram, India  2023-11-30 01:00:00\n",
       "25  234  Sector-51, Gurugram, India  2023-11-30 02:00:00\n",
       "26  244  Sector-51, Gurugram, India  2023-11-30 03:00:00\n",
       "27  268  Sector-51, Gurugram, India  2023-11-30 04:00:00\n",
       "28  185  Sector-51, Gurugram, India  2023-11-30 05:00:00\n",
       "29  182  Sector-51, Gurugram, India  2023-11-30 07:00:00\n",
       "30  185  Sector-51, Gurugram, India  2023-11-30 08:00:00\n",
       "31  234  Sector-51, Gurugram, India  2023-11-30 09:00:00\n",
       "32  220  Sector-51, Gurugram, India  2023-11-30 10:00:00\n",
       "33  218  Sector-51, Gurugram, India  2023-11-30 11:00:00\n",
       "34  159  Sector-51, Gurugram, India  2023-11-30 12:00:00\n",
       "35  107  Sector-51, Gurugram, India  2023-11-30 13:00:00\n",
       "36  236  Sector-51, Gurugram, India  2023-11-30 14:00:00\n",
       "37  233  Sector-51, Gurugram, India  2023-11-30 15:00:00\n",
       "38  224  Sector-51, Gurugram, India  2023-11-30 16:00:00\n",
       "39  212  Sector-51, Gurugram, India  2023-11-30 17:00:00\n",
       "40  209  Sector-51, Gurugram, India  2023-11-30 18:00:00\n",
       "41  437  Sector-51, Gurugram, India  2023-11-30 21:00:00\n",
       "42  471  Sector-51, Gurugram, India  2023-11-30 22:00:00\n",
       "43  463  Sector-51, Gurugram, India  2023-11-30 23:00:00\n",
       "44  244  Sector-51, Gurugram, India  2023-12-01 00:00:00\n",
       "45  181  Sector-51, Gurugram, India  2023-12-01 01:00:00\n",
       "46  179  Sector-51, Gurugram, India  2023-12-01 02:00:00\n",
       "47  178  Sector-51, Gurugram, India  2023-12-01 03:00:00\n",
       "48  176  Sector-51, Gurugram, India  2023-12-01 04:00:00\n",
       "49  172  Sector-51, Gurugram, India  2023-12-01 05:00:00\n",
       "50  166  Sector-51, Gurugram, India  2023-12-01 07:00:00"
      ]
     },
     "execution_count": 379,
     "metadata": {},
     "output_type": "execute_result"
    }
   ],
   "source": [
    "sector_51_api = pd.read_csv(\"../../data/cron_job_data/sector_51_cron_output.csv\")\n",
    "sector_51_api"
   ]
  },
  {
   "cell_type": "code",
   "execution_count": 380,
   "id": "1d2cc81e",
   "metadata": {
    "ExecuteTime": {
     "end_time": "2023-12-01T02:32:47.513855Z",
     "start_time": "2023-12-01T02:32:47.482887Z"
    }
   },
   "outputs": [
    {
     "name": "stdout",
     "output_type": "stream",
     "text": [
      "<class 'pandas.core.frame.DataFrame'>\n",
      "RangeIndex: 51 entries, 0 to 50\n",
      "Data columns (total 3 columns):\n",
      " #   Column        Non-Null Count  Dtype \n",
      "---  ------        --------------  ----- \n",
      " 0   AQI           51 non-null     int64 \n",
      " 1   Station_name  51 non-null     object\n",
      " 2   Time          51 non-null     object\n",
      "dtypes: int64(1), object(2)\n",
      "memory usage: 1.3+ KB\n"
     ]
    }
   ],
   "source": [
    "sector_51_api.info()"
   ]
  },
  {
   "cell_type": "code",
   "execution_count": 381,
   "id": "e1ebe06f",
   "metadata": {
    "ExecuteTime": {
     "end_time": "2023-12-01T02:32:48.555700Z",
     "start_time": "2023-12-01T02:32:48.538533Z"
    }
   },
   "outputs": [
    {
     "name": "stdout",
     "output_type": "stream",
     "text": [
      "<class 'pandas.core.frame.DataFrame'>\n",
      "RangeIndex: 51 entries, 0 to 50\n",
      "Data columns (total 3 columns):\n",
      " #   Column        Non-Null Count  Dtype         \n",
      "---  ------        --------------  -----         \n",
      " 0   AQI           51 non-null     int64         \n",
      " 1   Station_name  51 non-null     object        \n",
      " 2   Time          51 non-null     datetime64[ns]\n",
      "dtypes: datetime64[ns](1), int64(1), object(1)\n",
      "memory usage: 1.3+ KB\n"
     ]
    }
   ],
   "source": [
    "sector_51_api['Time'] = pd.to_datetime(sector_51_api['Time'])\n",
    "sector_51_api.info()"
   ]
  },
  {
   "cell_type": "code",
   "execution_count": 382,
   "id": "ea43b802",
   "metadata": {
    "ExecuteTime": {
     "end_time": "2023-12-01T02:32:49.186290Z",
     "start_time": "2023-12-01T02:32:49.179377Z"
    }
   },
   "outputs": [],
   "source": [
    "sector_51_api.set_index('Time', inplace=True)\n"
   ]
  },
  {
   "cell_type": "code",
   "execution_count": 388,
   "id": "202874af",
   "metadata": {
    "ExecuteTime": {
     "end_time": "2023-12-01T02:38:00.781221Z",
     "start_time": "2023-12-01T02:38:00.754312Z"
    }
   },
   "outputs": [
    {
     "data": {
      "text/html": [
       "<div>\n",
       "<style scoped>\n",
       "    .dataframe tbody tr th:only-of-type {\n",
       "        vertical-align: middle;\n",
       "    }\n",
       "\n",
       "    .dataframe tbody tr th {\n",
       "        vertical-align: top;\n",
       "    }\n",
       "\n",
       "    .dataframe thead th {\n",
       "        text-align: right;\n",
       "    }\n",
       "</style>\n",
       "<table border=\"1\" class=\"dataframe\">\n",
       "  <thead>\n",
       "    <tr style=\"text-align: right;\">\n",
       "      <th></th>\n",
       "      <th>AQI</th>\n",
       "    </tr>\n",
       "    <tr>\n",
       "      <th>Time</th>\n",
       "      <th></th>\n",
       "    </tr>\n",
       "  </thead>\n",
       "  <tbody>\n",
       "    <tr>\n",
       "      <th>2023-11-28</th>\n",
       "      <td>196.500000</td>\n",
       "    </tr>\n",
       "    <tr>\n",
       "      <th>2023-11-29</th>\n",
       "      <td>227.157895</td>\n",
       "    </tr>\n",
       "    <tr>\n",
       "      <th>2023-11-30</th>\n",
       "      <td>253.238095</td>\n",
       "    </tr>\n",
       "    <tr>\n",
       "      <th>2023-12-01</th>\n",
       "      <td>185.142857</td>\n",
       "    </tr>\n",
       "  </tbody>\n",
       "</table>\n",
       "</div>"
      ],
      "text/plain": [
       "                   AQI\n",
       "Time                  \n",
       "2023-11-28  196.500000\n",
       "2023-11-29  227.157895\n",
       "2023-11-30  253.238095\n",
       "2023-12-01  185.142857"
      ]
     },
     "execution_count": 388,
     "metadata": {},
     "output_type": "execute_result"
    }
   ],
   "source": [
    "sector_51_api = sector_51_api.resample('D').mean()\n",
    "sector_51_api"
   ]
  },
  {
   "cell_type": "code",
   "execution_count": 384,
   "id": "07a3946f",
   "metadata": {
    "ExecuteTime": {
     "end_time": "2023-12-01T02:33:09.867323Z",
     "start_time": "2023-12-01T02:33:09.856162Z"
    }
   },
   "outputs": [
    {
     "data": {
      "text/plain": [
       "datetime.date(2023, 11, 30)"
      ]
     },
     "execution_count": 384,
     "metadata": {},
     "output_type": "execute_result"
    }
   ],
   "source": [
    "# Get today's date\n",
    "today = datetime.now().date()\n",
    "\n",
    "# Calculate yesterday's date\n",
    "yesterday = today - timedelta(days=1)\n",
    "yesterday"
   ]
  },
  {
   "cell_type": "code",
   "execution_count": 395,
   "id": "5e620701",
   "metadata": {
    "ExecuteTime": {
     "end_time": "2023-12-01T02:38:50.246387Z",
     "start_time": "2023-12-01T02:38:50.212490Z"
    }
   },
   "outputs": [
    {
     "data": {
      "text/html": [
       "<div>\n",
       "<style scoped>\n",
       "    .dataframe tbody tr th:only-of-type {\n",
       "        vertical-align: middle;\n",
       "    }\n",
       "\n",
       "    .dataframe tbody tr th {\n",
       "        vertical-align: top;\n",
       "    }\n",
       "\n",
       "    .dataframe thead th {\n",
       "        text-align: right;\n",
       "    }\n",
       "</style>\n",
       "<table border=\"1\" class=\"dataframe\">\n",
       "  <thead>\n",
       "    <tr style=\"text-align: right;\">\n",
       "      <th></th>\n",
       "      <th>AQI</th>\n",
       "    </tr>\n",
       "    <tr>\n",
       "      <th>Time</th>\n",
       "      <th></th>\n",
       "    </tr>\n",
       "  </thead>\n",
       "  <tbody>\n",
       "    <tr>\n",
       "      <th>2023-11-30</th>\n",
       "      <td>253.238095</td>\n",
       "    </tr>\n",
       "  </tbody>\n",
       "</table>\n",
       "</div>"
      ],
      "text/plain": [
       "                   AQI\n",
       "Time                  \n",
       "2023-11-30  253.238095"
      ]
     },
     "execution_count": 395,
     "metadata": {},
     "output_type": "execute_result"
    }
   ],
   "source": [
    "sector_51_api[yesterday:yesterday]"
   ]
  },
  {
   "cell_type": "code",
   "execution_count": null,
   "id": "0656e2b2",
   "metadata": {},
   "outputs": [],
   "source": []
  },
  {
   "cell_type": "code",
   "execution_count": null,
   "id": "4e813292",
   "metadata": {},
   "outputs": [],
   "source": []
  }
 ],
 "metadata": {
  "kernelspec": {
   "display_name": "Python 3 (ipykernel)",
   "language": "python",
   "name": "python3"
  },
  "language_info": {
   "codemirror_mode": {
    "name": "ipython",
    "version": 3
   },
   "file_extension": ".py",
   "mimetype": "text/x-python",
   "name": "python",
   "nbconvert_exporter": "python",
   "pygments_lexer": "ipython3",
   "version": "3.10.2"
  },
  "varInspector": {
   "cols": {
    "lenName": 16,
    "lenType": 16,
    "lenVar": 40
   },
   "kernels_config": {
    "python": {
     "delete_cmd_postfix": "",
     "delete_cmd_prefix": "del ",
     "library": "var_list.py",
     "varRefreshCmd": "print(var_dic_list())"
    },
    "r": {
     "delete_cmd_postfix": ") ",
     "delete_cmd_prefix": "rm(",
     "library": "var_list.r",
     "varRefreshCmd": "cat(var_dic_list()) "
    }
   },
   "types_to_exclude": [
    "module",
    "function",
    "builtin_function_or_method",
    "instance",
    "_Feature"
   ],
   "window_display": false
  }
 },
 "nbformat": 4,
 "nbformat_minor": 5
}
