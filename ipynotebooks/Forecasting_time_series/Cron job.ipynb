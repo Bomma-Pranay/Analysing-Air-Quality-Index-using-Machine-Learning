{
 "cells": [
  {
   "cell_type": "code",
   "execution_count": 255,
   "id": "49bd385e",
   "metadata": {
    "ExecuteTime": {
     "end_time": "2023-11-28T02:06:25.404130Z",
     "start_time": "2023-11-28T02:06:25.395682Z"
    }
   },
   "outputs": [],
   "source": [
    "import requests\n",
    "import pandas as pd\n",
    "import pprint\n",
    "import csv\n",
    "from datetime import datetime\n",
    "import logging\n",
    "import logging.handlers\n",
    "import os"
   ]
  },
  {
   "cell_type": "code",
   "execution_count": 116,
   "id": "d76e9365",
   "metadata": {
    "ExecuteTime": {
     "end_time": "2023-11-27T06:02:16.480244Z",
     "start_time": "2023-11-27T06:02:16.472604Z"
    }
   },
   "outputs": [],
   "source": [
    "# NISE\n",
    "NISE = \"nise gwal\"\n",
    "NISE_STATION = \"NISE Gwal Pahari, Gurugram, India\"\n",
    "NISE_OUTPUT = \"../../data/cron_job_data/nise_cron_output\"\n",
    "\n",
    "# Sector 51\n",
    "SECTOR_51 = \"Sector-51, Gurugram\"\n",
    "SECTOR_51_STATION = \"Sector-51, Gurugram, India\"\n",
    "SECTOR_51_OUTPUT = \"../../data/cron_job_data/sector_51_cron_output\"\n",
    "\n",
    "# Teri gram\n",
    "TERI_GRAM = \"Teri Gram\"\n",
    "TERI_GRAM_STATION = \"Teri Gram, Gurugram\"\n",
    "TERI_GRAM_OUTPUT = \"../../data/cron_job_data/teri_gram_cron_output\"\n",
    "\n",
    "# Vikas Sadan\n",
    "VIKAS_SADAN = \"Vikas Sadan\"\n",
    "VIKAS_SADAN_STATION = \"Vikas Sadan Gurgaon\"\n",
    "VIKAS_SADAN_OUTPUT = \"../../data/cron_job_data/vikas_sadan_cron_output\""
   ]
  },
  {
   "cell_type": "code",
   "execution_count": 212,
   "id": "9b18af16",
   "metadata": {
    "ExecuteTime": {
     "end_time": "2023-11-27T11:34:24.858148Z",
     "start_time": "2023-11-27T11:34:24.853119Z"
    }
   },
   "outputs": [],
   "source": [
    "def get_api_token():\n",
    "    try:\n",
    "        return os.environ.get('API_TOKEN')\n",
    "    except KeyError:\n",
    "        "
   ]
  },
  {
   "cell_type": "code",
   "execution_count": 265,
   "id": "41086a7c",
   "metadata": {
    "ExecuteTime": {
     "end_time": "2023-11-28T02:09:47.269259Z",
     "start_time": "2023-11-28T02:09:47.251599Z"
    }
   },
   "outputs": [],
   "source": [
    "# In 2nd cron daily job, Incase if api fails, write to file with previous day\n",
    "\n",
    "def setData(station, output_file):\n",
    "    try:\n",
    "        \n",
    "#         # Create a \"logs\" directory if it doesn't exist\n",
    "#         logs_directory = \"../../logs\"\n",
    "#         os.makedirs(logs_directory, exist_ok=True)\n",
    "\n",
    "#         # Set up logger configuration\n",
    "#         log_file_path = os.path.join(logs_directory, f\"{datetime.now().strftime('%d-%m-%Y')}.log\")\n",
    "#         logger.basicConfig(filename=log_file_path, level=logger.INFO, format=\"%(asctime)s - %(levelname)s - %(message)s\")\n",
    "\n",
    "        logger = logging.getLogger(__name__)\n",
    "\n",
    "        logger.setLevel(logging.DEBUG)\n",
    "        logger_file_handler = logging.handlers.RotatingFileHandler(\n",
    "            f\"../../logs/{datetime.now().strftime('%d-%m-%Y')}.log\",\n",
    "            maxBytes=1024 * 1024,\n",
    "            backupCount=1,\n",
    "            encoding=\"utf8\",\n",
    "        )\n",
    "        formatter = logging.Formatter(\"%(asctime)s - %(name)s - %(levelname)s - %(message)s\")\n",
    "        logger_file_handler.setFormatter(formatter)\n",
    "        logger.addHandler(logger_file_handler)\n",
    "        print(f\"logger {logger}\" )\n",
    "        \n",
    "        TOKEN = get_api_token()\n",
    "        url = \"https://api.waqi.info/search/?token=\" + TOKEN + \"&keyword=\" + station\n",
    "        response = requests.get(url)\n",
    "        if response.status_code == 200:\n",
    "            res = response.json()\n",
    "            result = []\n",
    "            if station.lower() in (res[\"data\"][0]['station']['name']).lower():\n",
    "                result.append(res[\"data\"][0]['aqi'])\n",
    "                result.append(res[\"data\"][0]['station']['name'])\n",
    "                result.append(pd.to_datetime(res[\"data\"][0]['time']['stime']))\n",
    "            logger.info(f\"station=> {station}, result => {result}\")\n",
    "            # Write to the file only when (station, time) is not already existing in the file.\n",
    "\n",
    "            new_timestamp = (res[\"data\"][0]['time']['stime'])\n",
    "            csv_file_path = output_file + '.csv'\n",
    "\n",
    "            # Check if the new timestamp is already present\n",
    "            with open(csv_file_path, 'r') as csv_file:\n",
    "                csv_reader = csv.reader(csv_file)\n",
    "                # Assuming the timestamp is in the 3rd column\n",
    "                existing_timestamps = [row[2] for row in csv_reader]\n",
    "\n",
    "            if new_timestamp not in existing_timestamps:\n",
    "                with open(csv_file_path, 'a', newline='') as csv_file:\n",
    "                    csv_writer = csv.writer(csv_file)\n",
    "                    csv_writer.writerow(result)\n",
    "                logger.info(f'The data has been written to {csv_file_path} with Timestamp: {new_timestamp}')\n",
    "            else:\n",
    "                logger.info(f'Timestamp {new_timestamp} already present in {csv_file_path}, not appending.')\n",
    "        else:\n",
    "            logger.info(f\"Error: {response.status_code} - {response.text}\")\n",
    "    except Exception as e:\n",
    "        print(\"Exception \",e)\n",
    "        logger.info(f\"Exception {type(e).__name__} has occured for station=> {station}\")"
   ]
  },
  {
   "cell_type": "code",
   "execution_count": 266,
   "id": "82189762",
   "metadata": {
    "ExecuteTime": {
     "end_time": "2023-11-28T02:10:00.658372Z",
     "start_time": "2023-11-28T02:09:47.769260Z"
    }
   },
   "outputs": [
    {
     "name": "stdout",
     "output_type": "stream",
     "text": [
      "logger <Logger __main__ (DEBUG)>\n",
      "Enter your API token: 7c0e1c5a796cf1a14edf4bf1462a99e9b37d8bdf\n",
      "logger <Logger __main__ (DEBUG)>\n"
     ]
    },
    {
     "ename": "KeyboardInterrupt",
     "evalue": "Interrupted by user",
     "output_type": "error",
     "traceback": [
      "\u001b[0;31m---------------------------------------------------------------------------\u001b[0m",
      "\u001b[0;31mKeyboardInterrupt\u001b[0m                         Traceback (most recent call last)",
      "Cell \u001b[0;32mIn [266], line 4\u001b[0m\n\u001b[1;32m      1\u001b[0m \u001b[38;5;66;03m# Initialize new file with ,,, or else you will get error\u001b[39;00m\n\u001b[1;32m      3\u001b[0m setData(NISE,  NISE_OUTPUT)\n\u001b[0;32m----> 4\u001b[0m \u001b[43msetData\u001b[49m\u001b[43m(\u001b[49m\u001b[43mSECTOR_51\u001b[49m\u001b[43m,\u001b[49m\u001b[43m \u001b[49m\u001b[43mSECTOR_51_OUTPUT\u001b[49m\u001b[43m)\u001b[49m\n\u001b[1;32m      5\u001b[0m setData(TERI_GRAM, TERI_GRAM_OUTPUT)\n\u001b[1;32m      6\u001b[0m setData(VIKAS_SADAN, VIKAS_SADAN_OUTPUT)\n",
      "Cell \u001b[0;32mIn [265], line 28\u001b[0m, in \u001b[0;36msetData\u001b[0;34m(station, output_file)\u001b[0m\n\u001b[1;32m     25\u001b[0m logger\u001b[38;5;241m.\u001b[39maddHandler(logger_file_handler)\n\u001b[1;32m     26\u001b[0m \u001b[38;5;28mprint\u001b[39m(\u001b[38;5;124mf\u001b[39m\u001b[38;5;124m\"\u001b[39m\u001b[38;5;124mlogger \u001b[39m\u001b[38;5;132;01m{\u001b[39;00mlogger\u001b[38;5;132;01m}\u001b[39;00m\u001b[38;5;124m\"\u001b[39m )\n\u001b[0;32m---> 28\u001b[0m TOKEN \u001b[38;5;241m=\u001b[39m \u001b[43mget_api_token\u001b[49m\u001b[43m(\u001b[49m\u001b[43m)\u001b[49m\n\u001b[1;32m     29\u001b[0m url \u001b[38;5;241m=\u001b[39m \u001b[38;5;124m\"\u001b[39m\u001b[38;5;124mhttps://api.waqi.info/search/?token=\u001b[39m\u001b[38;5;124m\"\u001b[39m \u001b[38;5;241m+\u001b[39m TOKEN \u001b[38;5;241m+\u001b[39m \u001b[38;5;124m\"\u001b[39m\u001b[38;5;124m&keyword=\u001b[39m\u001b[38;5;124m\"\u001b[39m \u001b[38;5;241m+\u001b[39m station\n\u001b[1;32m     30\u001b[0m response \u001b[38;5;241m=\u001b[39m requests\u001b[38;5;241m.\u001b[39mget(url)\n",
      "Cell \u001b[0;32mIn [212], line 6\u001b[0m, in \u001b[0;36mget_api_token\u001b[0;34m()\u001b[0m\n\u001b[1;32m      3\u001b[0m     \u001b[38;5;28;01mreturn\u001b[39;00m os\u001b[38;5;241m.\u001b[39menviron[\u001b[38;5;124m'\u001b[39m\u001b[38;5;124mAPI_TOKEN\u001b[39m\u001b[38;5;124m'\u001b[39m]\n\u001b[1;32m      4\u001b[0m \u001b[38;5;28;01mexcept\u001b[39;00m \u001b[38;5;167;01mKeyError\u001b[39;00m:\n\u001b[1;32m      5\u001b[0m      \u001b[38;5;66;03m# If running locally, use an alternative method to get the API token\u001b[39;00m\n\u001b[0;32m----> 6\u001b[0m     \u001b[38;5;28;01mreturn\u001b[39;00m \u001b[38;5;28;43minput\u001b[39;49m\u001b[43m(\u001b[49m\u001b[38;5;124;43m\"\u001b[39;49m\u001b[38;5;124;43mEnter your API token: \u001b[39;49m\u001b[38;5;124;43m\"\u001b[39;49m\u001b[43m)\u001b[49m\n",
      "File \u001b[0;32m/Library/Frameworks/Python.framework/Versions/3.10/lib/python3.10/site-packages/ipykernel/kernelbase.py:1177\u001b[0m, in \u001b[0;36mKernel.raw_input\u001b[0;34m(self, prompt)\u001b[0m\n\u001b[1;32m   1173\u001b[0m \u001b[38;5;28;01mif\u001b[39;00m \u001b[38;5;129;01mnot\u001b[39;00m \u001b[38;5;28mself\u001b[39m\u001b[38;5;241m.\u001b[39m_allow_stdin:\n\u001b[1;32m   1174\u001b[0m     \u001b[38;5;28;01mraise\u001b[39;00m StdinNotImplementedError(\n\u001b[1;32m   1175\u001b[0m         \u001b[38;5;124m\"\u001b[39m\u001b[38;5;124mraw_input was called, but this frontend does not support input requests.\u001b[39m\u001b[38;5;124m\"\u001b[39m\n\u001b[1;32m   1176\u001b[0m     )\n\u001b[0;32m-> 1177\u001b[0m \u001b[38;5;28;01mreturn\u001b[39;00m \u001b[38;5;28;43mself\u001b[39;49m\u001b[38;5;241;43m.\u001b[39;49m\u001b[43m_input_request\u001b[49m\u001b[43m(\u001b[49m\n\u001b[1;32m   1178\u001b[0m \u001b[43m    \u001b[49m\u001b[38;5;28;43mstr\u001b[39;49m\u001b[43m(\u001b[49m\u001b[43mprompt\u001b[49m\u001b[43m)\u001b[49m\u001b[43m,\u001b[49m\n\u001b[1;32m   1179\u001b[0m \u001b[43m    \u001b[49m\u001b[38;5;28;43mself\u001b[39;49m\u001b[38;5;241;43m.\u001b[39;49m\u001b[43m_parent_ident\u001b[49m\u001b[43m[\u001b[49m\u001b[38;5;124;43m\"\u001b[39;49m\u001b[38;5;124;43mshell\u001b[39;49m\u001b[38;5;124;43m\"\u001b[39;49m\u001b[43m]\u001b[49m\u001b[43m,\u001b[49m\n\u001b[1;32m   1180\u001b[0m \u001b[43m    \u001b[49m\u001b[38;5;28;43mself\u001b[39;49m\u001b[38;5;241;43m.\u001b[39;49m\u001b[43mget_parent\u001b[49m\u001b[43m(\u001b[49m\u001b[38;5;124;43m\"\u001b[39;49m\u001b[38;5;124;43mshell\u001b[39;49m\u001b[38;5;124;43m\"\u001b[39;49m\u001b[43m)\u001b[49m\u001b[43m,\u001b[49m\n\u001b[1;32m   1181\u001b[0m \u001b[43m    \u001b[49m\u001b[43mpassword\u001b[49m\u001b[38;5;241;43m=\u001b[39;49m\u001b[38;5;28;43;01mFalse\u001b[39;49;00m\u001b[43m,\u001b[49m\n\u001b[1;32m   1182\u001b[0m \u001b[43m\u001b[49m\u001b[43m)\u001b[49m\n",
      "File \u001b[0;32m/Library/Frameworks/Python.framework/Versions/3.10/lib/python3.10/site-packages/ipykernel/kernelbase.py:1219\u001b[0m, in \u001b[0;36mKernel._input_request\u001b[0;34m(self, prompt, ident, parent, password)\u001b[0m\n\u001b[1;32m   1216\u001b[0m             \u001b[38;5;28;01mbreak\u001b[39;00m\n\u001b[1;32m   1217\u001b[0m \u001b[38;5;28;01mexcept\u001b[39;00m \u001b[38;5;167;01mKeyboardInterrupt\u001b[39;00m:\n\u001b[1;32m   1218\u001b[0m     \u001b[38;5;66;03m# re-raise KeyboardInterrupt, to truncate traceback\u001b[39;00m\n\u001b[0;32m-> 1219\u001b[0m     \u001b[38;5;28;01mraise\u001b[39;00m \u001b[38;5;167;01mKeyboardInterrupt\u001b[39;00m(\u001b[38;5;124m\"\u001b[39m\u001b[38;5;124mInterrupted by user\u001b[39m\u001b[38;5;124m\"\u001b[39m) \u001b[38;5;28;01mfrom\u001b[39;00m \u001b[38;5;28mNone\u001b[39m\n\u001b[1;32m   1220\u001b[0m \u001b[38;5;28;01mexcept\u001b[39;00m \u001b[38;5;167;01mException\u001b[39;00m:\n\u001b[1;32m   1221\u001b[0m     \u001b[38;5;28mself\u001b[39m\u001b[38;5;241m.\u001b[39mlog\u001b[38;5;241m.\u001b[39mwarning(\u001b[38;5;124m\"\u001b[39m\u001b[38;5;124mInvalid Message:\u001b[39m\u001b[38;5;124m\"\u001b[39m, exc_info\u001b[38;5;241m=\u001b[39m\u001b[38;5;28;01mTrue\u001b[39;00m)\n",
      "\u001b[0;31mKeyboardInterrupt\u001b[0m: Interrupted by user"
     ]
    }
   ],
   "source": [
    "# Initialize new file with ,,, or else you will get error\n",
    "\n",
    "setData(NISE,  NISE_OUTPUT)\n",
    "setData(SECTOR_51, SECTOR_51_OUTPUT)\n",
    "setData(TERI_GRAM, TERI_GRAM_OUTPUT)\n",
    "setData(VIKAS_SADAN, VIKAS_SADAN_OUTPUT)"
   ]
  },
  {
   "cell_type": "code",
   "execution_count": 258,
   "id": "87674c79",
   "metadata": {
    "ExecuteTime": {
     "end_time": "2023-11-28T02:06:38.843208Z",
     "start_time": "2023-11-28T02:06:37.214492Z"
    }
   },
   "outputs": [
    {
     "name": "stdout",
     "output_type": "stream",
     "text": [
      "logger <RotatingFileHandler /Users/pranaii1729/Jupyter Notebooks/My-Jupyter-Notebooks/My-Jupyter-Notebooks/AQI project - Updated notebooks/Analysing-Air-Quality-Index-using-Machine-Learning/logs/28-11-2023.log (NOTSET)>\n",
      "logger <Logger __main__ (DEBUG)>\n"
     ]
    }
   ],
   "source": [
    "# import logging\n",
    "# import logging.handlers\n",
    "# import os\n",
    "# import requests\n",
    "\n",
    "logger = logging.getLogger(__name__)\n",
    "\n",
    "logger.setLevel(logging.DEBUG)\n",
    "logger_file_handler = logging.handlers.RotatingFileHandler(\n",
    "    f\"../../logs/{datetime.now().strftime('%d-%m-%Y')}.log\",\n",
    "    maxBytes=1024 * 1024,\n",
    "    backupCount=1,\n",
    "    encoding=\"utf8\",\n",
    ")\n",
    "print(f\"logger {logger_file_handler}\" )\n",
    "formatter = logging.Formatter(\"%(asctime)s - %(name)s - %(levelname)s - %(message)s\")\n",
    "logger_file_handler.setFormatter(formatter)\n",
    "logger.addHandler(logger_file_handler)\n",
    "print(f\"logger {logger}\" )\n",
    "r = requests.get('https://weather.talkpython.fm/api/weather/?city=Berlin&country=DE')\n",
    "if r.status_code == 200:\n",
    "    data = r.json()\n",
    "    temperature = data[\"forecast\"][\"temp\"]\n",
    "#     logger.info(f'Weather in Berlin: {temperature}')"
   ]
  },
  {
   "cell_type": "code",
   "execution_count": 247,
   "id": "c231e6b9",
   "metadata": {
    "ExecuteTime": {
     "end_time": "2023-11-28T02:03:27.365583Z",
     "start_time": "2023-11-28T02:03:27.359216Z"
    }
   },
   "outputs": [
    {
     "data": {
      "text/plain": [
       "'../../logs/28-11-2023.log'"
      ]
     },
     "execution_count": 247,
     "metadata": {},
     "output_type": "execute_result"
    }
   ],
   "source": [
    "f\"../../logs/{datetime.now().strftime('%d-%m-%Y')}.log\""
   ]
  },
  {
   "cell_type": "code",
   "execution_count": null,
   "id": "e1ebe06f",
   "metadata": {},
   "outputs": [],
   "source": []
  }
 ],
 "metadata": {
  "kernelspec": {
   "display_name": "Python 3 (ipykernel)",
   "language": "python",
   "name": "python3"
  },
  "language_info": {
   "codemirror_mode": {
    "name": "ipython",
    "version": 3
   },
   "file_extension": ".py",
   "mimetype": "text/x-python",
   "name": "python",
   "nbconvert_exporter": "python",
   "pygments_lexer": "ipython3",
   "version": "3.10.2"
  },
  "varInspector": {
   "cols": {
    "lenName": 16,
    "lenType": 16,
    "lenVar": 40
   },
   "kernels_config": {
    "python": {
     "delete_cmd_postfix": "",
     "delete_cmd_prefix": "del ",
     "library": "var_list.py",
     "varRefreshCmd": "print(var_dic_list())"
    },
    "r": {
     "delete_cmd_postfix": ") ",
     "delete_cmd_prefix": "rm(",
     "library": "var_list.r",
     "varRefreshCmd": "cat(var_dic_list()) "
    }
   },
   "types_to_exclude": [
    "module",
    "function",
    "builtin_function_or_method",
    "instance",
    "_Feature"
   ],
   "window_display": false
  }
 },
 "nbformat": 4,
 "nbformat_minor": 5
}
