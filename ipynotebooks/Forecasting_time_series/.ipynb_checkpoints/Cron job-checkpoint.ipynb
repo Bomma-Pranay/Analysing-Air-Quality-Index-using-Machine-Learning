{
 "cells": [
  {
   "cell_type": "code",
   "execution_count": 49,
   "id": "bb05b3b9",
   "metadata": {
    "ExecuteTime": {
     "end_time": "2023-11-26T16:49:20.445803Z",
     "start_time": "2023-11-26T16:49:20.422269Z"
    }
   },
   "outputs": [],
   "source": [
    "import requests\n",
    "import pandas as pd\n",
    "import pprint\n",
    "import csv\n",
    "from datetime import datetime"
   ]
  },
  {
   "cell_type": "code",
   "execution_count": null,
   "id": "63786c86",
   "metadata": {
    "ExecuteTime": {
     "end_time": "2023-11-26T17:12:27.767391Z",
     "start_time": "2023-11-26T17:12:27.743138Z"
    }
   },
   "outputs": [],
   "source": []
  },
  {
   "cell_type": "code",
   "execution_count": 29,
   "id": "12f3e501",
   "metadata": {
    "ExecuteTime": {
     "end_time": "2023-11-26T11:29:30.962918Z",
     "start_time": "2023-11-26T11:29:30.954316Z"
    }
   },
   "outputs": [],
   "source": [
    "# NISE\n",
    "NISE = \"nise gwal\"\n",
    "NISE_STATION = \"NISE Gwal Pahari, Gurugram, India\"\n",
    "\n",
    "# Sector 51\n",
    "SECTOR_51 = \"Sector-51, Gurugram\"\n",
    "SECTOR_51_STATION = \"Sector-51, Gurugram, India\"\n",
    "\n",
    "# Teri gram\n",
    "TERI_GRAM = \"Teri Gram, Gurugram\"\n",
    "TERI_GRAM_STATION = \"Teri Gram, Gurugram\"\n",
    "\n",
    "# Vikas Sadan\n",
    "VIKAS_SADAN = \"Vikas Sadan Gurgaon\"\n",
    "VIKAS_SADAN_STATION = \"Vikas Sadan Gurgaon\""
   ]
  },
  {
   "cell_type": "code",
   "execution_count": 52,
   "id": "02d33c44",
   "metadata": {
    "ExecuteTime": {
     "end_time": "2023-11-26T16:53:09.310235Z",
     "start_time": "2023-11-26T16:53:09.296514Z"
    }
   },
   "outputs": [],
   "source": [
    "# Incase if api fails, write to file with previous day\n",
    "\n",
    "def setData(station, station_location):\n",
    "    url = \"https://api.waqi.info/search/?token=7c0e1c5a796cf1a14edf4bf1462a99e9b37d8bdf&keyword=\"+station\n",
    "    response = requests.get(url)\n",
    "    if response.status_code == 200:\n",
    "        res = response.json()\n",
    "        result = []\n",
    "        if res[\"data\"][0]['station']['name'] == station_location:\n",
    "            result.append(res[\"data\"][0]['aqi'])\n",
    "            result.append(res[\"data\"][0]['station']['name'])\n",
    "            result.append(pd.to_datetime(res[\"data\"][0]['time']['stime']))\n",
    "        print(station, result) \n",
    "\n",
    "        # Write to the file only when (station, time) is not already existing in the file.\n",
    "        \n",
    "        csv_file_path = 'output.csv'\n",
    "        with open(csv_file_path, 'a', newline='') as csv_file:\n",
    "            csv_writer = csv.writer(csv_file)\n",
    "            csv_writer.writerows([result])\n",
    "        print(f'The data has been written to {csv_file_path}')\n",
    "    else:\n",
    "        print(f\"Error: {response.status_code} - {response.text}\")"
   ]
  },
  {
   "cell_type": "code",
   "execution_count": 76,
   "id": "6b754cf6",
   "metadata": {
    "ExecuteTime": {
     "end_time": "2023-11-26T17:07:20.898025Z",
     "start_time": "2023-11-26T17:07:20.880691Z"
    }
   },
   "outputs": [],
   "source": [
    "# Incase if api fails, write to file with previous day\n",
    "\n",
    "def setData(station, station_location):\n",
    "    url = \"https://api.waqi.info/search/?token=7c0e1c5a796cf1a14edf4bf1462a99e9b37d8bdf&keyword=\"+station\n",
    "    response = requests.get(url)\n",
    "    if response.status_code == 200:\n",
    "        res = response.json()\n",
    "        result = []\n",
    "        if res[\"data\"][0]['station']['name'] == station_location:\n",
    "            result.append(res[\"data\"][0]['aqi'])\n",
    "            result.append(res[\"data\"][0]['station']['name'])\n",
    "            result.append(pd.to_datetime(res[\"data\"][0]['time']['stime']))\n",
    "        print(station, result) \n",
    "\n",
    "        # Write to the file only when (station, time) is not already existing in the file.\n",
    "        \n",
    "        new_timestamp = (res[\"data\"][0]['time']['stime'])\n",
    "        csv_file_path = 'output.csv'\n",
    "\n",
    "        # Check if the new timestamp is already present\n",
    "        with open(csv_file_path, 'r') as csv_file:\n",
    "            csv_reader = csv.reader(csv_file)\n",
    "            print(\"csv_reader\",csv_reader)\n",
    "            # Assuming the timestamp is in the 3rd column\n",
    "            existing_timestamps = [row[2] for row in csv_reader]\n",
    "        \n",
    "        if new_timestamp not in existing_timestamps:\n",
    "            with open(csv_file_path, 'a', newline='') as csv_file:\n",
    "                csv_writer = csv.writer(csv_file)\n",
    "                csv_writer.writerows([result])\n",
    "            print(f'The data has been written to {csv_file_path} with Timestamp: {new_timestamp}')\n",
    "        else:\n",
    "            print(f'Timestamp {new_timestamp} already present in {csv_file_path}, not appending.')\n",
    "\n",
    "#         csv_file_path = 'output.csv'\n",
    "#         with open(csv_file_path, 'a', newline='') as csv_file:\n",
    "#             csv_writer = csv.writer(csv_file)\n",
    "#             csv_writer.writerows([result])\n",
    "#         print(f'The data has been written to {csv_file_path}')\n",
    "    else:\n",
    "        print(f\"Error: {response.status_code} - {response.text}\")"
   ]
  },
  {
   "cell_type": "code",
   "execution_count": 81,
   "id": "f73a31e8",
   "metadata": {
    "ExecuteTime": {
     "end_time": "2023-11-26T17:09:20.726046Z",
     "start_time": "2023-11-26T17:09:20.189983Z"
    }
   },
   "outputs": [
    {
     "name": "stdout",
     "output_type": "stream",
     "text": [
      "nise gwal ['200', 'NISE Gwal Pahari, Gurugram, India', Timestamp('2023-11-26 19:00:00')]\n",
      "csv_reader <_csv.reader object at 0x157cd02e0>\n",
      "[row[0] for row in csv_reader] []\n",
      "existing_timestamps ['2023-11-26 19:00:00'] new_timestamp 2023-11-26 19:00:00\n",
      "Timestamp 2023-11-26 19:00:00 already present in output.csv, not appending.\n"
     ]
    }
   ],
   "source": [
    "setData(NISE, NISE_STATION)\n",
    "# setData(SECTOR_51, SECTOR_51_STATION)\n",
    "# setData(TERI_GRAM, TERI_GRAM_STATION)\n",
    "# setData(VIKAS_SADAN, VIKAS_SADAN_STATION)"
   ]
  },
  {
   "cell_type": "code",
   "execution_count": 72,
   "id": "63cf0005",
   "metadata": {
    "ExecuteTime": {
     "end_time": "2023-11-26T17:05:53.077744Z",
     "start_time": "2023-11-26T17:05:53.064554Z"
    }
   },
   "outputs": [
    {
     "data": {
      "text/plain": [
       "True"
      ]
     },
     "execution_count": 72,
     "metadata": {},
     "output_type": "execute_result"
    }
   ],
   "source": [
    " '2023-11-26 19:00:00' in ['2023-11-26 19:00:00', '2023-11-26 19:00:00', '2023-11-26 19:00:00'] "
   ]
  },
  {
   "cell_type": "code",
   "execution_count": null,
   "id": "8260b67a",
   "metadata": {},
   "outputs": [],
   "source": [
    "# Example new timestamp\n",
    "new_timestamp = datetime.now().strftime(\"%Y-%m-%d %H:%M:%S\")\n",
    "\n",
    "# Specify the CSV file path\n",
    "csv_file_path = 'timestamps.csv'\n",
    "\n",
    "# Check if the new timestamp is already present\n",
    "with open(csv_file_path, 'r') as csv_file:\n",
    "    csv_reader = csv.reader(csv_file)\n",
    "    \n",
    "    # Assuming the timestamp is in the first column\n",
    "    existing_timestamps = [row[0] for row in csv_reader]\n",
    "\n",
    "if new_timestamp not in existing_timestamps:\n",
    "    # Append the new timestamp\n",
    "    with open(csv_file_path, 'a', newline='') as csv_file:\n",
    "        csv_writer = csv.writer(csv_file)\n",
    "        csv_writer.writerow([new_timestamp])\n",
    "    print(f'Timestamp {new_timestamp} appended to {csv_file_path}')\n",
    "else:\n",
    "    print(f'Timestamp {new_timestamp} already present in {csv_file_path}, not appending.')\n"
   ]
  },
  {
   "cell_type": "code",
   "execution_count": 8,
   "id": "9f308ff3",
   "metadata": {
    "ExecuteTime": {
     "end_time": "2023-11-26T11:15:57.747336Z",
     "start_time": "2023-11-26T11:15:57.229878Z"
    }
   },
   "outputs": [
    {
     "data": {
      "text/plain": [
       "{'status': 'ok',\n",
       " 'data': [{'uid': 11300,\n",
       "   'aqi': '226',\n",
       "   'time': {'tz': '+05:30',\n",
       "    'stime': '2023-11-26 13:00:00',\n",
       "    'vtime': 1700983800},\n",
       "   'station': {'name': 'NISE Gwal Pahari, Gurugram, India',\n",
       "    'geo': [28.422681, 77.148944],\n",
       "    'url': 'india/gurugram/nise-gwal-pahari'}}]}"
      ]
     },
     "execution_count": 8,
     "metadata": {},
     "output_type": "execute_result"
    }
   ],
   "source": [
    "res = getAQI(\"nise gwal\")\n",
    "res"
   ]
  },
  {
   "cell_type": "code",
   "execution_count": 24,
   "id": "8d6a771a",
   "metadata": {
    "ExecuteTime": {
     "end_time": "2023-11-26T11:22:51.557567Z",
     "start_time": "2023-11-26T11:22:51.542287Z"
    }
   },
   "outputs": [
    {
     "data": {
      "text/plain": [
       "{'AQI': '226',\n",
       " 'Station': 'NISE Gwal Pahari, Gurugram, India',\n",
       " 'Time': Timestamp('2023-11-26 13:00:00')}"
      ]
     },
     "execution_count": 24,
     "metadata": {},
     "output_type": "execute_result"
    }
   ],
   "source": [
    "nise_response = dict()\n",
    "if res[\"data\"][0]['station']['name'] == NISE_STATION:\n",
    "    nise_response['AQI'] = res[\"data\"][0]['aqi']\n",
    "    nise_response['Station'] = res[\"data\"][0]['station']['name']\n",
    "    nise_response['Time'] = pd.to_datetime(res[\"data\"][0]['time']['stime'])\n",
    "nise_response"
   ]
  },
  {
   "cell_type": "code",
   "execution_count": 26,
   "id": "b6ace3d4",
   "metadata": {
    "ExecuteTime": {
     "end_time": "2023-11-26T11:23:24.655923Z",
     "start_time": "2023-11-26T11:23:24.628006Z"
    }
   },
   "outputs": [
    {
     "data": {
      "text/html": [
       "<div>\n",
       "<style scoped>\n",
       "    .dataframe tbody tr th:only-of-type {\n",
       "        vertical-align: middle;\n",
       "    }\n",
       "\n",
       "    .dataframe tbody tr th {\n",
       "        vertical-align: top;\n",
       "    }\n",
       "\n",
       "    .dataframe thead th {\n",
       "        text-align: right;\n",
       "    }\n",
       "</style>\n",
       "<table border=\"1\" class=\"dataframe\">\n",
       "  <thead>\n",
       "    <tr style=\"text-align: right;\">\n",
       "      <th></th>\n",
       "      <th>AQI</th>\n",
       "      <th>Station</th>\n",
       "      <th>Time</th>\n",
       "    </tr>\n",
       "  </thead>\n",
       "  <tbody>\n",
       "    <tr>\n",
       "      <th>0</th>\n",
       "      <td>226</td>\n",
       "      <td>NISE Gwal Pahari, Gurugram, India</td>\n",
       "      <td>2023-11-26 13:00:00</td>\n",
       "    </tr>\n",
       "    <tr>\n",
       "      <th>1</th>\n",
       "      <td>226</td>\n",
       "      <td>NISE Gwal Pahari, Gurugram, India</td>\n",
       "      <td>2023-11-26 13:00:00</td>\n",
       "    </tr>\n",
       "    <tr>\n",
       "      <th>2</th>\n",
       "      <td>226</td>\n",
       "      <td>NISE Gwal Pahari, Gurugram, India</td>\n",
       "      <td>2023-11-26 13:00:00</td>\n",
       "    </tr>\n",
       "  </tbody>\n",
       "</table>\n",
       "</div>"
      ],
      "text/plain": [
       "   AQI                            Station                Time\n",
       "0  226  NISE Gwal Pahari, Gurugram, India 2023-11-26 13:00:00\n",
       "1  226  NISE Gwal Pahari, Gurugram, India 2023-11-26 13:00:00\n",
       "2  226  NISE Gwal Pahari, Gurugram, India 2023-11-26 13:00:00"
      ]
     },
     "execution_count": 26,
     "metadata": {},
     "output_type": "execute_result"
    }
   ],
   "source": [
    "pd.DataFrame(nise_response, index=[0,1,2])"
   ]
  },
  {
   "cell_type": "code",
   "execution_count": 27,
   "id": "af918dcc",
   "metadata": {
    "ExecuteTime": {
     "end_time": "2023-11-26T11:23:41.507292Z",
     "start_time": "2023-11-26T11:23:41.495793Z"
    }
   },
   "outputs": [],
   "source": [
    "pd.DataFrame?"
   ]
  },
  {
   "cell_type": "code",
   "execution_count": 37,
   "id": "878fe363",
   "metadata": {
    "ExecuteTime": {
     "end_time": "2023-11-26T11:33:40.525784Z",
     "start_time": "2023-11-26T11:33:40.513833Z"
    }
   },
   "outputs": [
    {
     "name": "stdout",
     "output_type": "stream",
     "text": [
      "The data has been written to example.csv\n"
     ]
    }
   ],
   "source": [
    "import csv\n",
    "\n",
    "# Example list\n",
    "data = [\n",
    "    ['Name', 'Age', 'City'],\n",
    "    ['Alice', 25, 'New York'],\n",
    "    ['Bob', 30, 'San Francisco'],\n",
    "    ['Charlie', 22, 'Los Angeles']\n",
    "]\n",
    "\n",
    "# Specify the file name\n",
    "# csv_file_path = 'example.csv'\n",
    "\n",
    "# Writing to CSV file\n",
    "with open(csv_file_path, 'w', newline='') as csv_file:\n",
    "    csv_writer = csv.writer(csv_file)\n",
    "    csv_writer.writerows(data)\n",
    "\n",
    "print(f'The data has been written to {csv_file_path}')"
   ]
  },
  {
   "cell_type": "code",
   "execution_count": null,
   "id": "6f8acfec",
   "metadata": {},
   "outputs": [],
   "source": []
  }
 ],
 "metadata": {
  "kernelspec": {
   "display_name": "Python 3 (ipykernel)",
   "language": "python",
   "name": "python3"
  },
  "language_info": {
   "codemirror_mode": {
    "name": "ipython",
    "version": 3
   },
   "file_extension": ".py",
   "mimetype": "text/x-python",
   "name": "python",
   "nbconvert_exporter": "python",
   "pygments_lexer": "ipython3",
   "version": "3.10.2"
  },
  "varInspector": {
   "cols": {
    "lenName": 16,
    "lenType": 16,
    "lenVar": 40
   },
   "kernels_config": {
    "python": {
     "delete_cmd_postfix": "",
     "delete_cmd_prefix": "del ",
     "library": "var_list.py",
     "varRefreshCmd": "print(var_dic_list())"
    },
    "r": {
     "delete_cmd_postfix": ") ",
     "delete_cmd_prefix": "rm(",
     "library": "var_list.r",
     "varRefreshCmd": "cat(var_dic_list()) "
    }
   },
   "types_to_exclude": [
    "module",
    "function",
    "builtin_function_or_method",
    "instance",
    "_Feature"
   ],
   "window_display": false
  }
 },
 "nbformat": 4,
 "nbformat_minor": 5
}
