{
 "cells": [
  {
   "cell_type": "code",
<<<<<<< HEAD
   "execution_count": 463,
   "id": "49bd385e",
   "metadata": {
    "ExecuteTime": {
     "end_time": "2023-12-02T10:09:45.667795Z",
     "start_time": "2023-12-02T10:09:45.446748Z"
=======
   "execution_count": 424,
   "id": "49bd385e",
   "metadata": {
    "ExecuteTime": {
     "end_time": "2023-12-02T08:47:52.049378Z",
     "start_time": "2023-12-02T08:47:51.922710Z"
>>>>>>> 2854126 (added writeData function)
    }
   },
   "outputs": [],
   "source": [
    "import requests\n",
    "import pprint\n",
    "import csv\n",
    "from datetime import datetime\n",
    "import logging\n",
    "import os\n",
    "import logging.handlers\n",
    "\n",
    "# Data analysis\n",
    "import pandas as pd \n",
    "\n",
    "# Data Visualization\n",
    "import matplotlib.pyplot as plt \n",
    "import seaborn as sns\n",
    "import plotly.express as px \n",
    "\n",
    "# Time Series\n",
    "from statsmodels.graphics.tsaplots import plot_acf, plot_pacf\n",
    "from statsmodels.tsa.stattools import acf, pacf\n",
    "from datetime import datetime, timedelta\n",
    "from statsmodels.tsa.arima.model import ARIMA \n",
    "from statsmodels.tsa.statespace.sarimax import SARIMAX\n",
    "from pmdarima import auto_arima\n",
    "import statsmodels.api as sm\n",
    "\n",
    "# For printing multiple outputs\n",
    "from IPython.core.interactiveshell import InteractiveShell\n",
    "InteractiveShell.ast_node_interactivity = \"all\"\n",
    "\n",
    "# Visualization parameters\n",
    "sns.set(rc={\"figure.dpi\":100, 'savefig.dpi':300})\n",
    "sns.set_context('notebook')\n",
    "sns.set_style(\"ticks\")\n",
    "from IPython.display import set_matplotlib_formats\n",
    "%config InlineBackend.figure_format = 'retina'\n",
    "\n",
    "\n",
    "# NISE\n",
    "NISE = \"nise gwal\"\n",
    "NISE_STATION = \"NISE Gwal Pahari, Gurugram, India\"\n",
    "NISE_OUTPUT = \"../../data/cron_job_data/nise_cron_output\"\n",
    "\n",
    "# Sector 51\n",
    "SECTOR_51 = \"Sector-51, Gurugram\"\n",
    "SECTOR_51_STATION = \"Sector-51, Gurugram, India\"\n",
    "SECTOR_51_OUTPUT = \"../../data/cron_job_data/sector_51_cron_output\"\n",
    "SECTOR_51_DAILY_AQI = '../../data/cleaned_data/Forecasting_time_series/sector_51_daily_aqi.csv'\n",
    "\n",
    "# Teri gram\n",
    "TERI_GRAM = \"Teri Gram\"\n",
    "TERI_GRAM_STATION = \"Teri Gram, Gurugram\"\n",
    "TERI_GRAM_OUTPUT = \"../../data/cron_job_data/teri_gram_cron_output\"\n",
    "\n",
    "# Vikas Sadan\n",
    "VIKAS_SADAN = \"Vikas Sadan\"\n",
    "VIKAS_SADAN_STATION = \"Vikas Sadan Gurgaon\"\n",
    "VIKAS_SADAN_OUTPUT = \"../../data/cron_job_data/vikas_sadan_cron_output\"\n",
    "\n",
    "stations = [(NISE,  NISE_OUTPUT), (SECTOR_51, SECTOR_51_OUTPUT), (TERI_GRAM, TERI_GRAM_OUTPUT), (VIKAS_SADAN, VIKAS_SADAN_OUTPUT)]\n",
    "\n",
    "def get_api_token():\n",
    "    try:\n",
    "        return os.environ['API_TOKEN']\n",
    "    except KeyError:\n",
    "        print(\"KeyError\")\n",
    "         # If running locally, use an alternative method to get the API token\n",
    "        return input(\"Enter your API token: \")\n",
    "    \n",
    "# Incase if api fails, write to file with previous day\n",
    "# In 2nd cron daily job, Incase if api fails, write to file with previous day\n",
    "def setData(station, output_file):\n",
    "    try:\n",
    "        # Logging\n",
    "        logger = logging.getLogger(__name__)\n",
    "        logger.setLevel(logging.INFO)\n",
    "        logger_file_handler = logging.handlers.RotatingFileHandler(\n",
    "            f\"logs/{datetime.now().strftime('%d-%m-%Y')}.log\",\n",
    "            maxBytes=1024 * 1024,\n",
    "            backupCount=1,\n",
    "            encoding=\"utf8\",\n",
    "        )\n",
    "        formatter = logging.Formatter(\"%(asctime)s - %(name)s - %(levelname)s - %(message)s\")\n",
    "        logger_file_handler.setFormatter(formatter)\n",
    "        logger.addHandler(logger_file_handler)\n",
    "        \n",
    "        # Get API token\n",
    "        TOKEN = get_api_token()\n",
    "\n",
    "        # Get the API response\n",
    "        url = \"https://api.waqi.info/search/?token=\" + TOKEN + \"&keyword=\" + station\n",
    "        response = requests.get(url)\n",
    "        if response.status_code == 200:\n",
    "            res = response.json()\n",
    "            result = []\n",
    "            if station.lower() in (res[\"data\"][0]['station']['name']).lower():\n",
    "                result.append(res[\"data\"][0]['aqi'])\n",
    "                result.append(res[\"data\"][0]['station']['name'])\n",
    "                result.append(pd.to_datetime(res[\"data\"][0]['time']['stime']))\n",
    "            logger.info(f\"station=> {station}, result => {result}\")\n",
    "            print(f\"station=> {station}, result => {result}\")\n",
    "            \n",
    "            # Write to the file only when (station, time) is not already existing in the file.\n",
    "\n",
    "            new_timestamp = (res[\"data\"][0]['time']['stime'])\n",
    "            csv_file_path = output_file + '.csv'\n",
    "\n",
    "            # Check if the new timestamp is already present\n",
    "            with open(csv_file_path, 'r') as csv_file:\n",
    "                csv_reader = csv.reader(csv_file)\n",
    "                # Assuming the timestamp is in the 3rd column\n",
    "                existing_timestamps = [row[2] for row in csv_reader]\n",
    "\n",
    "            if new_timestamp not in existing_timestamps:\n",
    "                with open(csv_file_path, 'a', newline='') as csv_file:\n",
    "                    csv_writer = csv.writer(csv_file)\n",
    "                    csv_writer.writerow(result)\n",
    "                print(f'The data has been written to {csv_file_path} with Timestamp: {new_timestamp}')\n",
    "                logger.info(f'The data has been written to {csv_file_path} with Timestamp: {new_timestamp}')\n",
    "            else:\n",
    "                print(f'Timestamp {new_timestamp} already present in {csv_file_path}, not appending.')\n",
    "                logger.info(f'Timestamp {new_timestamp} already present in {csv_file_path}, not appending.')\n",
    "        else:\n",
    "            print(f\"Error: {response.status_code} - {response.text}\")\n",
    "            logger.info(f\"Error: {response.status_code} - {response.text}\")\n",
    "    except Exception as e:\n",
    "        \n",
    "        logging.info(\"1\")\n",
    "        logging.debug(\"2\")\n",
    "#         print(f\"Exception {type(e).__name__} has occured for station=> {station}\")\n",
    "        logger.info(f\"Exception {type(e).__name__} has occured for station=> {station}\")\n",
    "        \n",
    "def setLogger():\n",
    "    logger = logging.getLogger(__name__)\n",
    "    logger.setLevel(logging.INFO)\n",
    "    logger_file_handler = logging.handlers.RotatingFileHandler(\n",
    "        f\"logs/{datetime.now().strftime('%d-%m-%Y')}.log\",\n",
    "        maxBytes=1024 * 1024,\n",
    "        backupCount=1,\n",
    "        encoding=\"utf8\",\n",
    "    )\n",
    "    formatter = logging.Formatter(\"%(asctime)s - %(name)s - %(levelname)s - %(message)s\")\n",
    "    logger_file_handler.setFormatter(formatter)\n",
    "    logger.addHandler(logger_file_handler)\n",
    "    return logger\n"
   ]
  },
  {
   "cell_type": "code",
   "execution_count": 374,
   "id": "9ed86042",
   "metadata": {
    "ExecuteTime": {
     "end_time": "2023-12-01T02:32:19.895838Z",
     "start_time": "2023-12-01T02:32:19.886384Z"
    }
   },
   "outputs": [],
   "source": [
    "def writeData(station_hourly_aqi, station_daily_aqi):\n",
    "    df_api = pd.read_csv(station_hourly_aqi)\n",
    "    df_api['Time'] = pd.to_datetime(df_api['Time'])\n",
    "    df_api.set_index('Time', inplace=True)\n",
    "    df_api = df_api.resample('D').mean()\n",
    "    df_api['AQI'] = round(df_api['AQI'])\n",
    "    today = datetime.now().date()\n",
    "    yesterday = today - timedelta(days=1)\n",
    "    with open(station_daily_aqi, 'a', newline='') as csv_file:\n",
    "        csv_writer = csv.writer(csv_file)    \n",
    "        csv_writer.writerow([pd.read_csv(station_daily_aqi).iloc[-1,0] + 1, yesterday, df_api[yesterday:yesterday].AQI.values[0]])\n"
   ]
  },
  {
   "cell_type": "code",
   "execution_count": 376,
   "id": "d76e9365",
   "metadata": {
    "ExecuteTime": {
     "end_time": "2023-12-01T02:32:36.225907Z",
     "start_time": "2023-12-01T02:32:30.077277Z"
    }
   },
   "outputs": [
    {
     "name": "stdout",
     "output_type": "stream",
     "text": [
      "KeyError\n",
      "Enter your API token: 7c0e1c5a796cf1a14edf4bf1462a99e9b37d8bdf\n",
      "Exception AttributeError has occured for station=> nise gwal\n"
     ]
    },
    {
     "ename": "AttributeError",
     "evalue": "'float' object has no attribute 'astimezone'",
     "output_type": "error",
     "traceback": [
      "\u001b[0;31m---------------------------------------------------------------------------\u001b[0m",
      "\u001b[0;31mAttributeError\u001b[0m                            Traceback (most recent call last)",
      "Cell \u001b[0;32mIn [375], line 55\u001b[0m, in \u001b[0;36msetData\u001b[0;34m(station, output_file, logger, TOKEN)\u001b[0m\n\u001b[1;32m     54\u001b[0m     result\u001b[38;5;241m.\u001b[39mappend(pd\u001b[38;5;241m.\u001b[39mto_datetime(res[\u001b[38;5;124m\"\u001b[39m\u001b[38;5;124mdata\u001b[39m\u001b[38;5;124m\"\u001b[39m][\u001b[38;5;241m0\u001b[39m][\u001b[38;5;124m'\u001b[39m\u001b[38;5;124mtime\u001b[39m\u001b[38;5;124m'\u001b[39m][\u001b[38;5;124m'\u001b[39m\u001b[38;5;124mstime\u001b[39m\u001b[38;5;124m'\u001b[39m]))\n\u001b[0;32m---> 55\u001b[0m \u001b[43mlogger\u001b[49m\u001b[38;5;241;43m.\u001b[39;49m\u001b[43minfo\u001b[49m\u001b[43m(\u001b[49m\u001b[38;5;124;43mf\u001b[39;49m\u001b[38;5;124;43m\"\u001b[39;49m\u001b[38;5;124;43mstation=> \u001b[39;49m\u001b[38;5;132;43;01m{\u001b[39;49;00m\u001b[43mstation\u001b[49m\u001b[38;5;132;43;01m}\u001b[39;49;00m\u001b[38;5;124;43m, result => \u001b[39;49m\u001b[38;5;132;43;01m{\u001b[39;49;00m\u001b[43mresult\u001b[49m\u001b[38;5;132;43;01m}\u001b[39;49;00m\u001b[38;5;124;43m\"\u001b[39;49m\u001b[43m)\u001b[49m\n\u001b[1;32m     56\u001b[0m \u001b[38;5;28mprint\u001b[39m(\u001b[38;5;124mf\u001b[39m\u001b[38;5;124m\"\u001b[39m\u001b[38;5;124mstation=> \u001b[39m\u001b[38;5;132;01m{\u001b[39;00mstation\u001b[38;5;132;01m}\u001b[39;00m\u001b[38;5;124m, result => \u001b[39m\u001b[38;5;132;01m{\u001b[39;00mresult\u001b[38;5;132;01m}\u001b[39;00m\u001b[38;5;124m\"\u001b[39m)\n",
      "File \u001b[0;32m/Library/Frameworks/Python.framework/Versions/3.10/lib/python3.10/logging/__init__.py:1477\u001b[0m, in \u001b[0;36mLogger.info\u001b[0;34m(self, msg, *args, **kwargs)\u001b[0m\n\u001b[1;32m   1476\u001b[0m \u001b[38;5;28;01mif\u001b[39;00m \u001b[38;5;28mself\u001b[39m\u001b[38;5;241m.\u001b[39misEnabledFor(INFO):\n\u001b[0;32m-> 1477\u001b[0m     \u001b[38;5;28;43mself\u001b[39;49m\u001b[38;5;241;43m.\u001b[39;49m\u001b[43m_log\u001b[49m\u001b[43m(\u001b[49m\u001b[43mINFO\u001b[49m\u001b[43m,\u001b[49m\u001b[43m \u001b[49m\u001b[43mmsg\u001b[49m\u001b[43m,\u001b[49m\u001b[43m \u001b[49m\u001b[43margs\u001b[49m\u001b[43m,\u001b[49m\u001b[43m \u001b[49m\u001b[38;5;241;43m*\u001b[39;49m\u001b[38;5;241;43m*\u001b[39;49m\u001b[43mkwargs\u001b[49m\u001b[43m)\u001b[49m\n",
      "File \u001b[0;32m/Library/Frameworks/Python.framework/Versions/3.10/lib/python3.10/logging/__init__.py:1624\u001b[0m, in \u001b[0;36mLogger._log\u001b[0;34m(self, level, msg, args, exc_info, extra, stack_info, stacklevel)\u001b[0m\n\u001b[1;32m   1622\u001b[0m record \u001b[38;5;241m=\u001b[39m \u001b[38;5;28mself\u001b[39m\u001b[38;5;241m.\u001b[39mmakeRecord(\u001b[38;5;28mself\u001b[39m\u001b[38;5;241m.\u001b[39mname, level, fn, lno, msg, args,\n\u001b[1;32m   1623\u001b[0m                          exc_info, func, extra, sinfo)\n\u001b[0;32m-> 1624\u001b[0m \u001b[38;5;28;43mself\u001b[39;49m\u001b[38;5;241;43m.\u001b[39;49m\u001b[43mhandle\u001b[49m\u001b[43m(\u001b[49m\u001b[43mrecord\u001b[49m\u001b[43m)\u001b[49m\n",
      "File \u001b[0;32m/Library/Frameworks/Python.framework/Versions/3.10/lib/python3.10/logging/__init__.py:1633\u001b[0m, in \u001b[0;36mLogger.handle\u001b[0;34m(self, record)\u001b[0m\n\u001b[1;32m   1627\u001b[0m \u001b[38;5;124;03m\"\"\"\u001b[39;00m\n\u001b[1;32m   1628\u001b[0m \u001b[38;5;124;03mCall the handlers for the specified record.\u001b[39;00m\n\u001b[1;32m   1629\u001b[0m \n\u001b[1;32m   1630\u001b[0m \u001b[38;5;124;03mThis method is used for unpickled records received from a socket, as\u001b[39;00m\n\u001b[1;32m   1631\u001b[0m \u001b[38;5;124;03mwell as those created locally. Logger-level filtering is applied.\u001b[39;00m\n\u001b[1;32m   1632\u001b[0m \u001b[38;5;124;03m\"\"\"\u001b[39;00m\n\u001b[0;32m-> 1633\u001b[0m \u001b[38;5;28;01mif\u001b[39;00m (\u001b[38;5;129;01mnot\u001b[39;00m \u001b[38;5;28mself\u001b[39m\u001b[38;5;241m.\u001b[39mdisabled) \u001b[38;5;129;01mand\u001b[39;00m \u001b[38;5;28;43mself\u001b[39;49m\u001b[38;5;241;43m.\u001b[39;49m\u001b[43mfilter\u001b[49m\u001b[43m(\u001b[49m\u001b[43mrecord\u001b[49m\u001b[43m)\u001b[49m:\n\u001b[1;32m   1634\u001b[0m     \u001b[38;5;28mself\u001b[39m\u001b[38;5;241m.\u001b[39mcallHandlers(record)\n",
      "File \u001b[0;32m/Library/Frameworks/Python.framework/Versions/3.10/lib/python3.10/logging/__init__.py:823\u001b[0m, in \u001b[0;36mFilterer.filter\u001b[0;34m(self, record)\u001b[0m\n\u001b[1;32m    822\u001b[0m \u001b[38;5;28;01melse\u001b[39;00m:\n\u001b[0;32m--> 823\u001b[0m     result \u001b[38;5;241m=\u001b[39m \u001b[43mf\u001b[49m\u001b[43m(\u001b[49m\u001b[43mrecord\u001b[49m\u001b[43m)\u001b[49m \u001b[38;5;66;03m# assume callable - will raise if not\u001b[39;00m\n\u001b[1;32m    824\u001b[0m \u001b[38;5;28;01mif\u001b[39;00m \u001b[38;5;129;01mnot\u001b[39;00m result:\n",
      "Cell \u001b[0;32mIn [348], line 94\u001b[0m, in \u001b[0;36mlocal_time_formatter\u001b[0;34m(record)\u001b[0m\n\u001b[1;32m     93\u001b[0m local_tz \u001b[38;5;241m=\u001b[39m timezone(\u001b[38;5;124m'\u001b[39m\u001b[38;5;124mAsia/Kolkata\u001b[39m\u001b[38;5;124m'\u001b[39m)  \u001b[38;5;66;03m# Replace with your local time zone\u001b[39;00m\n\u001b[0;32m---> 94\u001b[0m local_dt \u001b[38;5;241m=\u001b[39m \u001b[43mrecord\u001b[49m\u001b[38;5;241;43m.\u001b[39;49m\u001b[43mcreated\u001b[49m\u001b[38;5;241;43m.\u001b[39;49m\u001b[43mastimezone\u001b[49m(local_tz)\n\u001b[1;32m     95\u001b[0m local_time \u001b[38;5;241m=\u001b[39m local_dt\u001b[38;5;241m.\u001b[39mstrftime(\u001b[38;5;124m'\u001b[39m\u001b[38;5;124m%\u001b[39m\u001b[38;5;124mY-\u001b[39m\u001b[38;5;124m%\u001b[39m\u001b[38;5;124mm-\u001b[39m\u001b[38;5;132;01m%d\u001b[39;00m\u001b[38;5;124m \u001b[39m\u001b[38;5;124m%\u001b[39m\u001b[38;5;124mH:\u001b[39m\u001b[38;5;124m%\u001b[39m\u001b[38;5;124mM:\u001b[39m\u001b[38;5;124m%\u001b[39m\u001b[38;5;124mS\u001b[39m\u001b[38;5;124m'\u001b[39m)\n",
      "\u001b[0;31mAttributeError\u001b[0m: 'float' object has no attribute 'astimezone'",
      "\nDuring handling of the above exception, another exception occurred:\n",
      "\u001b[0;31mAttributeError\u001b[0m                            Traceback (most recent call last)",
      "Cell \u001b[0;32mIn [376], line 10\u001b[0m\n\u001b[1;32m      7\u001b[0m     TOKEN \u001b[38;5;241m=\u001b[39m get_api_token()\n\u001b[1;32m      9\u001b[0m     \u001b[38;5;28;01mfor\u001b[39;00m station, station_location \u001b[38;5;129;01min\u001b[39;00m stations:\n\u001b[0;32m---> 10\u001b[0m         \u001b[43msetData\u001b[49m\u001b[43m(\u001b[49m\u001b[43mstation\u001b[49m\u001b[43m,\u001b[49m\u001b[43m  \u001b[49m\u001b[43mstation_location\u001b[49m\u001b[43m,\u001b[49m\u001b[43m \u001b[49m\u001b[43mlogger\u001b[49m\u001b[43m,\u001b[49m\u001b[43m \u001b[49m\u001b[43mTOKEN\u001b[49m\u001b[43m)\u001b[49m\n\u001b[1;32m     12\u001b[0m     \u001b[38;5;66;03m# If the day changes, append it to original data\u001b[39;00m\n\u001b[1;32m     13\u001b[0m \n\u001b[1;32m     14\u001b[0m \u001b[38;5;66;03m#     if datetime.now().hour == 1:     # It means 1 AM\u001b[39;00m\n\u001b[1;32m     15\u001b[0m \u001b[38;5;66;03m#         for station, station_location in stations:\u001b[39;00m\n\u001b[1;32m     16\u001b[0m \u001b[38;5;66;03m#             writeData(station_location)\u001b[39;00m\n",
      "Cell \u001b[0;32mIn [375], line 83\u001b[0m, in \u001b[0;36msetData\u001b[0;34m(station, output_file, logger, TOKEN)\u001b[0m\n\u001b[1;32m     81\u001b[0m \u001b[38;5;28;01mexcept\u001b[39;00m \u001b[38;5;167;01mException\u001b[39;00m \u001b[38;5;28;01mas\u001b[39;00m e:\n\u001b[1;32m     82\u001b[0m     \u001b[38;5;28mprint\u001b[39m(\u001b[38;5;124mf\u001b[39m\u001b[38;5;124m\"\u001b[39m\u001b[38;5;124mException \u001b[39m\u001b[38;5;132;01m{\u001b[39;00m\u001b[38;5;28mtype\u001b[39m(e)\u001b[38;5;241m.\u001b[39m\u001b[38;5;18m__name__\u001b[39m\u001b[38;5;132;01m}\u001b[39;00m\u001b[38;5;124m has occured for station=> \u001b[39m\u001b[38;5;132;01m{\u001b[39;00mstation\u001b[38;5;132;01m}\u001b[39;00m\u001b[38;5;124m\"\u001b[39m)\n\u001b[0;32m---> 83\u001b[0m     \u001b[43mlogger\u001b[49m\u001b[38;5;241;43m.\u001b[39;49m\u001b[43minfo\u001b[49m\u001b[43m(\u001b[49m\u001b[38;5;124;43mf\u001b[39;49m\u001b[38;5;124;43m\"\u001b[39;49m\u001b[38;5;124;43mException \u001b[39;49m\u001b[38;5;132;43;01m{\u001b[39;49;00m\u001b[38;5;28;43mtype\u001b[39;49m\u001b[43m(\u001b[49m\u001b[43me\u001b[49m\u001b[43m)\u001b[49m\u001b[38;5;241;43m.\u001b[39;49m\u001b[38;5;18;43m__name__\u001b[39;49m\u001b[38;5;132;43;01m}\u001b[39;49;00m\u001b[38;5;124;43m has occured for station=> \u001b[39;49m\u001b[38;5;132;43;01m{\u001b[39;49;00m\u001b[43mstation\u001b[49m\u001b[38;5;132;43;01m}\u001b[39;49;00m\u001b[38;5;124;43m\"\u001b[39;49m\u001b[43m)\u001b[49m\n",
      "File \u001b[0;32m/Library/Frameworks/Python.framework/Versions/3.10/lib/python3.10/logging/__init__.py:1477\u001b[0m, in \u001b[0;36mLogger.info\u001b[0;34m(self, msg, *args, **kwargs)\u001b[0m\n\u001b[1;32m   1468\u001b[0m \u001b[38;5;124;03m\"\"\"\u001b[39;00m\n\u001b[1;32m   1469\u001b[0m \u001b[38;5;124;03mLog 'msg % args' with severity 'INFO'.\u001b[39;00m\n\u001b[1;32m   1470\u001b[0m \n\u001b[0;32m   (...)\u001b[0m\n\u001b[1;32m   1474\u001b[0m \u001b[38;5;124;03mlogger.info(\"Houston, we have a %s\", \"interesting problem\", exc_info=1)\u001b[39;00m\n\u001b[1;32m   1475\u001b[0m \u001b[38;5;124;03m\"\"\"\u001b[39;00m\n\u001b[1;32m   1476\u001b[0m \u001b[38;5;28;01mif\u001b[39;00m \u001b[38;5;28mself\u001b[39m\u001b[38;5;241m.\u001b[39misEnabledFor(INFO):\n\u001b[0;32m-> 1477\u001b[0m     \u001b[38;5;28;43mself\u001b[39;49m\u001b[38;5;241;43m.\u001b[39;49m\u001b[43m_log\u001b[49m\u001b[43m(\u001b[49m\u001b[43mINFO\u001b[49m\u001b[43m,\u001b[49m\u001b[43m \u001b[49m\u001b[43mmsg\u001b[49m\u001b[43m,\u001b[49m\u001b[43m \u001b[49m\u001b[43margs\u001b[49m\u001b[43m,\u001b[49m\u001b[43m \u001b[49m\u001b[38;5;241;43m*\u001b[39;49m\u001b[38;5;241;43m*\u001b[39;49m\u001b[43mkwargs\u001b[49m\u001b[43m)\u001b[49m\n",
      "File \u001b[0;32m/Library/Frameworks/Python.framework/Versions/3.10/lib/python3.10/logging/__init__.py:1624\u001b[0m, in \u001b[0;36mLogger._log\u001b[0;34m(self, level, msg, args, exc_info, extra, stack_info, stacklevel)\u001b[0m\n\u001b[1;32m   1621\u001b[0m         exc_info \u001b[38;5;241m=\u001b[39m sys\u001b[38;5;241m.\u001b[39mexc_info()\n\u001b[1;32m   1622\u001b[0m record \u001b[38;5;241m=\u001b[39m \u001b[38;5;28mself\u001b[39m\u001b[38;5;241m.\u001b[39mmakeRecord(\u001b[38;5;28mself\u001b[39m\u001b[38;5;241m.\u001b[39mname, level, fn, lno, msg, args,\n\u001b[1;32m   1623\u001b[0m                          exc_info, func, extra, sinfo)\n\u001b[0;32m-> 1624\u001b[0m \u001b[38;5;28;43mself\u001b[39;49m\u001b[38;5;241;43m.\u001b[39;49m\u001b[43mhandle\u001b[49m\u001b[43m(\u001b[49m\u001b[43mrecord\u001b[49m\u001b[43m)\u001b[49m\n",
      "File \u001b[0;32m/Library/Frameworks/Python.framework/Versions/3.10/lib/python3.10/logging/__init__.py:1633\u001b[0m, in \u001b[0;36mLogger.handle\u001b[0;34m(self, record)\u001b[0m\n\u001b[1;32m   1626\u001b[0m \u001b[38;5;28;01mdef\u001b[39;00m \u001b[38;5;21mhandle\u001b[39m(\u001b[38;5;28mself\u001b[39m, record):\n\u001b[1;32m   1627\u001b[0m     \u001b[38;5;124;03m\"\"\"\u001b[39;00m\n\u001b[1;32m   1628\u001b[0m \u001b[38;5;124;03m    Call the handlers for the specified record.\u001b[39;00m\n\u001b[1;32m   1629\u001b[0m \n\u001b[1;32m   1630\u001b[0m \u001b[38;5;124;03m    This method is used for unpickled records received from a socket, as\u001b[39;00m\n\u001b[1;32m   1631\u001b[0m \u001b[38;5;124;03m    well as those created locally. Logger-level filtering is applied.\u001b[39;00m\n\u001b[1;32m   1632\u001b[0m \u001b[38;5;124;03m    \"\"\"\u001b[39;00m\n\u001b[0;32m-> 1633\u001b[0m     \u001b[38;5;28;01mif\u001b[39;00m (\u001b[38;5;129;01mnot\u001b[39;00m \u001b[38;5;28mself\u001b[39m\u001b[38;5;241m.\u001b[39mdisabled) \u001b[38;5;129;01mand\u001b[39;00m \u001b[38;5;28;43mself\u001b[39;49m\u001b[38;5;241;43m.\u001b[39;49m\u001b[43mfilter\u001b[49m\u001b[43m(\u001b[49m\u001b[43mrecord\u001b[49m\u001b[43m)\u001b[49m:\n\u001b[1;32m   1634\u001b[0m         \u001b[38;5;28mself\u001b[39m\u001b[38;5;241m.\u001b[39mcallHandlers(record)\n",
      "File \u001b[0;32m/Library/Frameworks/Python.framework/Versions/3.10/lib/python3.10/logging/__init__.py:823\u001b[0m, in \u001b[0;36mFilterer.filter\u001b[0;34m(self, record)\u001b[0m\n\u001b[1;32m    821\u001b[0m     result \u001b[38;5;241m=\u001b[39m f\u001b[38;5;241m.\u001b[39mfilter(record)\n\u001b[1;32m    822\u001b[0m \u001b[38;5;28;01melse\u001b[39;00m:\n\u001b[0;32m--> 823\u001b[0m     result \u001b[38;5;241m=\u001b[39m \u001b[43mf\u001b[49m\u001b[43m(\u001b[49m\u001b[43mrecord\u001b[49m\u001b[43m)\u001b[49m \u001b[38;5;66;03m# assume callable - will raise if not\u001b[39;00m\n\u001b[1;32m    824\u001b[0m \u001b[38;5;28;01mif\u001b[39;00m \u001b[38;5;129;01mnot\u001b[39;00m result:\n\u001b[1;32m    825\u001b[0m     rv \u001b[38;5;241m=\u001b[39m \u001b[38;5;28;01mFalse\u001b[39;00m\n",
      "Cell \u001b[0;32mIn [348], line 94\u001b[0m, in \u001b[0;36mlocal_time_formatter\u001b[0;34m(record)\u001b[0m\n\u001b[1;32m     92\u001b[0m \u001b[38;5;28;01mdef\u001b[39;00m \u001b[38;5;21mlocal_time_formatter\u001b[39m(record):\n\u001b[1;32m     93\u001b[0m     local_tz \u001b[38;5;241m=\u001b[39m timezone(\u001b[38;5;124m'\u001b[39m\u001b[38;5;124mAsia/Kolkata\u001b[39m\u001b[38;5;124m'\u001b[39m)  \u001b[38;5;66;03m# Replace with your local time zone\u001b[39;00m\n\u001b[0;32m---> 94\u001b[0m     local_dt \u001b[38;5;241m=\u001b[39m \u001b[43mrecord\u001b[49m\u001b[38;5;241;43m.\u001b[39;49m\u001b[43mcreated\u001b[49m\u001b[38;5;241;43m.\u001b[39;49m\u001b[43mastimezone\u001b[49m(local_tz)\n\u001b[1;32m     95\u001b[0m     local_time \u001b[38;5;241m=\u001b[39m local_dt\u001b[38;5;241m.\u001b[39mstrftime(\u001b[38;5;124m'\u001b[39m\u001b[38;5;124m%\u001b[39m\u001b[38;5;124mY-\u001b[39m\u001b[38;5;124m%\u001b[39m\u001b[38;5;124mm-\u001b[39m\u001b[38;5;132;01m%d\u001b[39;00m\u001b[38;5;124m \u001b[39m\u001b[38;5;124m%\u001b[39m\u001b[38;5;124mH:\u001b[39m\u001b[38;5;124m%\u001b[39m\u001b[38;5;124mM:\u001b[39m\u001b[38;5;124m%\u001b[39m\u001b[38;5;124mS\u001b[39m\u001b[38;5;124m'\u001b[39m)\n\u001b[1;32m     96\u001b[0m     record\u001b[38;5;241m.\u001b[39masctime \u001b[38;5;241m=\u001b[39m local_time\n",
      "\u001b[0;31mAttributeError\u001b[0m: 'float' object has no attribute 'astimezone'"
     ]
    }
   ],
   "source": [
    "if __name__ == \"__main__\":\n",
    "\n",
    "    # Logging\n",
    "    logger = setLogger()\n",
    "    \n",
    "    # Get API token\n",
    "    TOKEN = get_api_token()\n",
    "\n",
    "    for station, station_location in stations:\n",
    "        setData(station,  station_location, logger, TOKEN)\n",
    "\n",
    "    # If the day changes, append it to original data\n",
    "    writeData(SECTOR_51_OUTPUT, SECTOR_51_DAILY_AQI)\n",
    "#     if datetime.now().hour == 1:     # It means 1 AM\n",
    "#         for station, station_location in stations:\n",
    "#             writeData(station_location)"
   ]
  },
  {
   "cell_type": "code",
   "execution_count": 377,
   "id": "9b18af16",
   "metadata": {
    "ExecuteTime": {
     "end_time": "2023-12-01T02:32:42.975337Z",
     "start_time": "2023-12-01T02:32:42.962059Z"
    }
   },
   "outputs": [
    {
     "data": {
      "text/plain": [
       "8"
      ]
     },
     "execution_count": 377,
     "metadata": {},
     "output_type": "execute_result"
    }
   ],
   "source": [
    "datetime.now().hour"
   ]
  },
  {
   "cell_type": "code",
   "execution_count": 378,
   "id": "41086a7c",
   "metadata": {
    "ExecuteTime": {
     "end_time": "2023-12-01T02:32:44.426039Z",
     "start_time": "2023-12-01T02:32:44.420240Z"
    }
   },
   "outputs": [
    {
     "data": {
      "text/plain": [
       "time.struct_time(tm_year=2023, tm_mon=12, tm_mday=1, tm_hour=8, tm_min=2, tm_sec=44, tm_wday=4, tm_yday=335, tm_isdst=-1)"
      ]
     },
     "execution_count": 378,
     "metadata": {},
     "output_type": "execute_result"
    }
   ],
   "source": [
    "datetime.now().astimezone().timetuple()"
   ]
  },
  {
   "cell_type": "code",
<<<<<<< HEAD
   "execution_count": 546,
   "id": "82189762",
   "metadata": {
    "ExecuteTime": {
     "end_time": "2023-12-02T11:06:23.984423Z",
     "start_time": "2023-12-02T11:06:23.893949Z"
    },
    "scrolled": true
=======
   "execution_count": 402,
   "id": "82189762",
   "metadata": {
    "ExecuteTime": {
     "end_time": "2023-12-02T06:21:48.714680Z",
     "start_time": "2023-12-02T06:21:48.641903Z"
    },
    "collapsed": true
>>>>>>> 2854126 (added writeData function)
   },
   "outputs": [
    {
     "data": {
      "text/html": [
       "<div>\n",
       "<style scoped>\n",
       "    .dataframe tbody tr th:only-of-type {\n",
       "        vertical-align: middle;\n",
       "    }\n",
       "\n",
       "    .dataframe tbody tr th {\n",
       "        vertical-align: top;\n",
       "    }\n",
       "\n",
       "    .dataframe thead th {\n",
       "        text-align: right;\n",
       "    }\n",
       "</style>\n",
       "<table border=\"1\" class=\"dataframe\">\n",
       "  <thead>\n",
       "    <tr style=\"text-align: right;\">\n",
       "      <th></th>\n",
       "      <th>AQI</th>\n",
       "      <th>Station_name</th>\n",
       "      <th>Time</th>\n",
       "    </tr>\n",
       "  </thead>\n",
       "  <tbody>\n",
       "    <tr>\n",
       "      <th>0</th>\n",
       "      <td>183</td>\n",
       "      <td>Sector-51, Gurugram, India</td>\n",
       "      <td>2023-11-28 20:00:00</td>\n",
       "    </tr>\n",
       "    <tr>\n",
       "      <th>1</th>\n",
       "      <td>203</td>\n",
       "      <td>Sector-51, Gurugram, India</td>\n",
       "      <td>2023-11-28 21:00:00</td>\n",
       "    </tr>\n",
       "    <tr>\n",
       "      <th>2</th>\n",
       "      <td>200</td>\n",
       "      <td>Sector-51, Gurugram, India</td>\n",
       "      <td>2023-11-28 22:00:00</td>\n",
       "    </tr>\n",
       "    <tr>\n",
       "      <th>3</th>\n",
       "      <td>200</td>\n",
       "      <td>Sector-51, Gurugram, India</td>\n",
       "      <td>2023-11-28 23:00:00</td>\n",
       "    </tr>\n",
       "    <tr>\n",
       "      <th>4</th>\n",
       "      <td>197</td>\n",
       "      <td>Sector-51, Gurugram, India</td>\n",
       "      <td>2023-11-29 00:00:00</td>\n",
       "    </tr>\n",
       "    <tr>\n",
       "      <th>5</th>\n",
       "      <td>195</td>\n",
       "      <td>Sector-51, Gurugram, India</td>\n",
       "      <td>2023-11-29 01:00:00</td>\n",
       "    </tr>\n",
       "    <tr>\n",
       "      <th>6</th>\n",
       "      <td>197</td>\n",
       "      <td>Sector-51, Gurugram, India</td>\n",
       "      <td>2023-11-29 02:00:00</td>\n",
       "    </tr>\n",
       "    <tr>\n",
       "      <th>7</th>\n",
       "      <td>200</td>\n",
       "      <td>Sector-51, Gurugram, India</td>\n",
       "      <td>2023-11-29 03:00:00</td>\n",
       "    </tr>\n",
       "    <tr>\n",
       "      <th>8</th>\n",
       "      <td>200</td>\n",
       "      <td>Sector-51, Gurugram, India</td>\n",
       "      <td>2023-11-29 04:00:00</td>\n",
       "    </tr>\n",
       "    <tr>\n",
       "      <th>9</th>\n",
       "      <td>200</td>\n",
       "      <td>Sector-51, Gurugram, India</td>\n",
       "      <td>2023-11-29 05:00:00</td>\n",
       "    </tr>\n",
       "    <tr>\n",
       "      <th>10</th>\n",
       "      <td>202</td>\n",
       "      <td>Sector-51, Gurugram, India</td>\n",
       "      <td>2023-11-29 07:00:00</td>\n",
       "    </tr>\n",
       "    <tr>\n",
       "      <th>11</th>\n",
       "      <td>241</td>\n",
       "      <td>Sector-51, Gurugram, India</td>\n",
       "      <td>2023-11-29 09:00:00</td>\n",
       "    </tr>\n",
       "    <tr>\n",
       "      <th>12</th>\n",
       "      <td>120</td>\n",
       "      <td>Sector-51, Gurugram, India</td>\n",
       "      <td>2023-11-29 10:00:00</td>\n",
       "    </tr>\n",
       "    <tr>\n",
       "      <th>13</th>\n",
       "      <td>174</td>\n",
       "      <td>Sector-51, Gurugram, India</td>\n",
       "      <td>2023-11-29 11:00:00</td>\n",
       "    </tr>\n",
       "    <tr>\n",
       "      <th>14</th>\n",
       "      <td>178</td>\n",
       "      <td>Sector-51, Gurugram, India</td>\n",
       "      <td>2023-11-29 12:00:00</td>\n",
       "    </tr>\n",
       "    <tr>\n",
       "      <th>15</th>\n",
       "      <td>175</td>\n",
       "      <td>Sector-51, Gurugram, India</td>\n",
       "      <td>2023-11-29 13:00:00</td>\n",
       "    </tr>\n",
       "    <tr>\n",
       "      <th>16</th>\n",
       "      <td>177</td>\n",
       "      <td>Sector-51, Gurugram, India</td>\n",
       "      <td>2023-11-29 14:00:00</td>\n",
       "    </tr>\n",
       "    <tr>\n",
       "      <th>17</th>\n",
       "      <td>182</td>\n",
       "      <td>Sector-51, Gurugram, India</td>\n",
       "      <td>2023-11-29 15:00:00</td>\n",
       "    </tr>\n",
       "    <tr>\n",
       "      <th>18</th>\n",
       "      <td>184</td>\n",
       "      <td>Sector-51, Gurugram, India</td>\n",
       "      <td>2023-11-29 16:00:00</td>\n",
       "    </tr>\n",
       "    <tr>\n",
       "      <th>19</th>\n",
       "      <td>182</td>\n",
       "      <td>Sector-51, Gurugram, India</td>\n",
       "      <td>2023-11-29 17:00:00</td>\n",
       "    </tr>\n",
       "    <tr>\n",
       "      <th>20</th>\n",
       "      <td>182</td>\n",
       "      <td>Sector-51, Gurugram, India</td>\n",
       "      <td>2023-11-29 18:00:00</td>\n",
       "    </tr>\n",
       "    <tr>\n",
       "      <th>21</th>\n",
       "      <td>593</td>\n",
       "      <td>Sector-51, Gurugram, India</td>\n",
       "      <td>2023-11-29 22:00:00</td>\n",
       "    </tr>\n",
       "    <tr>\n",
       "      <th>22</th>\n",
       "      <td>537</td>\n",
       "      <td>Sector-51, Gurugram, India</td>\n",
       "      <td>2023-11-29 23:00:00</td>\n",
       "    </tr>\n",
       "    <tr>\n",
       "      <th>23</th>\n",
       "      <td>296</td>\n",
       "      <td>Sector-51, Gurugram, India</td>\n",
       "      <td>2023-11-30 00:00:00</td>\n",
       "    </tr>\n",
       "    <tr>\n",
       "      <th>24</th>\n",
       "      <td>301</td>\n",
       "      <td>Sector-51, Gurugram, India</td>\n",
       "      <td>2023-11-30 01:00:00</td>\n",
       "    </tr>\n",
       "    <tr>\n",
       "      <th>25</th>\n",
       "      <td>234</td>\n",
       "      <td>Sector-51, Gurugram, India</td>\n",
       "      <td>2023-11-30 02:00:00</td>\n",
       "    </tr>\n",
       "    <tr>\n",
       "      <th>26</th>\n",
       "      <td>244</td>\n",
       "      <td>Sector-51, Gurugram, India</td>\n",
       "      <td>2023-11-30 03:00:00</td>\n",
       "    </tr>\n",
       "    <tr>\n",
       "      <th>27</th>\n",
       "      <td>268</td>\n",
       "      <td>Sector-51, Gurugram, India</td>\n",
       "      <td>2023-11-30 04:00:00</td>\n",
       "    </tr>\n",
       "    <tr>\n",
       "      <th>28</th>\n",
       "      <td>185</td>\n",
       "      <td>Sector-51, Gurugram, India</td>\n",
       "      <td>2023-11-30 05:00:00</td>\n",
       "    </tr>\n",
       "    <tr>\n",
       "      <th>29</th>\n",
       "      <td>182</td>\n",
       "      <td>Sector-51, Gurugram, India</td>\n",
       "      <td>2023-11-30 07:00:00</td>\n",
       "    </tr>\n",
       "    <tr>\n",
       "      <th>30</th>\n",
       "      <td>185</td>\n",
       "      <td>Sector-51, Gurugram, India</td>\n",
       "      <td>2023-11-30 08:00:00</td>\n",
       "    </tr>\n",
       "    <tr>\n",
       "      <th>31</th>\n",
       "      <td>234</td>\n",
       "      <td>Sector-51, Gurugram, India</td>\n",
       "      <td>2023-11-30 09:00:00</td>\n",
       "    </tr>\n",
       "    <tr>\n",
       "      <th>32</th>\n",
       "      <td>220</td>\n",
       "      <td>Sector-51, Gurugram, India</td>\n",
       "      <td>2023-11-30 10:00:00</td>\n",
       "    </tr>\n",
       "    <tr>\n",
       "      <th>33</th>\n",
       "      <td>218</td>\n",
       "      <td>Sector-51, Gurugram, India</td>\n",
       "      <td>2023-11-30 11:00:00</td>\n",
       "    </tr>\n",
       "    <tr>\n",
       "      <th>34</th>\n",
       "      <td>159</td>\n",
       "      <td>Sector-51, Gurugram, India</td>\n",
       "      <td>2023-11-30 12:00:00</td>\n",
       "    </tr>\n",
       "    <tr>\n",
       "      <th>35</th>\n",
       "      <td>107</td>\n",
       "      <td>Sector-51, Gurugram, India</td>\n",
       "      <td>2023-11-30 13:00:00</td>\n",
       "    </tr>\n",
       "    <tr>\n",
       "      <th>36</th>\n",
       "      <td>236</td>\n",
       "      <td>Sector-51, Gurugram, India</td>\n",
       "      <td>2023-11-30 14:00:00</td>\n",
       "    </tr>\n",
       "    <tr>\n",
       "      <th>37</th>\n",
       "      <td>233</td>\n",
       "      <td>Sector-51, Gurugram, India</td>\n",
       "      <td>2023-11-30 15:00:00</td>\n",
       "    </tr>\n",
       "    <tr>\n",
       "      <th>38</th>\n",
       "      <td>224</td>\n",
       "      <td>Sector-51, Gurugram, India</td>\n",
       "      <td>2023-11-30 16:00:00</td>\n",
       "    </tr>\n",
       "    <tr>\n",
       "      <th>39</th>\n",
       "      <td>212</td>\n",
       "      <td>Sector-51, Gurugram, India</td>\n",
       "      <td>2023-11-30 17:00:00</td>\n",
       "    </tr>\n",
       "    <tr>\n",
       "      <th>40</th>\n",
       "      <td>209</td>\n",
       "      <td>Sector-51, Gurugram, India</td>\n",
       "      <td>2023-11-30 18:00:00</td>\n",
       "    </tr>\n",
       "    <tr>\n",
       "      <th>41</th>\n",
       "      <td>437</td>\n",
       "      <td>Sector-51, Gurugram, India</td>\n",
       "      <td>2023-11-30 21:00:00</td>\n",
       "    </tr>\n",
       "    <tr>\n",
       "      <th>42</th>\n",
       "      <td>471</td>\n",
       "      <td>Sector-51, Gurugram, India</td>\n",
       "      <td>2023-11-30 22:00:00</td>\n",
       "    </tr>\n",
       "    <tr>\n",
       "      <th>43</th>\n",
       "      <td>463</td>\n",
       "      <td>Sector-51, Gurugram, India</td>\n",
       "      <td>2023-11-30 23:00:00</td>\n",
       "    </tr>\n",
       "    <tr>\n",
       "      <th>44</th>\n",
       "      <td>244</td>\n",
       "      <td>Sector-51, Gurugram, India</td>\n",
       "      <td>2023-12-01 00:00:00</td>\n",
       "    </tr>\n",
       "    <tr>\n",
       "      <th>45</th>\n",
       "      <td>181</td>\n",
       "      <td>Sector-51, Gurugram, India</td>\n",
       "      <td>2023-12-01 01:00:00</td>\n",
       "    </tr>\n",
       "    <tr>\n",
       "      <th>46</th>\n",
       "      <td>179</td>\n",
       "      <td>Sector-51, Gurugram, India</td>\n",
       "      <td>2023-12-01 02:00:00</td>\n",
       "    </tr>\n",
       "    <tr>\n",
       "      <th>47</th>\n",
       "      <td>178</td>\n",
       "      <td>Sector-51, Gurugram, India</td>\n",
       "      <td>2023-12-01 03:00:00</td>\n",
       "    </tr>\n",
       "    <tr>\n",
       "      <th>48</th>\n",
       "      <td>176</td>\n",
       "      <td>Sector-51, Gurugram, India</td>\n",
       "      <td>2023-12-01 04:00:00</td>\n",
       "    </tr>\n",
       "    <tr>\n",
       "      <th>49</th>\n",
       "      <td>172</td>\n",
       "      <td>Sector-51, Gurugram, India</td>\n",
       "      <td>2023-12-01 05:00:00</td>\n",
       "    </tr>\n",
       "    <tr>\n",
       "      <th>50</th>\n",
       "      <td>166</td>\n",
       "      <td>Sector-51, Gurugram, India</td>\n",
       "      <td>2023-12-01 07:00:00</td>\n",
       "    </tr>\n",
       "    <tr>\n",
       "      <th>51</th>\n",
       "      <td>165</td>\n",
       "      <td>Sector-51, Gurugram, India</td>\n",
       "      <td>2023-12-01 08:00:00</td>\n",
       "    </tr>\n",
<<<<<<< HEAD
=======
       "    <tr>\n",
       "      <th>52</th>\n",
       "      <td>171</td>\n",
       "      <td>Sector-51, Gurugram, India</td>\n",
       "      <td>2023-12-01 09:00:00</td>\n",
       "    </tr>\n",
       "    <tr>\n",
       "      <th>53</th>\n",
       "      <td>186</td>\n",
       "      <td>Sector-51, Gurugram, India</td>\n",
       "      <td>2023-12-01 10:00:00</td>\n",
       "    </tr>\n",
       "    <tr>\n",
       "      <th>54</th>\n",
       "      <td>191</td>\n",
       "      <td>Sector-51, Gurugram, India</td>\n",
       "      <td>2023-12-01 11:00:00</td>\n",
       "    </tr>\n",
       "    <tr>\n",
       "      <th>55</th>\n",
       "      <td>186</td>\n",
       "      <td>Sector-51, Gurugram, India</td>\n",
       "      <td>2023-12-01 12:00:00</td>\n",
       "    </tr>\n",
>>>>>>> 2854126 (added writeData function)
       "  </tbody>\n",
       "</table>\n",
       "</div>"
      ],
      "text/plain": [
       "    AQI                Station_name                 Time\n",
       "0   183  Sector-51, Gurugram, India  2023-11-28 20:00:00\n",
       "1   203  Sector-51, Gurugram, India  2023-11-28 21:00:00\n",
       "2   200  Sector-51, Gurugram, India  2023-11-28 22:00:00\n",
       "3   200  Sector-51, Gurugram, India  2023-11-28 23:00:00\n",
       "4   197  Sector-51, Gurugram, India  2023-11-29 00:00:00\n",
       "5   195  Sector-51, Gurugram, India  2023-11-29 01:00:00\n",
       "6   197  Sector-51, Gurugram, India  2023-11-29 02:00:00\n",
       "7   200  Sector-51, Gurugram, India  2023-11-29 03:00:00\n",
       "8   200  Sector-51, Gurugram, India  2023-11-29 04:00:00\n",
       "9   200  Sector-51, Gurugram, India  2023-11-29 05:00:00\n",
       "10  202  Sector-51, Gurugram, India  2023-11-29 07:00:00\n",
       "11  241  Sector-51, Gurugram, India  2023-11-29 09:00:00\n",
       "12  120  Sector-51, Gurugram, India  2023-11-29 10:00:00\n",
       "13  174  Sector-51, Gurugram, India  2023-11-29 11:00:00\n",
       "14  178  Sector-51, Gurugram, India  2023-11-29 12:00:00\n",
       "15  175  Sector-51, Gurugram, India  2023-11-29 13:00:00\n",
       "16  177  Sector-51, Gurugram, India  2023-11-29 14:00:00\n",
       "17  182  Sector-51, Gurugram, India  2023-11-29 15:00:00\n",
       "18  184  Sector-51, Gurugram, India  2023-11-29 16:00:00\n",
       "19  182  Sector-51, Gurugram, India  2023-11-29 17:00:00\n",
       "20  182  Sector-51, Gurugram, India  2023-11-29 18:00:00\n",
       "21  593  Sector-51, Gurugram, India  2023-11-29 22:00:00\n",
       "22  537  Sector-51, Gurugram, India  2023-11-29 23:00:00\n",
       "23  296  Sector-51, Gurugram, India  2023-11-30 00:00:00\n",
       "24  301  Sector-51, Gurugram, India  2023-11-30 01:00:00\n",
       "25  234  Sector-51, Gurugram, India  2023-11-30 02:00:00\n",
       "26  244  Sector-51, Gurugram, India  2023-11-30 03:00:00\n",
       "27  268  Sector-51, Gurugram, India  2023-11-30 04:00:00\n",
       "28  185  Sector-51, Gurugram, India  2023-11-30 05:00:00\n",
       "29  182  Sector-51, Gurugram, India  2023-11-30 07:00:00\n",
       "30  185  Sector-51, Gurugram, India  2023-11-30 08:00:00\n",
       "31  234  Sector-51, Gurugram, India  2023-11-30 09:00:00\n",
       "32  220  Sector-51, Gurugram, India  2023-11-30 10:00:00\n",
       "33  218  Sector-51, Gurugram, India  2023-11-30 11:00:00\n",
       "34  159  Sector-51, Gurugram, India  2023-11-30 12:00:00\n",
       "35  107  Sector-51, Gurugram, India  2023-11-30 13:00:00\n",
       "36  236  Sector-51, Gurugram, India  2023-11-30 14:00:00\n",
       "37  233  Sector-51, Gurugram, India  2023-11-30 15:00:00\n",
       "38  224  Sector-51, Gurugram, India  2023-11-30 16:00:00\n",
       "39  212  Sector-51, Gurugram, India  2023-11-30 17:00:00\n",
       "40  209  Sector-51, Gurugram, India  2023-11-30 18:00:00\n",
       "41  437  Sector-51, Gurugram, India  2023-11-30 21:00:00\n",
       "42  471  Sector-51, Gurugram, India  2023-11-30 22:00:00\n",
       "43  463  Sector-51, Gurugram, India  2023-11-30 23:00:00\n",
       "44  244  Sector-51, Gurugram, India  2023-12-01 00:00:00\n",
       "45  181  Sector-51, Gurugram, India  2023-12-01 01:00:00\n",
       "46  179  Sector-51, Gurugram, India  2023-12-01 02:00:00\n",
       "47  178  Sector-51, Gurugram, India  2023-12-01 03:00:00\n",
       "48  176  Sector-51, Gurugram, India  2023-12-01 04:00:00\n",
       "49  172  Sector-51, Gurugram, India  2023-12-01 05:00:00\n",
       "50  166  Sector-51, Gurugram, India  2023-12-01 07:00:00\n",
<<<<<<< HEAD
       "51  165  Sector-51, Gurugram, India  2023-12-01 08:00:00"
      ]
     },
     "execution_count": 546,
=======
       "51  165  Sector-51, Gurugram, India  2023-12-01 08:00:00\n",
       "52  171  Sector-51, Gurugram, India  2023-12-01 09:00:00\n",
       "53  186  Sector-51, Gurugram, India  2023-12-01 10:00:00\n",
       "54  191  Sector-51, Gurugram, India  2023-12-01 11:00:00\n",
       "55  186  Sector-51, Gurugram, India  2023-12-01 12:00:00"
      ]
     },
     "execution_count": 402,
>>>>>>> 2854126 (added writeData function)
     "metadata": {},
     "output_type": "execute_result"
    }
   ],
   "source": [
    "sector_51_api = pd.read_csv(\"../../data/cron_job_data/sector_51_cron_output.csv\")\n",
    "sector_51_api"
   ]
  },
  {
   "cell_type": "code",
<<<<<<< HEAD
   "execution_count": 547,
   "id": "1d2cc81e",
   "metadata": {
    "ExecuteTime": {
     "end_time": "2023-12-02T11:06:24.386922Z",
     "start_time": "2023-12-02T11:06:24.355614Z"
=======
   "execution_count": 403,
   "id": "1d2cc81e",
   "metadata": {
    "ExecuteTime": {
     "end_time": "2023-12-02T06:21:50.382097Z",
     "start_time": "2023-12-02T06:21:50.367865Z"
>>>>>>> 2854126 (added writeData function)
    }
   },
   "outputs": [
    {
     "name": "stdout",
     "output_type": "stream",
     "text": [
      "<class 'pandas.core.frame.DataFrame'>\n",
<<<<<<< HEAD
      "RangeIndex: 52 entries, 0 to 51\n",
      "Data columns (total 3 columns):\n",
      " #   Column        Non-Null Count  Dtype \n",
      "---  ------        --------------  ----- \n",
      " 0   AQI           52 non-null     int64 \n",
      " 1   Station_name  52 non-null     object\n",
      " 2   Time          52 non-null     object\n",
      "dtypes: int64(1), object(2)\n",
      "memory usage: 1.3+ KB\n"
=======
      "RangeIndex: 56 entries, 0 to 55\n",
      "Data columns (total 3 columns):\n",
      " #   Column        Non-Null Count  Dtype \n",
      "---  ------        --------------  ----- \n",
      " 0   AQI           56 non-null     int64 \n",
      " 1   Station_name  56 non-null     object\n",
      " 2   Time          56 non-null     object\n",
      "dtypes: int64(1), object(2)\n",
      "memory usage: 1.4+ KB\n"
>>>>>>> 2854126 (added writeData function)
     ]
    }
   ],
   "source": [
    "sector_51_api.info()"
   ]
  },
  {
   "cell_type": "code",
<<<<<<< HEAD
   "execution_count": 548,
   "id": "e1ebe06f",
   "metadata": {
    "ExecuteTime": {
     "end_time": "2023-12-02T11:06:24.838671Z",
     "start_time": "2023-12-02T11:06:24.822436Z"
=======
   "execution_count": 404,
   "id": "e1ebe06f",
   "metadata": {
    "ExecuteTime": {
     "end_time": "2023-12-02T06:21:55.037256Z",
     "start_time": "2023-12-02T06:21:55.020466Z"
>>>>>>> 2854126 (added writeData function)
    }
   },
   "outputs": [
    {
     "name": "stdout",
     "output_type": "stream",
     "text": [
      "<class 'pandas.core.frame.DataFrame'>\n",
<<<<<<< HEAD
      "RangeIndex: 52 entries, 0 to 51\n",
      "Data columns (total 3 columns):\n",
      " #   Column        Non-Null Count  Dtype         \n",
      "---  ------        --------------  -----         \n",
      " 0   AQI           52 non-null     int64         \n",
      " 1   Station_name  52 non-null     object        \n",
      " 2   Time          52 non-null     datetime64[ns]\n",
      "dtypes: datetime64[ns](1), int64(1), object(1)\n",
      "memory usage: 1.3+ KB\n"
=======
      "RangeIndex: 56 entries, 0 to 55\n",
      "Data columns (total 3 columns):\n",
      " #   Column        Non-Null Count  Dtype         \n",
      "---  ------        --------------  -----         \n",
      " 0   AQI           56 non-null     int64         \n",
      " 1   Station_name  56 non-null     object        \n",
      " 2   Time          56 non-null     datetime64[ns]\n",
      "dtypes: datetime64[ns](1), int64(1), object(1)\n",
      "memory usage: 1.4+ KB\n"
>>>>>>> 2854126 (added writeData function)
     ]
    }
   ],
   "source": [
    "sector_51_api['Time'] = pd.to_datetime(sector_51_api['Time'])\n",
    "sector_51_api.info()"
   ]
  },
  {
   "cell_type": "code",
<<<<<<< HEAD
   "execution_count": 549,
   "id": "ea43b802",
   "metadata": {
    "ExecuteTime": {
     "end_time": "2023-12-02T11:06:26.737803Z",
     "start_time": "2023-12-02T11:06:26.729850Z"
=======
   "execution_count": 406,
   "id": "ea43b802",
   "metadata": {
    "ExecuteTime": {
     "end_time": "2023-12-02T06:21:59.582506Z",
     "start_time": "2023-12-02T06:21:59.576880Z"
>>>>>>> 2854126 (added writeData function)
    }
   },
   "outputs": [],
   "source": [
    "sector_51_api.set_index('Time', inplace=True)"
   ]
  },
  {
   "cell_type": "code",
<<<<<<< HEAD
   "execution_count": 550,
   "id": "5c482101",
   "metadata": {
    "ExecuteTime": {
     "end_time": "2023-12-02T11:06:28.407447Z",
     "start_time": "2023-12-02T11:06:28.384771Z"
=======
   "execution_count": 407,
   "id": "5c482101",
   "metadata": {
    "ExecuteTime": {
     "end_time": "2023-12-02T06:22:00.825412Z",
     "start_time": "2023-12-02T06:22:00.805638Z"
>>>>>>> 2854126 (added writeData function)
    }
   },
   "outputs": [
    {
<<<<<<< HEAD
     "data": {
      "text/plain": [
       "Time\n",
       "2023-11-28    196.500000\n",
       "2023-11-29    227.157895\n",
       "2023-11-30    253.238095\n",
       "2023-12-01    182.625000\n",
       "Freq: D, Name: AQI, dtype: float64"
      ]
     },
     "execution_count": 550,
=======
     "name": "stderr",
     "output_type": "stream",
     "text": [
      "/var/folders/27/b03t8q596qvcmtyqjtnh0w6w0000gn/T/ipykernel_49916/742764479.py:1: FutureWarning: The default value of numeric_only in DataFrameGroupBy.mean is deprecated. In a future version, numeric_only will default to False. Either specify numeric_only or select only columns which should be valid for the function.\n",
      "  sector_51_api = sector_51_api.resample('D').mean()\n"
     ]
    },
    {
     "data": {
      "text/html": [
       "<div>\n",
       "<style scoped>\n",
       "    .dataframe tbody tr th:only-of-type {\n",
       "        vertical-align: middle;\n",
       "    }\n",
       "\n",
       "    .dataframe tbody tr th {\n",
       "        vertical-align: top;\n",
       "    }\n",
       "\n",
       "    .dataframe thead th {\n",
       "        text-align: right;\n",
       "    }\n",
       "</style>\n",
       "<table border=\"1\" class=\"dataframe\">\n",
       "  <thead>\n",
       "    <tr style=\"text-align: right;\">\n",
       "      <th></th>\n",
       "      <th>AQI</th>\n",
       "    </tr>\n",
       "    <tr>\n",
       "      <th>Time</th>\n",
       "      <th></th>\n",
       "    </tr>\n",
       "  </thead>\n",
       "  <tbody>\n",
       "    <tr>\n",
       "      <th>2023-11-28</th>\n",
       "      <td>196.500000</td>\n",
       "    </tr>\n",
       "    <tr>\n",
       "      <th>2023-11-29</th>\n",
       "      <td>227.157895</td>\n",
       "    </tr>\n",
       "    <tr>\n",
       "      <th>2023-11-30</th>\n",
       "      <td>253.238095</td>\n",
       "    </tr>\n",
       "    <tr>\n",
       "      <th>2023-12-01</th>\n",
       "      <td>182.916667</td>\n",
       "    </tr>\n",
       "  </tbody>\n",
       "</table>\n",
       "</div>"
      ],
      "text/plain": [
       "                   AQI\n",
       "Time                  \n",
       "2023-11-28  196.500000\n",
       "2023-11-29  227.157895\n",
       "2023-11-30  253.238095\n",
       "2023-12-01  182.916667"
      ]
     },
     "execution_count": 407,
>>>>>>> 2854126 (added writeData function)
     "metadata": {},
     "output_type": "execute_result"
    }
   ],
   "source": [
    "sector_51_api = sector_51_api['AQI'].resample('D').mean()\n",
    "sector_51_api"
   ]
  },
  {
   "cell_type": "code",
<<<<<<< HEAD
   "execution_count": 551,
   "id": "89bda612",
   "metadata": {
    "ExecuteTime": {
     "end_time": "2023-12-02T11:06:31.808822Z",
     "start_time": "2023-12-02T11:06:31.788882Z"
    }
   },
   "outputs": [],
   "source": [
    "sector_51_api = pd.DataFrame(sector_51_api)"
   ]
  },
  {
   "cell_type": "code",
   "execution_count": 552,
   "id": "1d16bbcf",
   "metadata": {
    "ExecuteTime": {
     "end_time": "2023-12-02T11:06:32.368397Z",
     "start_time": "2023-12-02T11:06:32.363195Z"
    }
   },
   "outputs": [],
   "source": [
    "sector_51_api['AQI'] = round(sector_51_api['AQI'])"
   ]
  },
  {
   "cell_type": "code",
   "execution_count": 553,
   "id": "cb0f7d98",
   "metadata": {
    "ExecuteTime": {
     "end_time": "2023-12-02T11:06:34.069209Z",
     "start_time": "2023-12-02T11:06:34.054720Z"
    }
   },
   "outputs": [
    {
     "data": {
      "text/html": [
       "<div>\n",
       "<style scoped>\n",
       "    .dataframe tbody tr th:only-of-type {\n",
       "        vertical-align: middle;\n",
       "    }\n",
       "\n",
       "    .dataframe tbody tr th {\n",
       "        vertical-align: top;\n",
       "    }\n",
       "\n",
       "    .dataframe thead th {\n",
       "        text-align: right;\n",
       "    }\n",
       "</style>\n",
       "<table border=\"1\" class=\"dataframe\">\n",
       "  <thead>\n",
       "    <tr style=\"text-align: right;\">\n",
       "      <th></th>\n",
       "      <th>AQI</th>\n",
       "    </tr>\n",
       "    <tr>\n",
       "      <th>Time</th>\n",
       "      <th></th>\n",
       "    </tr>\n",
       "  </thead>\n",
       "  <tbody>\n",
       "    <tr>\n",
       "      <th>2023-11-28</th>\n",
       "      <td>196.0</td>\n",
       "    </tr>\n",
       "    <tr>\n",
       "      <th>2023-11-29</th>\n",
       "      <td>227.0</td>\n",
       "    </tr>\n",
       "    <tr>\n",
       "      <th>2023-11-30</th>\n",
       "      <td>253.0</td>\n",
       "    </tr>\n",
       "    <tr>\n",
       "      <th>2023-12-01</th>\n",
       "      <td>183.0</td>\n",
       "    </tr>\n",
       "  </tbody>\n",
       "</table>\n",
       "</div>"
      ],
      "text/plain": [
       "              AQI\n",
       "Time             \n",
       "2023-11-28  196.0\n",
       "2023-11-29  227.0\n",
       "2023-11-30  253.0\n",
       "2023-12-01  183.0"
      ]
     },
     "execution_count": 553,
     "metadata": {},
     "output_type": "execute_result"
    },
    {
     "data": {
      "text/plain": [
       "Time\n",
       "2023-11-28    196.0\n",
       "2023-11-29    227.0\n",
       "2023-11-30    253.0\n",
       "2023-12-01    183.0\n",
       "Freq: D, Name: AQI, dtype: float64"
      ]
     },
     "execution_count": 553,
     "metadata": {},
     "output_type": "execute_result"
    }
   ],
   "source": [
    "sector_51_api\n",
    "sector_51_api['AQI']"
   ]
  },
  {
   "cell_type": "code",
   "execution_count": null,
   "id": "420912ac",
   "metadata": {},
   "outputs": [],
   "source": [
    "sector_51_api[]"
=======
   "execution_count": 453,
   "id": "1d16bbcf",
   "metadata": {
    "ExecuteTime": {
     "end_time": "2023-12-02T09:25:33.980081Z",
     "start_time": "2023-12-02T09:25:33.969008Z"
    }
   },
   "outputs": [],
   "source": [
    "sector_51_api['AQI'] = round(sector_51_api['AQI'])"
>>>>>>> 2854126 (added writeData function)
   ]
  },
  {
   "cell_type": "code",
<<<<<<< HEAD
   "execution_count": 554,
   "id": "67ffd099",
   "metadata": {
    "ExecuteTime": {
     "end_time": "2023-12-02T11:07:20.807841Z",
     "start_time": "2023-12-02T11:07:20.794037Z"
=======
   "execution_count": 454,
   "id": "cb0f7d98",
   "metadata": {
    "ExecuteTime": {
     "end_time": "2023-12-02T09:25:36.449444Z",
     "start_time": "2023-12-02T09:25:36.441375Z"
    }
   },
   "outputs": [
    {
     "data": {
      "text/html": [
       "<div>\n",
       "<style scoped>\n",
       "    .dataframe tbody tr th:only-of-type {\n",
       "        vertical-align: middle;\n",
       "    }\n",
       "\n",
       "    .dataframe tbody tr th {\n",
       "        vertical-align: top;\n",
       "    }\n",
       "\n",
       "    .dataframe thead th {\n",
       "        text-align: right;\n",
       "    }\n",
       "</style>\n",
       "<table border=\"1\" class=\"dataframe\">\n",
       "  <thead>\n",
       "    <tr style=\"text-align: right;\">\n",
       "      <th></th>\n",
       "      <th>AQI</th>\n",
       "    </tr>\n",
       "    <tr>\n",
       "      <th>Time</th>\n",
       "      <th></th>\n",
       "    </tr>\n",
       "  </thead>\n",
       "  <tbody>\n",
       "    <tr>\n",
       "      <th>2023-11-28</th>\n",
       "      <td>196.0</td>\n",
       "    </tr>\n",
       "    <tr>\n",
       "      <th>2023-11-29</th>\n",
       "      <td>227.0</td>\n",
       "    </tr>\n",
       "    <tr>\n",
       "      <th>2023-11-30</th>\n",
       "      <td>253.0</td>\n",
       "    </tr>\n",
       "    <tr>\n",
       "      <th>2023-12-01</th>\n",
       "      <td>183.0</td>\n",
       "    </tr>\n",
       "  </tbody>\n",
       "</table>\n",
       "</div>"
      ],
      "text/plain": [
       "              AQI\n",
       "Time             \n",
       "2023-11-28  196.0\n",
       "2023-11-29  227.0\n",
       "2023-11-30  253.0\n",
       "2023-12-01  183.0"
      ]
     },
     "execution_count": 454,
     "metadata": {},
     "output_type": "execute_result"
    }
   ],
   "source": [
    "sector_51_api"
   ]
  },
  {
   "cell_type": "code",
   "execution_count": 408,
   "id": "67ffd099",
   "metadata": {
    "ExecuteTime": {
     "end_time": "2023-12-02T06:22:04.072468Z",
     "start_time": "2023-12-02T06:22:04.064865Z"
>>>>>>> 2854126 (added writeData function)
    }
   },
   "outputs": [
    {
     "data": {
      "text/plain": [
       "datetime.date(2023, 12, 1)"
      ]
     },
<<<<<<< HEAD
     "execution_count": 554,
=======
     "execution_count": 408,
>>>>>>> 2854126 (added writeData function)
     "metadata": {},
     "output_type": "execute_result"
    }
   ],
   "source": [
    "# Get today's date\n",
    "today = datetime.now().date()\n",
    "\n",
    "# Calculate yesterday's date\n",
    "yesterday = today - timedelta(days=1)\n",
    "yesterday"
   ]
  },
  {
   "cell_type": "code",
<<<<<<< HEAD
   "execution_count": 555,
   "id": "a18135d3",
   "metadata": {
    "ExecuteTime": {
     "end_time": "2023-12-02T11:07:23.260821Z",
     "start_time": "2023-12-02T11:07:23.247185Z"
=======
   "execution_count": 455,
   "id": "a18135d3",
   "metadata": {
    "ExecuteTime": {
     "end_time": "2023-12-02T09:25:42.417049Z",
     "start_time": "2023-12-02T09:25:42.375308Z"
>>>>>>> 2854126 (added writeData function)
    }
   },
   "outputs": [
    {
     "data": {
      "text/html": [
       "<div>\n",
       "<style scoped>\n",
       "    .dataframe tbody tr th:only-of-type {\n",
       "        vertical-align: middle;\n",
       "    }\n",
       "\n",
       "    .dataframe tbody tr th {\n",
       "        vertical-align: top;\n",
       "    }\n",
       "\n",
       "    .dataframe thead th {\n",
       "        text-align: right;\n",
       "    }\n",
       "</style>\n",
       "<table border=\"1\" class=\"dataframe\">\n",
       "  <thead>\n",
       "    <tr style=\"text-align: right;\">\n",
       "      <th></th>\n",
       "      <th>AQI</th>\n",
       "    </tr>\n",
       "    <tr>\n",
       "      <th>Time</th>\n",
       "      <th></th>\n",
       "    </tr>\n",
       "  </thead>\n",
       "  <tbody>\n",
       "    <tr>\n",
       "      <th>2023-12-01</th>\n",
       "      <td>183.0</td>\n",
       "    </tr>\n",
       "  </tbody>\n",
       "</table>\n",
       "</div>"
      ],
      "text/plain": [
       "              AQI\n",
       "Time             \n",
       "2023-12-01  183.0"
      ]
     },
<<<<<<< HEAD
     "execution_count": 555,
=======
     "execution_count": 455,
>>>>>>> 2854126 (added writeData function)
     "metadata": {},
     "output_type": "execute_result"
    }
   ],
   "source": [
    "sector_51_api[yesterday:yesterday]"
   ]
  },
  {
   "cell_type": "code",
<<<<<<< HEAD
   "execution_count": 557,
   "id": "5fd88be2",
   "metadata": {
    "ExecuteTime": {
     "end_time": "2023-12-02T11:08:06.030581Z",
     "start_time": "2023-12-02T11:08:05.996981Z"
=======
   "execution_count": 456,
   "id": "5fd88be2",
   "metadata": {
    "ExecuteTime": {
     "end_time": "2023-12-02T09:25:45.086113Z",
     "start_time": "2023-12-02T09:25:45.076790Z"
>>>>>>> 2854126 (added writeData function)
    }
   },
   "outputs": [
    {
     "data": {
      "text/html": [
       "<div>\n",
       "<style scoped>\n",
       "    .dataframe tbody tr th:only-of-type {\n",
       "        vertical-align: middle;\n",
       "    }\n",
       "\n",
       "    .dataframe tbody tr th {\n",
       "        vertical-align: top;\n",
       "    }\n",
       "\n",
       "    .dataframe thead th {\n",
       "        text-align: right;\n",
       "    }\n",
       "</style>\n",
       "<table border=\"1\" class=\"dataframe\">\n",
       "  <thead>\n",
       "    <tr style=\"text-align: right;\">\n",
       "      <th></th>\n",
       "      <th>AQI</th>\n",
       "    </tr>\n",
       "    <tr>\n",
       "      <th>Time</th>\n",
       "      <th></th>\n",
       "    </tr>\n",
       "  </thead>\n",
       "  <tbody>\n",
       "    <tr>\n",
       "      <th>2023-12-01</th>\n",
       "      <td>183.0</td>\n",
       "    </tr>\n",
       "  </tbody>\n",
       "</table>\n",
       "</div>"
      ],
      "text/plain": [
       "              AQI\n",
       "Time             \n",
       "2023-12-01  183.0"
      ]
     },
<<<<<<< HEAD
     "execution_count": 557,
=======
     "execution_count": 456,
>>>>>>> 2854126 (added writeData function)
     "metadata": {},
     "output_type": "execute_result"
    }
   ],
   "source": [
    "sector_51_api[yesterday:yesterday]"
   ]
  },
  {
   "cell_type": "code",
   "execution_count": 427,
   "id": "d06c0bd6",
   "metadata": {
    "ExecuteTime": {
     "end_time": "2023-12-02T09:19:22.378918Z",
     "start_time": "2023-12-02T09:19:22.365505Z"
    }
   },
   "outputs": [
    {
     "data": {
      "text/plain": [
       "'../../data/cleaned_data/Forecasting_time_series/sector_51_daily_aqi.csv'"
      ]
     },
     "execution_count": 427,
     "metadata": {},
     "output_type": "execute_result"
    }
   ],
   "source": [
    "SECTOR_51_DAILY_AQI"
   ]
  },
  {
   "cell_type": "code",
   "execution_count": 440,
   "id": "dbe5cb25",
   "metadata": {
    "ExecuteTime": {
     "end_time": "2023-12-02T09:22:33.564469Z",
     "start_time": "2023-12-02T09:22:33.548005Z"
    }
   },
   "outputs": [
    {
     "data": {
      "text/plain": [
       "1368"
      ]
     },
     "execution_count": 440,
     "metadata": {},
     "output_type": "execute_result"
    }
   ],
   "source": [
    "pd.read_csv(SECTOR_51_DAILY_AQI).iloc[-1,0] + 1"
   ]
  },
  {
   "cell_type": "code",
<<<<<<< HEAD
   "execution_count": 539,
   "id": "1672c7b1",
   "metadata": {
    "ExecuteTime": {
     "end_time": "2023-12-02T10:24:23.577539Z",
     "start_time": "2023-12-02T10:24:23.564219Z"
    }
   },
   "outputs": [
    {
     "data": {
      "text/plain": [
       "datetime.date(2023, 12, 1)"
      ]
     },
     "execution_count": 539,
     "metadata": {},
     "output_type": "execute_result"
    },
    {
     "data": {
      "text/plain": [
       "'2023121'"
      ]
     },
     "execution_count": 539,
     "metadata": {},
     "output_type": "execute_result"
    }
   ],
   "source": [
    "yesterday\n",
    "str(yesterday.year) + '-' + str(yesterday.month) + str(yesterday.day)"
   ]
  },
  {
   "cell_type": "code",
   "execution_count": 558,
   "id": "93a9f65b",
   "metadata": {
    "ExecuteTime": {
     "end_time": "2023-12-02T11:08:21.212589Z",
     "start_time": "2023-12-02T11:08:21.177484Z"
    }
   },
   "outputs": [],
   "source": [
    "temp_daily_aqi = pd.read_csv(SECTOR_51_DAILY_AQI)\n",
    "temp_daily_aqi['Date'] = pd.to_datetime(temp_daily_aqi['Date'])\n",
    "temp_daily_aqi.set_index('Date', inplace=True)\n",
    "# ['Date']"
   ]
  },
  {
   "cell_type": "code",
   "execution_count": 562,
   "id": "7187c070",
   "metadata": {
    "ExecuteTime": {
     "end_time": "2023-12-02T11:08:39.769314Z",
     "start_time": "2023-12-02T11:08:39.762274Z"
    }
   },
   "outputs": [
    {
     "data": {
      "text/plain": [
       "DatetimeIndex(['2020-03-05', '2020-03-06', '2020-03-07', '2020-03-08',\n",
       "               '2020-03-09', '2020-03-10', '2020-03-11', '2020-03-12',\n",
       "               '2020-03-13', '2020-03-14',\n",
       "               ...\n",
       "               '2023-11-23', '2023-11-24', '2023-11-25', '2023-11-26',\n",
       "               '2023-11-27', '2023-11-28', '2023-11-29', '2023-11-30',\n",
       "               '2023-12-01', '2023-12-02'],\n",
       "              dtype='datetime64[ns]', name='Date', length=1368, freq=None)"
      ]
     },
     "execution_count": 562,
     "metadata": {},
     "output_type": "execute_result"
    }
   ],
   "source": [
    "temp_daily_aqi.index"
   ]
  },
  {
   "cell_type": "code",
   "execution_count": 571,
   "id": "7f30c38a",
   "metadata": {
    "ExecuteTime": {
     "end_time": "2023-12-02T11:14:47.824261Z",
     "start_time": "2023-12-02T11:14:47.786954Z"
    }
   },
   "outputs": [
    {
     "data": {
      "text/html": [
       "<div>\n",
       "<style scoped>\n",
       "    .dataframe tbody tr th:only-of-type {\n",
       "        vertical-align: middle;\n",
       "    }\n",
       "\n",
       "    .dataframe tbody tr th {\n",
       "        vertical-align: top;\n",
       "    }\n",
       "\n",
       "    .dataframe thead th {\n",
       "        text-align: right;\n",
       "    }\n",
       "</style>\n",
       "<table border=\"1\" class=\"dataframe\">\n",
       "  <thead>\n",
       "    <tr style=\"text-align: right;\">\n",
       "      <th></th>\n",
       "      <th>Unnamed: 0</th>\n",
       "      <th>AQI</th>\n",
       "    </tr>\n",
       "    <tr>\n",
       "      <th>Date</th>\n",
       "      <th></th>\n",
       "      <th></th>\n",
       "    </tr>\n",
       "  </thead>\n",
       "  <tbody>\n",
       "    <tr>\n",
       "      <th>2023-12-01</th>\n",
       "      <td>1366</td>\n",
       "      <td>282.0</td>\n",
       "    </tr>\n",
       "  </tbody>\n",
       "</table>\n",
       "</div>"
      ],
      "text/plain": [
       "            Unnamed: 0    AQI\n",
       "Date                         \n",
       "2023-12-01        1366  282.0"
      ]
     },
     "execution_count": 571,
     "metadata": {},
     "output_type": "execute_result"
    },
    {
     "data": {
      "text/plain": [
       "1"
      ]
     },
     "execution_count": 571,
     "metadata": {},
     "output_type": "execute_result"
    }
   ],
   "source": [
    "temp_daily_aqi['2023-12-01':'2023-12-01']\n",
    "len(temp_daily_aqi[yesterday:yesterday])"
   ]
  },
  {
   "cell_type": "code",
=======
>>>>>>> 2854126 (added writeData function)
   "execution_count": 458,
   "id": "461789fb",
   "metadata": {
    "ExecuteTime": {
     "end_time": "2023-12-02T09:26:01.281515Z",
     "start_time": "2023-12-02T09:26:01.261124Z"
    }
   },
   "outputs": [
    {
     "data": {
      "text/plain": [
       "23"
      ]
     },
     "execution_count": 458,
     "metadata": {},
     "output_type": "execute_result"
    }
   ],
   "source": [
    "with open(SECTOR_51_DAILY_AQI, 'a', newline='') as csv_file:\n",
<<<<<<< HEAD
    "    if len(temp_daily_aqi[yesterday:yesterday]) !=0 :\n",
    "        csv_writer = csv.writer(csv_file)    \n",
    "        csv_writer.writerow([pd.read_csv(SECTOR_51_DAILY_AQI).iloc[-1,0] + 1, yesterday, sector_51_api[yesterday:yesterday].AQI.values[0]])"
=======
    "    csv_writer = csv.writer(csv_file)    \n",
    "    csv_writer.writerow([pd.read_csv(SECTOR_51_DAILY_AQI).iloc[-1,0] + 1, yesterday, sector_51_api[yesterday:yesterday].AQI.values[0]])"
>>>>>>> 2854126 (added writeData function)
   ]
  },
  {
   "cell_type": "code",
   "execution_count": null,
   "id": "7530e72a",
   "metadata": {},
   "outputs": [],
   "source": []
  },
  {
   "cell_type": "code",
   "execution_count": null,
   "id": "aa78d952",
   "metadata": {},
   "outputs": [],
   "source": []
  },
  {
   "cell_type": "markdown",
   "id": "e3c9f344",
   "metadata": {},
   "source": [
    "### Modelling"
   ]
  },
  {
   "cell_type": "code",
   "execution_count": 421,
   "id": "88588fbe",
   "metadata": {
    "ExecuteTime": {
     "end_time": "2023-12-02T06:37:49.267022Z",
     "start_time": "2023-12-02T06:37:49.258709Z"
    }
   },
   "outputs": [],
   "source": [
    "train_end = datetime(2023, 11, 19)\n",
    "test_end = datetime(2023, 11, 22)"
   ]
  },
  {
   "cell_type": "code",
   "execution_count": 423,
   "id": "aabaf2f6",
   "metadata": {
    "ExecuteTime": {
     "end_time": "2023-12-02T06:37:53.741196Z",
     "start_time": "2023-12-02T06:37:53.730436Z"
    }
   },
   "outputs": [
    {
     "data": {
      "text/html": [
       "<div>\n",
       "<style scoped>\n",
       "    .dataframe tbody tr th:only-of-type {\n",
       "        vertical-align: middle;\n",
       "    }\n",
       "\n",
       "    .dataframe tbody tr th {\n",
       "        vertical-align: top;\n",
       "    }\n",
       "\n",
       "    .dataframe thead th {\n",
       "        text-align: right;\n",
       "    }\n",
       "</style>\n",
       "<table border=\"1\" class=\"dataframe\">\n",
       "  <thead>\n",
       "    <tr style=\"text-align: right;\">\n",
       "      <th></th>\n",
       "      <th>AQI</th>\n",
       "    </tr>\n",
       "    <tr>\n",
       "      <th>Time</th>\n",
       "      <th></th>\n",
       "    </tr>\n",
       "  </thead>\n",
       "  <tbody>\n",
       "    <tr>\n",
       "      <th>2023-11-28</th>\n",
       "      <td>196.500000</td>\n",
       "    </tr>\n",
       "    <tr>\n",
       "      <th>2023-11-29</th>\n",
       "      <td>227.157895</td>\n",
       "    </tr>\n",
       "    <tr>\n",
       "      <th>2023-11-30</th>\n",
       "      <td>253.238095</td>\n",
       "    </tr>\n",
       "    <tr>\n",
       "      <th>2023-12-01</th>\n",
       "      <td>182.916667</td>\n",
       "    </tr>\n",
       "  </tbody>\n",
       "</table>\n",
       "</div>"
      ],
      "text/plain": [
       "                   AQI\n",
       "Time                  \n",
       "2023-11-28  196.500000\n",
       "2023-11-29  227.157895\n",
       "2023-11-30  253.238095\n",
       "2023-12-01  182.916667"
      ]
     },
     "execution_count": 423,
     "metadata": {},
     "output_type": "execute_result"
    }
   ],
   "source": [
    "sector_51_api"
   ]
  },
  {
   "cell_type": "code",
   "execution_count": 418,
   "id": "2cc7801e",
   "metadata": {
    "ExecuteTime": {
     "end_time": "2023-12-02T06:37:10.996850Z",
     "start_time": "2023-12-02T06:37:10.966725Z"
    }
   },
   "outputs": [],
   "source": [
    "train_data = sector_51_api[:train_end]['AQI']\n",
    "test_data = sector_51_api[train_end + timedelta(days=1):test_end]['AQI']"
   ]
  },
  {
   "cell_type": "code",
   "execution_count": 419,
   "id": "38be6056",
   "metadata": {
    "ExecuteTime": {
     "end_time": "2023-12-02T06:37:14.013948Z",
     "start_time": "2023-12-02T06:37:14.007444Z"
    }
   },
   "outputs": [
    {
     "data": {
      "text/plain": [
       "Series([], Freq: D, Name: AQI, dtype: float64)"
      ]
     },
     "execution_count": 419,
     "metadata": {},
     "output_type": "execute_result"
    }
   ],
   "source": [
    "train_data"
   ]
  },
  {
   "cell_type": "code",
   "execution_count": 420,
   "id": "32b233b6",
   "metadata": {
    "ExecuteTime": {
     "end_time": "2023-12-02T06:37:18.652387Z",
     "start_time": "2023-12-02T06:37:18.645904Z"
    }
   },
   "outputs": [
    {
     "data": {
      "text/plain": [
       "Series([], Freq: D, Name: AQI, dtype: float64)"
      ]
     },
     "execution_count": 420,
     "metadata": {},
     "output_type": "execute_result"
    }
   ],
   "source": [
    "test_data"
   ]
  },
  {
   "cell_type": "code",
   "execution_count": 415,
   "id": "93b62751",
   "metadata": {
    "ExecuteTime": {
     "end_time": "2023-12-02T06:36:23.311933Z",
     "start_time": "2023-12-02T06:36:23.301411Z"
    }
   },
   "outputs": [],
   "source": [
    "my_order = (1, 0, 1)\n",
    "p,d,q = my_order\n",
    "rolling_predictions = test_data.copy()\n",
    "for train_end in test_data.index:\n",
    "    print(\"train_end-timedelta(days=1)\", train_end - timedelta(days=1))\n",
    "    train_data = sector_51_api[:train_end - timedelta(days=1)]['AQI']\n",
    "    model = ARIMA(train_data, order=my_order)\n",
    "    model_fit = model.fit()\n",
    "    pred = model_fit.forecast(typ='levels')\n",
    "    print(\"pred\", pred)\n",
    "    rolling_predictions[train_end] = pred"
   ]
  },
  {
   "cell_type": "code",
   "execution_count": 417,
   "id": "bed00e98",
   "metadata": {
    "ExecuteTime": {
     "end_time": "2023-12-02T06:36:57.028821Z",
     "start_time": "2023-12-02T06:36:56.597475Z"
    }
   },
   "outputs": [
    {
     "data": {
      "text/plain": [
       "<Figure size 1400x700 with 0 Axes>"
      ]
     },
     "execution_count": 417,
     "metadata": {},
     "output_type": "execute_result"
    },
    {
     "data": {
      "text/plain": [
       "[<matplotlib.lines.Line2D at 0x14ec230a0>]"
      ]
     },
     "execution_count": 417,
     "metadata": {},
     "output_type": "execute_result"
    },
    {
     "data": {
      "text/plain": [
       "[<matplotlib.lines.Line2D at 0x14ec1bb20>]"
      ]
     },
     "execution_count": 417,
     "metadata": {},
     "output_type": "execute_result"
    },
    {
     "data": {
      "text/plain": [
       "<matplotlib.legend.Legend at 0x28f9aa260>"
      ]
     },
     "execution_count": 417,
     "metadata": {},
     "output_type": "execute_result"
    },
    {
     "data": {
      "text/plain": [
       "Text(0.5, 1.0, 'predictions ARIMA 1, 0, 1 ')"
      ]
     },
     "execution_count": 417,
     "metadata": {},
     "output_type": "execute_result"
    },
    {
     "data": {
      "image/png": "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",
      "text/plain": [
       "<Figure size 1400x700 with 1 Axes>"
      ]
     },
     "metadata": {
      "image/png": {
       "height": 610,
       "width": 1156
      }
     },
     "output_type": "display_data"
    }
   ],
   "source": [
    "plt.figure(figsize=(14, 7))\n",
    "plt.plot(test_data)\n",
    "plt.plot(rolling_predictions , '--')\n",
    "plt.legend(('Data', 'rolling_predictions'), fontsize=16)\n",
    "plt.title(\"predictions ARIMA {}, {}, {} \".format(p,d,q), fontsize=16)"
   ]
  },
  {
   "cell_type": "code",
   "execution_count": 416,
   "id": "23d4b86a",
   "metadata": {
    "ExecuteTime": {
     "end_time": "2023-12-02T06:36:24.150949Z",
     "start_time": "2023-12-02T06:36:23.791174Z"
    }
   },
   "outputs": [
    {
     "data": {
      "text/plain": [
       "<Figure size 1400x700 with 0 Axes>"
      ]
     },
     "execution_count": 416,
     "metadata": {},
     "output_type": "execute_result"
    },
    {
     "data": {
      "text/plain": [
       "[<matplotlib.lines.Line2D at 0x292005690>]"
      ]
     },
     "execution_count": 416,
     "metadata": {},
     "output_type": "execute_result"
    },
    {
     "data": {
      "text/plain": [
       "[<matplotlib.lines.Line2D at 0x29202d540>]"
      ]
     },
     "execution_count": 416,
     "metadata": {},
     "output_type": "execute_result"
    },
    {
     "data": {
      "text/plain": [
       "<matplotlib.legend.Legend at 0x14efb09a0>"
      ]
     },
     "execution_count": 416,
     "metadata": {},
     "output_type": "execute_result"
    },
    {
     "data": {
      "text/plain": [
       "Text(0.5, 1.0, 'Shifted -1 predictions ARIMA 1, 0, 1 ')"
      ]
     },
     "execution_count": 416,
     "metadata": {},
     "output_type": "execute_result"
    },
    {
     "data": {
      "image/png": "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",
      "text/plain": [
       "<Figure size 1400x700 with 1 Axes>"
      ]
     },
     "metadata": {
      "image/png": {
       "height": 610,
       "width": 1156
      }
     },
     "output_type": "display_data"
    }
   ],
   "source": [
    "plt.figure(figsize=(14, 7))\n",
    "plt.plot(test_data)\n",
    "plt.plot(rolling_predictions.shift(-1) , '--')\n",
    "plt.legend(('Data', 'shift -1 rolling_predictions'), fontsize=16)\n",
    "plt.title(\"Shifted -1 predictions ARIMA {}, {}, {} \".format(p,d,q), fontsize=16)"
   ]
  },
  {
   "cell_type": "code",
   "execution_count": null,
   "id": "92e9cabb",
   "metadata": {},
   "outputs": [],
   "source": []
  }
 ],
 "metadata": {
  "kernelspec": {
   "display_name": "Python 3 (ipykernel)",
   "language": "python",
   "name": "python3"
  },
  "language_info": {
   "codemirror_mode": {
    "name": "ipython",
    "version": 3
   },
   "file_extension": ".py",
   "mimetype": "text/x-python",
   "name": "python",
   "nbconvert_exporter": "python",
   "pygments_lexer": "ipython3",
   "version": "3.10.2"
  },
  "varInspector": {
   "cols": {
    "lenName": 16,
    "lenType": 16,
    "lenVar": 40
   },
   "kernels_config": {
    "python": {
     "delete_cmd_postfix": "",
     "delete_cmd_prefix": "del ",
     "library": "var_list.py",
     "varRefreshCmd": "print(var_dic_list())"
    },
    "r": {
     "delete_cmd_postfix": ") ",
     "delete_cmd_prefix": "rm(",
     "library": "var_list.r",
     "varRefreshCmd": "cat(var_dic_list()) "
    }
   },
   "types_to_exclude": [
    "module",
    "function",
    "builtin_function_or_method",
    "instance",
    "_Feature"
   ],
   "window_display": false
  }
 },
 "nbformat": 4,
 "nbformat_minor": 5
}
