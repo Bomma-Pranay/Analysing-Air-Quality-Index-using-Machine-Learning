{
 "cells": [
  {
   "cell_type": "code",
   "execution_count": 267,
   "id": "49bd385e",
   "metadata": {
    "ExecuteTime": {
     "end_time": "2023-11-29T02:27:09.886855Z",
     "start_time": "2023-11-29T02:27:09.876128Z"
    }
   },
   "outputs": [],
   "source": [
    "import requests\n",
    "import pandas as pd\n",
    "import pprint\n",
    "import csv\n",
    "from datetime import datetime, timezone, timedelta\n",
    "from pytz import timezone\n",
    "import logging\n",
    "import os\n",
    "import logging.handlers\n",
    "\n",
    "# NISE\n",
    "NISE = \"nise gwal\"\n",
    "NISE_STATION = \"NISE Gwal Pahari, Gurugram, India\"\n",
    "NISE_OUTPUT = \"../../data/cron_job_data/nise_cron_output\"\n",
    "\n",
    "# Sector 51\n",
    "SECTOR_51 = \"Sector-51, Gurugram\"\n",
    "SECTOR_51_STATION = \"Sector-51, Gurugram, India\"\n",
    "SECTOR_51_OUTPUT = \"../../data/cron_job_data/sector_51_cron_output\"\n",
    "\n",
    "# Teri gram\n",
    "TERI_GRAM = \"Teri Gram\"\n",
    "TERI_GRAM_STATION = \"Teri Gram, Gurugram\"\n",
    "TERI_GRAM_OUTPUT = \"../../data/cron_job_data/teri_gram_cron_output\"\n",
    "\n",
    "# Vikas Sadan\n",
    "VIKAS_SADAN = \"Vikas Sadan\"\n",
    "VIKAS_SADAN_STATION = \"Vikas Sadan Gurgaon\"\n",
    "VIKAS_SADAN_OUTPUT = \"../../data/cron_job_data/vikas_sadan_cron_output\"\n",
    "\n",
    "stations = [(NISE,  NISE_OUTPUT), (SECTOR_51, SECTOR_51_OUTPUT), (TERI_GRAM, TERI_GRAM_OUTPUT), (VIKAS_SADAN, VIKAS_SADAN_OUTPUT)]\n",
    "\n",
    "def get_api_token():\n",
    "    try:\n",
    "        return os.environ['API_TOKEN']\n",
    "    except KeyError:\n",
    "        print(\"KeyError\")\n",
    "         # If running locally, use an alternative method to get the API token\n",
    "        return input(\"Enter your API token: \")\n",
    "    \n",
    "# Incase if api fails, write to file with previous day\n",
    "# In 2nd cron daily job, Incase if api fails, write to file with previous day\n",
    "\n",
    "def setData(station, output_file, logger, TOKEN):\n",
    "    try:\n",
    "        # Get the API response\n",
    "        url = \"https://api.waqi.info/search/?token=\" + TOKEN + \"&keyword=\" + station\n",
    "        response = requests.get(url)\n",
    "        if response.status_code == 200:\n",
    "            res = response.json()\n",
    "            result = []\n",
    "            if station.lower() in (res[\"data\"][0]['station']['name']).lower():\n",
    "                result.append(res[\"data\"][0]['aqi'])\n",
    "                result.append(res[\"data\"][0]['station']['name'])\n",
    "                result.append(pd.to_datetime(res[\"data\"][0]['time']['stime']))\n",
    "            logger.info(f\"station=> {station}, result => {result}\")\n",
    "            print(f\"{datetime.now()} - station=> {station}, result => {result}\")\n",
    "            \n",
    "            # Write to the file only when (station, time) is not already existing in the file.\n",
    "\n",
    "            new_timestamp = (res[\"data\"][0]['time']['stime'])\n",
    "            csv_file_path = output_file + '.csv'\n",
    "\n",
    "            # Check if the new timestamp is already present\n",
    "            with open(csv_file_path, 'r') as csv_file:\n",
    "                csv_reader = csv.reader(csv_file)\n",
    "                # Assuming the timestamp is in the 3rd column\n",
    "                existing_timestamps = [row[2] for row in csv_reader]\n",
    "\n",
    "            if new_timestamp not in existing_timestamps:\n",
    "                with open(csv_file_path, 'a', newline='') as csv_file:\n",
    "                    csv_writer = csv.writer(csv_file)\n",
    "                    csv_writer.writerow(result)\n",
    "                print(f'The data has been written to {csv_file_path} with Timestamp: {new_timestamp}')\n",
    "                logger.info(f'{datetime.now()} - The data has been written to {csv_file_path} with Timestamp: {new_timestamp}')\n",
    "            else:\n",
    "                print(f'Timestamp {new_timestamp} already present in {csv_file_path}, not appending.')\n",
    "                logger.info(f'{datetime.now()} - Timestamp {new_timestamp} already present in {csv_file_path}, not appending.')\n",
    "        else:\n",
    "            print(f\"Error: {response.status_code} - {response.text}\")\n",
    "            logger.info(f\"{datetime.now()} - Error: {response.status_code} - {response.text}\")\n",
    "    except Exception as e:\n",
    "        print(f\"Exception {type(e).__name__} has occured for station=> {station}\")\n",
    "        logger.info(f\"Exception {type(e).__name__} has occured for station=> {station}\")\n",
    "\n",
    "def setLogger():\n",
    "    logger = logging.getLogger(__name__)\n",
    "    logger.setLevel(logging.INFO)\n",
    "    logger_file_handler = logging.handlers.RotatingFileHandler(\n",
    "        f\"logs/{datetime.now().strftime('%d-%m-%Y')}.log\",\n",
    "        maxBytes=1024 * 1024,\n",
    "        backupCount=1,\n",
    "        encoding=\"utf8\",\n",
    "    )\n",
    "    formatter = logging.Formatter(\"%(asctime)s - %(name)s - %(levelname)s - %(message)s\")\n",
    "    logger_file_handler.setFormatter(formatter)\n",
    "    logger.addHandler(logger_file_handler)\n",
    "    return logger"
   ]
  },
  {
   "cell_type": "code",
   "execution_count": 272,
   "id": "9ed86042",
   "metadata": {
    "ExecuteTime": {
     "end_time": "2023-11-29T02:28:09.297638Z",
     "start_time": "2023-11-29T02:28:09.290140Z"
    }
   },
   "outputs": [],
   "source": [
    "def writeData(station_location):\n",
    "    df_api = pd.read_csv(station_location + \".csv\")\n",
    "    df_api['Time'] = pd.to_datetime(df_api['Time'])\n",
    "    df_api.set_index('Time', inplace=True)\n",
    "    df_api.resample('D').mean()"
   ]
  },
  {
   "cell_type": "code",
   "execution_count": 116,
   "id": "d76e9365",
   "metadata": {
    "ExecuteTime": {
     "end_time": "2023-11-27T06:02:16.480244Z",
     "start_time": "2023-11-27T06:02:16.472604Z"
    }
   },
   "outputs": [],
   "source": [
    "if __name__ == \"__main__\":\n",
    "\n",
    "    # Logging\n",
    "    logger = setLogger()\n",
    "    \n",
    "    # Get API token\n",
    "    TOKEN = get_api_token()\n",
    "\n",
    "    for station, station_location in stations:\n",
    "        setData(station,  station_location, logger, TOKEN)\n",
    "\n",
    "    # If the day changes, append it to original data\n",
    "\n",
    "#     if datetime.now().hour == 1:     # It means 1 AM\n",
    "#         for station, station_location in stations:\n",
    "#             writeData(station_location)"
   ]
  },
  {
   "cell_type": "code",
   "execution_count": 212,
   "id": "9b18af16",
   "metadata": {
    "ExecuteTime": {
     "end_time": "2023-11-27T11:34:24.858148Z",
     "start_time": "2023-11-27T11:34:24.853119Z"
    }
   },
   "outputs": [],
   "source": [
    "datetime.now().hour"
   ]
  },
  {
   "cell_type": "code",
   "execution_count": 287,
   "id": "41086a7c",
   "metadata": {
    "ExecuteTime": {
     "end_time": "2023-11-29T16:42:34.246748Z",
     "start_time": "2023-11-29T16:42:34.229918Z"
    }
   },
   "outputs": [],
   "source": [
    "datetime.now().astimezone().timetuple()"
   ]
  },
  {
   "cell_type": "code",
   "execution_count": 288,
   "id": "82189762",
   "metadata": {
    "ExecuteTime": {
     "end_time": "2023-11-29T16:42:39.162570Z",
     "start_time": "2023-11-29T16:42:35.184697Z"
    }
   },
   "outputs": [
    {
     "name": "stdout",
     "output_type": "stream",
     "text": [
      "Enter your API token: w\n",
      "Enter your API token: w\n",
      "Enter your API token: w\n",
      "Enter your API token: w\n"
     ]
    }
   ],
   "source": [
    "sector_51_api = pd.read_csv(\"../../data/cron_job_data/sector_51_cron_output.csv\")\n",
    "sector_51_api"
   ]
  },
  {
   "cell_type": "code",
   "execution_count": 283,
   "id": "1d2cc81e",
   "metadata": {
    "ExecuteTime": {
     "end_time": "2023-11-29T16:41:05.633140Z",
     "start_time": "2023-11-29T16:41:05.617697Z"
    }
   },
   "outputs": [
    {
     "data": {
      "text/plain": [
       "'__main__'"
      ]
     },
     "execution_count": 283,
     "metadata": {},
     "output_type": "execute_result"
    }
   ],
   "source": [
    "sector_51_api.info()"
   ]
  },
  {
   "cell_type": "code",
   "execution_count": 275,
   "id": "e1ebe06f",
   "metadata": {
    "ExecuteTime": {
     "end_time": "2023-11-29T16:37:06.350144Z",
     "start_time": "2023-11-29T16:36:59.880370Z"
    }
   },
   "outputs": [
    {
     "name": "stdout",
     "output_type": "stream",
     "text": [
      "logger <Logger __main__ (DEBUG)>\n",
      "Enter your API token: a\n",
      "Exception  string indices must be integers\n",
      "logger <Logger __main__ (DEBUG)>\n",
      "Enter your API token: a\n",
      "Exception  string indices must be integers\n",
      "logger <Logger __main__ (DEBUG)>\n",
      "Enter your API token: a\n",
      "Exception  string indices must be integers\n",
      "logger <Logger __main__ (DEBUG)>\n",
      "Enter your API token: a\n",
      "Exception  string indices must be integers\n"
     ]
    }
   ],
   "source": [
    "sector_51_api['Time'] = pd.to_datetime(sector_51_api['Time'])\n",
    "sector_51_api.info()"
   ]
  },
  {
   "cell_type": "code",
   "execution_count": null,
   "id": "ea43b802",
   "metadata": {},
   "outputs": [],
   "source": [
    "sector_51_api.set_index('Time', inplace=True)\n"
   ]
  },
  {
   "cell_type": "code",
   "execution_count": null,
   "id": "72208191",
   "metadata": {},
   "outputs": [],
   "source": [
    "sector_51_api = sector_51_api.resample('D').mean()\n",
    "sector_51_api"
   ]
  },
  {
   "cell_type": "code",
   "execution_count": null,
   "id": "6680b16f",
   "metadata": {},
   "outputs": [],
   "source": [
    "# Get today's date\n",
    "today = datetime.now().date()\n",
    "\n",
    "# Calculate yesterday's date\n",
    "yesterday = today - timedelta(days=1)\n",
    "yesterday"
   ]
  },
  {
   "cell_type": "code",
   "execution_count": null,
   "id": "60652cb1",
   "metadata": {},
   "outputs": [],
   "source": []
  }
 ],
 "metadata": {
  "kernelspec": {
   "display_name": "Python 3 (ipykernel)",
   "language": "python",
   "name": "python3"
  },
  "language_info": {
   "codemirror_mode": {
    "name": "ipython",
    "version": 3
   },
   "file_extension": ".py",
   "mimetype": "text/x-python",
   "name": "python",
   "nbconvert_exporter": "python",
   "pygments_lexer": "ipython3",
   "version": "3.10.2"
  },
  "varInspector": {
   "cols": {
    "lenName": 16,
    "lenType": 16,
    "lenVar": 40
   },
   "kernels_config": {
    "python": {
     "delete_cmd_postfix": "",
     "delete_cmd_prefix": "del ",
     "library": "var_list.py",
     "varRefreshCmd": "print(var_dic_list())"
    },
    "r": {
     "delete_cmd_postfix": ") ",
     "delete_cmd_prefix": "rm(",
     "library": "var_list.r",
     "varRefreshCmd": "cat(var_dic_list()) "
    }
   },
   "types_to_exclude": [
    "module",
    "function",
    "builtin_function_or_method",
    "instance",
    "_Feature"
   ],
   "window_display": false
  }
 },
 "nbformat": 4,
 "nbformat_minor": 5
}
