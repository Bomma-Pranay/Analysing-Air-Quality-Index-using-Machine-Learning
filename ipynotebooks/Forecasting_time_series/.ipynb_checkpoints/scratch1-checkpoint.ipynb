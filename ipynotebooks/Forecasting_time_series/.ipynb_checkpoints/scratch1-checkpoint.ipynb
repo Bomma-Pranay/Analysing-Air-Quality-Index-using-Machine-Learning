{
 "cells": [
  {
   "cell_type": "code",
   "execution_count": 1,
   "id": "b6c98406",
   "metadata": {
    "ExecuteTime": {
     "end_time": "2023-11-24T06:22:46.907100Z",
     "start_time": "2023-11-24T06:22:44.723293Z"
    }
   },
   "outputs": [],
   "source": [
    "# Data analysis\n",
    "import pandas as pd \n",
    "\n",
    "# Data Visualization\n",
    "import matplotlib.pyplot as plt \n",
    "import seaborn as sns\n",
    "import plotly.express as px \n",
    "\n",
    "# Time Series\n",
    "from statsmodels.graphics.tsaplots import plot_acf, plot_pacf\n",
    "from statsmodels.tsa.stattools import acf, pacf\n",
    "from datetime import datetime, timedelta\n",
    "from statsmodels.tsa.arima.model import ARIMA \n",
    "from statsmodels.tsa.statespace.sarimax import SARIMAX\n",
    "from pmdarima import auto_arima\n",
    "import statsmodels.api as sm\n",
    "\n",
    "# For printing multiple outputs\n",
    "from IPython.core.interactiveshell import InteractiveShell\n",
    "InteractiveShell.ast_node_interactivity = \"all\"\n",
    "\n",
    "# Visualization parameters\n",
    "sns.set(rc={\"figure.dpi\":100, 'savefig.dpi':300})\n",
    "sns.set_context('notebook')\n",
    "sns.set_style(\"ticks\")\n",
    "from IPython.display import set_matplotlib_formats\n",
    "%config InlineBackend.figure_format = 'retina'"
   ]
  },
  {
   "cell_type": "code",
   "execution_count": 2,
   "id": "4b3f0dcd",
   "metadata": {
    "ExecuteTime": {
     "end_time": "2023-11-24T06:22:50.648380Z",
     "start_time": "2023-11-24T06:22:50.640950Z"
    }
   },
   "outputs": [],
   "source": [
    "PATH = \"../../data/raw_data\""
   ]
  },
  {
   "cell_type": "code",
   "execution_count": 3,
   "id": "781c2be4",
   "metadata": {
    "ExecuteTime": {
     "end_time": "2023-11-24T06:22:55.037083Z",
     "start_time": "2023-11-24T06:22:54.659049Z"
    }
   },
   "outputs": [
    {
     "data": {
      "text/html": [
       "<div>\n",
       "<style scoped>\n",
       "    .dataframe tbody tr th:only-of-type {\n",
       "        vertical-align: middle;\n",
       "    }\n",
       "\n",
       "    .dataframe tbody tr th {\n",
       "        vertical-align: top;\n",
       "    }\n",
       "\n",
       "    .dataframe thead th {\n",
       "        text-align: right;\n",
       "    }\n",
       "</style>\n",
       "<table border=\"1\" class=\"dataframe\">\n",
       "  <thead>\n",
       "    <tr style=\"text-align: right;\">\n",
       "      <th></th>\n",
       "      <th>CENTRAL POLLUTION CONTROL BOARD</th>\n",
       "      <th>Unnamed: 1</th>\n",
       "      <th>Unnamed: 2</th>\n",
       "      <th>Unnamed: 3</th>\n",
       "      <th>Unnamed: 4</th>\n",
       "      <th>Unnamed: 5</th>\n",
       "      <th>Unnamed: 6</th>\n",
       "      <th>Unnamed: 7</th>\n",
       "      <th>Unnamed: 8</th>\n",
       "    </tr>\n",
       "  </thead>\n",
       "  <tbody>\n",
       "    <tr>\n",
       "      <th>0</th>\n",
       "      <td>CONTINUOUS AMBIENT AIR QUALITY</td>\n",
       "      <td>NaN</td>\n",
       "      <td>NaN</td>\n",
       "      <td>NaN</td>\n",
       "      <td>NaN</td>\n",
       "      <td>NaN</td>\n",
       "      <td>NaN</td>\n",
       "      <td>NaN</td>\n",
       "      <td>NaN</td>\n",
       "    </tr>\n",
       "    <tr>\n",
       "      <th>1</th>\n",
       "      <td>Date: Thursday, Nov 23 2023</td>\n",
       "      <td>NaN</td>\n",
       "      <td>NaN</td>\n",
       "      <td>NaN</td>\n",
       "      <td>NaN</td>\n",
       "      <td>NaN</td>\n",
       "      <td>NaN</td>\n",
       "      <td>NaN</td>\n",
       "      <td>NaN</td>\n",
       "    </tr>\n",
       "    <tr>\n",
       "      <th>2</th>\n",
       "      <td>Time: 12:24:26 PM</td>\n",
       "      <td>NaN</td>\n",
       "      <td>NaN</td>\n",
       "      <td>NaN</td>\n",
       "      <td>NaN</td>\n",
       "      <td>NaN</td>\n",
       "      <td>NaN</td>\n",
       "      <td>NaN</td>\n",
       "      <td>NaN</td>\n",
       "    </tr>\n",
       "    <tr>\n",
       "      <th>3</th>\n",
       "      <td>State</td>\n",
       "      <td>Haryana</td>\n",
       "      <td>NaN</td>\n",
       "      <td>NaN</td>\n",
       "      <td>NaN</td>\n",
       "      <td>NaN</td>\n",
       "      <td>NaN</td>\n",
       "      <td>NaN</td>\n",
       "      <td>NaN</td>\n",
       "    </tr>\n",
       "    <tr>\n",
       "      <th>4</th>\n",
       "      <td>City</td>\n",
       "      <td>Gurugram</td>\n",
       "      <td>NaN</td>\n",
       "      <td>NaN</td>\n",
       "      <td>NaN</td>\n",
       "      <td>NaN</td>\n",
       "      <td>NaN</td>\n",
       "      <td>NaN</td>\n",
       "      <td>NaN</td>\n",
       "    </tr>\n",
       "    <tr>\n",
       "      <th>...</th>\n",
       "      <td>...</td>\n",
       "      <td>...</td>\n",
       "      <td>...</td>\n",
       "      <td>...</td>\n",
       "      <td>...</td>\n",
       "      <td>...</td>\n",
       "      <td>...</td>\n",
       "      <td>...</td>\n",
       "      <td>...</td>\n",
       "    </tr>\n",
       "    <tr>\n",
       "      <th>1370</th>\n",
       "      <td>19-11-2023 00:00</td>\n",
       "      <td>20-11-2023 00:00</td>\n",
       "      <td>149.81</td>\n",
       "      <td>234.32</td>\n",
       "      <td>16.35</td>\n",
       "      <td>15.63</td>\n",
       "      <td>20.79</td>\n",
       "      <td>1.87</td>\n",
       "      <td>10.31</td>\n",
       "    </tr>\n",
       "    <tr>\n",
       "      <th>1371</th>\n",
       "      <td>20-11-2023 00:00</td>\n",
       "      <td>21-11-2023 00:00</td>\n",
       "      <td>177.53</td>\n",
       "      <td>321.96</td>\n",
       "      <td>15.1</td>\n",
       "      <td>11.77</td>\n",
       "      <td>19.21</td>\n",
       "      <td>2.51</td>\n",
       "      <td>34.88</td>\n",
       "    </tr>\n",
       "    <tr>\n",
       "      <th>1372</th>\n",
       "      <td>21-11-2023 00:00</td>\n",
       "      <td>22-11-2023 00:00</td>\n",
       "      <td>150.27</td>\n",
       "      <td>222.25</td>\n",
       "      <td>15.1</td>\n",
       "      <td>11.78</td>\n",
       "      <td>19.21</td>\n",
       "      <td>2.27</td>\n",
       "      <td>49.94</td>\n",
       "    </tr>\n",
       "    <tr>\n",
       "      <th>1373</th>\n",
       "      <td>22-11-2023 00:00</td>\n",
       "      <td>23-11-2023 00:00</td>\n",
       "      <td>173</td>\n",
       "      <td>281.5</td>\n",
       "      <td>15.1</td>\n",
       "      <td>11.77</td>\n",
       "      <td>19.21</td>\n",
       "      <td>1.93</td>\n",
       "      <td>49.94</td>\n",
       "    </tr>\n",
       "    <tr>\n",
       "      <th>1374</th>\n",
       "      <td>23-11-2023 00:00</td>\n",
       "      <td>23-11-2023 00:00</td>\n",
       "      <td>256.99</td>\n",
       "      <td>803.59</td>\n",
       "      <td>15.99</td>\n",
       "      <td>14.23</td>\n",
       "      <td>16.59</td>\n",
       "      <td>5.1</td>\n",
       "      <td>34.88</td>\n",
       "    </tr>\n",
       "  </tbody>\n",
       "</table>\n",
       "<p>1375 rows × 9 columns</p>\n",
       "</div>"
      ],
      "text/plain": [
       "     CENTRAL POLLUTION CONTROL BOARD        Unnamed: 1 Unnamed: 2 Unnamed: 3  \\\n",
       "0     CONTINUOUS AMBIENT AIR QUALITY               NaN        NaN        NaN   \n",
       "1        Date: Thursday, Nov 23 2023               NaN        NaN        NaN   \n",
       "2                  Time: 12:24:26 PM               NaN        NaN        NaN   \n",
       "3                              State           Haryana        NaN        NaN   \n",
       "4                               City          Gurugram        NaN        NaN   \n",
       "...                              ...               ...        ...        ...   \n",
       "1370                19-11-2023 00:00  20-11-2023 00:00     149.81     234.32   \n",
       "1371                20-11-2023 00:00  21-11-2023 00:00     177.53     321.96   \n",
       "1372                21-11-2023 00:00  22-11-2023 00:00     150.27     222.25   \n",
       "1373                22-11-2023 00:00  23-11-2023 00:00        173      281.5   \n",
       "1374                23-11-2023 00:00  23-11-2023 00:00     256.99     803.59   \n",
       "\n",
       "     Unnamed: 4 Unnamed: 5 Unnamed: 6 Unnamed: 7 Unnamed: 8  \n",
       "0           NaN        NaN        NaN        NaN        NaN  \n",
       "1           NaN        NaN        NaN        NaN        NaN  \n",
       "2           NaN        NaN        NaN        NaN        NaN  \n",
       "3           NaN        NaN        NaN        NaN        NaN  \n",
       "4           NaN        NaN        NaN        NaN        NaN  \n",
       "...         ...        ...        ...        ...        ...  \n",
       "1370      16.35      15.63      20.79       1.87      10.31  \n",
       "1371       15.1      11.77      19.21       2.51      34.88  \n",
       "1372       15.1      11.78      19.21       2.27      49.94  \n",
       "1373       15.1      11.77      19.21       1.93      49.94  \n",
       "1374      15.99      14.23      16.59        5.1      34.88  \n",
       "\n",
       "[1375 rows x 9 columns]"
      ]
     },
     "execution_count": 3,
     "metadata": {},
     "output_type": "execute_result"
    }
   ],
   "source": [
    "sector_51 = pd.read_excel(PATH + \"/sector_51_daily_5:3:20 to 23:11:23.xlsx\")\n",
    "sector_51"
   ]
  },
  {
   "cell_type": "code",
   "execution_count": 4,
   "id": "c25cfaa5",
   "metadata": {
    "ExecuteTime": {
     "end_time": "2023-11-24T06:23:05.970966Z",
     "start_time": "2023-11-24T06:23:05.958361Z"
    }
   },
   "outputs": [],
   "source": [
    "sector_51 = sector_51[15:]"
   ]
  },
  {
   "cell_type": "code",
   "execution_count": 5,
   "id": "9bde52c6",
   "metadata": {
    "ExecuteTime": {
     "end_time": "2023-11-24T06:23:13.800059Z",
     "start_time": "2023-11-24T06:23:13.790948Z"
    }
   },
   "outputs": [],
   "source": [
    "columns = sector_51.iloc[0,:]\n"
   ]
  },
  {
   "cell_type": "code",
   "execution_count": 6,
   "id": "256d45a6",
   "metadata": {
    "ExecuteTime": {
     "end_time": "2023-11-24T06:23:19.081240Z",
     "start_time": "2023-11-24T06:23:19.071407Z"
    }
   },
   "outputs": [],
   "source": [
    "sector_51.columns = columns\n"
   ]
  },
  {
   "cell_type": "code",
   "execution_count": 7,
   "id": "60093dd4",
   "metadata": {
    "ExecuteTime": {
     "end_time": "2023-11-24T06:23:23.961843Z",
     "start_time": "2023-11-24T06:23:23.949483Z"
    }
   },
   "outputs": [],
   "source": [
    "sector_51.columns.name = \"\""
   ]
  },
  {
   "cell_type": "code",
   "execution_count": 8,
   "id": "cef62953",
   "metadata": {
    "ExecuteTime": {
     "end_time": "2023-11-24T06:23:32.299139Z",
     "start_time": "2023-11-24T06:23:32.294542Z"
    }
   },
   "outputs": [],
   "source": [
    "sector_51.reset_index(inplace=True)"
   ]
  },
  {
   "cell_type": "code",
   "execution_count": 9,
   "id": "37ce52f1",
   "metadata": {
    "ExecuteTime": {
     "end_time": "2023-11-24T06:23:38.652043Z",
     "start_time": "2023-11-24T06:23:38.638263Z"
    }
   },
   "outputs": [
    {
     "name": "stderr",
     "output_type": "stream",
     "text": [
      "/var/folders/27/b03t8q596qvcmtyqjtnh0w6w0000gn/T/ipykernel_34560/1384764267.py:1: SettingWithCopyWarning: \n",
      "A value is trying to be set on a copy of a slice from a DataFrame\n",
      "\n",
      "See the caveats in the documentation: https://pandas.pydata.org/pandas-docs/stable/user_guide/indexing.html#returning-a-view-versus-a-copy\n",
      "  sector_51.drop(columns=['index'], inplace=True)\n"
     ]
    }
   ],
   "source": [
    "sector_51.drop(columns=['index'], inplace=True)"
   ]
  },
  {
   "cell_type": "code",
   "execution_count": 10,
   "id": "2982ecb1",
   "metadata": {
    "ExecuteTime": {
     "end_time": "2023-11-24T06:23:43.709488Z",
     "start_time": "2023-11-24T06:23:43.701401Z"
    }
   },
   "outputs": [
    {
     "name": "stderr",
     "output_type": "stream",
     "text": [
      "/var/folders/27/b03t8q596qvcmtyqjtnh0w6w0000gn/T/ipykernel_34560/1066287836.py:1: SettingWithCopyWarning: \n",
      "A value is trying to be set on a copy of a slice from a DataFrame\n",
      "\n",
      "See the caveats in the documentation: https://pandas.pydata.org/pandas-docs/stable/user_guide/indexing.html#returning-a-view-versus-a-copy\n",
      "  sector_51.drop(index=0, inplace=True)\n"
     ]
    }
   ],
   "source": [
    "sector_51.drop(index=0, inplace=True)"
   ]
  },
  {
   "cell_type": "code",
   "execution_count": 11,
   "id": "859ed5e9",
   "metadata": {
    "ExecuteTime": {
     "end_time": "2023-11-24T06:23:48.183247Z",
     "start_time": "2023-11-24T06:23:48.164118Z"
    }
   },
   "outputs": [
    {
     "data": {
      "text/html": [
       "<div>\n",
       "<style scoped>\n",
       "    .dataframe tbody tr th:only-of-type {\n",
       "        vertical-align: middle;\n",
       "    }\n",
       "\n",
       "    .dataframe tbody tr th {\n",
       "        vertical-align: top;\n",
       "    }\n",
       "\n",
       "    .dataframe thead th {\n",
       "        text-align: right;\n",
       "    }\n",
       "</style>\n",
       "<table border=\"1\" class=\"dataframe\">\n",
       "  <thead>\n",
       "    <tr style=\"text-align: right;\">\n",
       "      <th></th>\n",
       "      <th>From Date</th>\n",
       "      <th>To Date</th>\n",
       "      <th>PM2.5</th>\n",
       "      <th>PM10</th>\n",
       "      <th>NO</th>\n",
       "      <th>NO2</th>\n",
       "      <th>NOx</th>\n",
       "      <th>CO</th>\n",
       "      <th>Ozone</th>\n",
       "    </tr>\n",
       "  </thead>\n",
       "  <tbody>\n",
       "    <tr>\n",
       "      <th>1</th>\n",
       "      <td>05-03-2020 00:00</td>\n",
       "      <td>06-03-2020 00:00</td>\n",
       "      <td>36.51</td>\n",
       "      <td>73.15</td>\n",
       "      <td>5.91</td>\n",
       "      <td>24.28</td>\n",
       "      <td>30.19</td>\n",
       "      <td>0.51</td>\n",
       "      <td>71.07</td>\n",
       "    </tr>\n",
       "    <tr>\n",
       "      <th>2</th>\n",
       "      <td>06-03-2020 00:00</td>\n",
       "      <td>07-03-2020 00:00</td>\n",
       "      <td>22.23</td>\n",
       "      <td>39.15</td>\n",
       "      <td>5.89</td>\n",
       "      <td>23.24</td>\n",
       "      <td>29.12</td>\n",
       "      <td>0.45</td>\n",
       "      <td>55.32</td>\n",
       "    </tr>\n",
       "    <tr>\n",
       "      <th>3</th>\n",
       "      <td>07-03-2020 00:00</td>\n",
       "      <td>08-03-2020 00:00</td>\n",
       "      <td>41.44</td>\n",
       "      <td>77.68</td>\n",
       "      <td>8.54</td>\n",
       "      <td>21.67</td>\n",
       "      <td>30.2</td>\n",
       "      <td>0.63</td>\n",
       "      <td>46.15</td>\n",
       "    </tr>\n",
       "    <tr>\n",
       "      <th>4</th>\n",
       "      <td>08-03-2020 00:00</td>\n",
       "      <td>09-03-2020 00:00</td>\n",
       "      <td>62.64</td>\n",
       "      <td>130.39</td>\n",
       "      <td>18.77</td>\n",
       "      <td>24.16</td>\n",
       "      <td>42.94</td>\n",
       "      <td>0.86</td>\n",
       "      <td>41.67</td>\n",
       "    </tr>\n",
       "    <tr>\n",
       "      <th>5</th>\n",
       "      <td>09-03-2020 00:00</td>\n",
       "      <td>10-03-2020 00:00</td>\n",
       "      <td>83.74</td>\n",
       "      <td>127.54</td>\n",
       "      <td>4.88</td>\n",
       "      <td>22.1</td>\n",
       "      <td>26.98</td>\n",
       "      <td>0.68</td>\n",
       "      <td>49.61</td>\n",
       "    </tr>\n",
       "    <tr>\n",
       "      <th>...</th>\n",
       "      <td>...</td>\n",
       "      <td>...</td>\n",
       "      <td>...</td>\n",
       "      <td>...</td>\n",
       "      <td>...</td>\n",
       "      <td>...</td>\n",
       "      <td>...</td>\n",
       "      <td>...</td>\n",
       "      <td>...</td>\n",
       "    </tr>\n",
       "    <tr>\n",
       "      <th>1355</th>\n",
       "      <td>19-11-2023 00:00</td>\n",
       "      <td>20-11-2023 00:00</td>\n",
       "      <td>149.81</td>\n",
       "      <td>234.32</td>\n",
       "      <td>16.35</td>\n",
       "      <td>15.63</td>\n",
       "      <td>20.79</td>\n",
       "      <td>1.87</td>\n",
       "      <td>10.31</td>\n",
       "    </tr>\n",
       "    <tr>\n",
       "      <th>1356</th>\n",
       "      <td>20-11-2023 00:00</td>\n",
       "      <td>21-11-2023 00:00</td>\n",
       "      <td>177.53</td>\n",
       "      <td>321.96</td>\n",
       "      <td>15.1</td>\n",
       "      <td>11.77</td>\n",
       "      <td>19.21</td>\n",
       "      <td>2.51</td>\n",
       "      <td>34.88</td>\n",
       "    </tr>\n",
       "    <tr>\n",
       "      <th>1357</th>\n",
       "      <td>21-11-2023 00:00</td>\n",
       "      <td>22-11-2023 00:00</td>\n",
       "      <td>150.27</td>\n",
       "      <td>222.25</td>\n",
       "      <td>15.1</td>\n",
       "      <td>11.78</td>\n",
       "      <td>19.21</td>\n",
       "      <td>2.27</td>\n",
       "      <td>49.94</td>\n",
       "    </tr>\n",
       "    <tr>\n",
       "      <th>1358</th>\n",
       "      <td>22-11-2023 00:00</td>\n",
       "      <td>23-11-2023 00:00</td>\n",
       "      <td>173</td>\n",
       "      <td>281.5</td>\n",
       "      <td>15.1</td>\n",
       "      <td>11.77</td>\n",
       "      <td>19.21</td>\n",
       "      <td>1.93</td>\n",
       "      <td>49.94</td>\n",
       "    </tr>\n",
       "    <tr>\n",
       "      <th>1359</th>\n",
       "      <td>23-11-2023 00:00</td>\n",
       "      <td>23-11-2023 00:00</td>\n",
       "      <td>256.99</td>\n",
       "      <td>803.59</td>\n",
       "      <td>15.99</td>\n",
       "      <td>14.23</td>\n",
       "      <td>16.59</td>\n",
       "      <td>5.1</td>\n",
       "      <td>34.88</td>\n",
       "    </tr>\n",
       "  </tbody>\n",
       "</table>\n",
       "<p>1359 rows × 9 columns</p>\n",
       "</div>"
      ],
      "text/plain": [
       "             From Date           To Date   PM2.5    PM10     NO    NO2    NOx  \\\n",
       "1     05-03-2020 00:00  06-03-2020 00:00   36.51   73.15   5.91  24.28  30.19   \n",
       "2     06-03-2020 00:00  07-03-2020 00:00   22.23   39.15   5.89  23.24  29.12   \n",
       "3     07-03-2020 00:00  08-03-2020 00:00   41.44   77.68   8.54  21.67   30.2   \n",
       "4     08-03-2020 00:00  09-03-2020 00:00   62.64  130.39  18.77  24.16  42.94   \n",
       "5     09-03-2020 00:00  10-03-2020 00:00   83.74  127.54   4.88   22.1  26.98   \n",
       "...                ...               ...     ...     ...    ...    ...    ...   \n",
       "1355  19-11-2023 00:00  20-11-2023 00:00  149.81  234.32  16.35  15.63  20.79   \n",
       "1356  20-11-2023 00:00  21-11-2023 00:00  177.53  321.96   15.1  11.77  19.21   \n",
       "1357  21-11-2023 00:00  22-11-2023 00:00  150.27  222.25   15.1  11.78  19.21   \n",
       "1358  22-11-2023 00:00  23-11-2023 00:00     173   281.5   15.1  11.77  19.21   \n",
       "1359  23-11-2023 00:00  23-11-2023 00:00  256.99  803.59  15.99  14.23  16.59   \n",
       "\n",
       "        CO  Ozone  \n",
       "1     0.51  71.07  \n",
       "2     0.45  55.32  \n",
       "3     0.63  46.15  \n",
       "4     0.86  41.67  \n",
       "5     0.68  49.61  \n",
       "...    ...    ...  \n",
       "1355  1.87  10.31  \n",
       "1356  2.51  34.88  \n",
       "1357  2.27  49.94  \n",
       "1358  1.93  49.94  \n",
       "1359   5.1  34.88  \n",
       "\n",
       "[1359 rows x 9 columns]"
      ]
     },
     "execution_count": 11,
     "metadata": {},
     "output_type": "execute_result"
    }
   ],
   "source": [
    "sector_51"
   ]
  },
  {
   "cell_type": "code",
   "execution_count": null,
   "id": "6846b260",
   "metadata": {},
   "outputs": [],
   "source": []
  }
 ],
 "metadata": {
  "kernelspec": {
   "display_name": "Python 3 (ipykernel)",
   "language": "python",
   "name": "python3"
  },
  "language_info": {
   "codemirror_mode": {
    "name": "ipython",
    "version": 3
   },
   "file_extension": ".py",
   "mimetype": "text/x-python",
   "name": "python",
   "nbconvert_exporter": "python",
   "pygments_lexer": "ipython3",
   "version": "3.10.2"
  },
  "varInspector": {
   "cols": {
    "lenName": 16,
    "lenType": 16,
    "lenVar": 40
   },
   "kernels_config": {
    "python": {
     "delete_cmd_postfix": "",
     "delete_cmd_prefix": "del ",
     "library": "var_list.py",
     "varRefreshCmd": "print(var_dic_list())"
    },
    "r": {
     "delete_cmd_postfix": ") ",
     "delete_cmd_prefix": "rm(",
     "library": "var_list.r",
     "varRefreshCmd": "cat(var_dic_list()) "
    }
   },
   "types_to_exclude": [
    "module",
    "function",
    "builtin_function_or_method",
    "instance",
    "_Feature"
   ],
   "window_display": false
  }
 },
 "nbformat": 4,
 "nbformat_minor": 5
}
